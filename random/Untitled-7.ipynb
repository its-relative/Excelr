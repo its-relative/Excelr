{
 "cells": [
  {
   "cell_type": "code",
   "execution_count": 5,
   "metadata": {},
   "outputs": [],
   "source": [
    "import pandas as pd\n",
    "import numpy as np"
   ]
  },
  {
   "cell_type": "code",
   "execution_count": 15,
   "metadata": {},
   "outputs": [
    {
     "ename": "NameError",
     "evalue": "name 'Q3' is not defined",
     "output_type": "error",
     "traceback": [
      "\u001b[0;31m---------------------------------------------------------------------------\u001b[0m",
      "\u001b[0;31mNameError\u001b[0m                                 Traceback (most recent call last)",
      "\u001b[1;32m/home/its_relative/folder/in_git_hub/Data-Structures-and-Algorithms/excelr/Untitled-7.ipynb Cell 2\u001b[0m line \u001b[0;36m1\n\u001b[1;32m     <a href='vscode-notebook-cell:/home/its_relative/folder/in_git_hub/Data-Structures-and-Algorithms/excelr/Untitled-7.ipynb#W0sZmlsZQ%3D%3D?line=12'>13</a>\u001b[0m     \u001b[39mreturn\u001b[39;00m [l_high,l_low]\n\u001b[1;32m     <a href='vscode-notebook-cell:/home/its_relative/folder/in_git_hub/Data-Structures-and-Algorithms/excelr/Untitled-7.ipynb#W0sZmlsZQ%3D%3D?line=13'>14</a>\u001b[0m df \u001b[39m=\u001b[39m pd\u001b[39m.\u001b[39mDataFrame(np\u001b[39m.\u001b[39mrandom\u001b[39m.\u001b[39mrand(\u001b[39m10\u001b[39m, \u001b[39m5\u001b[39m))\n\u001b[0;32m---> <a href='vscode-notebook-cell:/home/its_relative/folder/in_git_hub/Data-Structures-and-Algorithms/excelr/Untitled-7.ipynb#W0sZmlsZQ%3D%3D?line=14'>15</a>\u001b[0m result \u001b[39m=\u001b[39m outliers(\u001b[39m1\u001b[39;49m)\n\u001b[1;32m     <a href='vscode-notebook-cell:/home/its_relative/folder/in_git_hub/Data-Structures-and-Algorithms/excelr/Untitled-7.ipynb#W0sZmlsZQ%3D%3D?line=16'>17</a>\u001b[0m \u001b[39mprint\u001b[39m(result)\n",
      "\u001b[1;32m/home/its_relative/folder/in_git_hub/Data-Structures-and-Algorithms/excelr/Untitled-7.ipynb Cell 2\u001b[0m line \u001b[0;36m7\n\u001b[1;32m      <a href='vscode-notebook-cell:/home/its_relative/folder/in_git_hub/Data-Structures-and-Algorithms/excelr/Untitled-7.ipynb#W0sZmlsZQ%3D%3D?line=4'>5</a>\u001b[0m l_low \u001b[39m=\u001b[39m []\n\u001b[1;32m      <a href='vscode-notebook-cell:/home/its_relative/folder/in_git_hub/Data-Structures-and-Algorithms/excelr/Untitled-7.ipynb#W0sZmlsZQ%3D%3D?line=5'>6</a>\u001b[0m l_high \u001b[39m=\u001b[39m []\n\u001b[0;32m----> <a href='vscode-notebook-cell:/home/its_relative/folder/in_git_hub/Data-Structures-and-Algorithms/excelr/Untitled-7.ipynb#W0sZmlsZQ%3D%3D?line=6'>7</a>\u001b[0m IQR \u001b[39m=\u001b[39m Q3 \u001b[39m-\u001b[39m Q1\n\u001b[1;32m      <a href='vscode-notebook-cell:/home/its_relative/folder/in_git_hub/Data-Structures-and-Algorithms/excelr/Untitled-7.ipynb#W0sZmlsZQ%3D%3D?line=7'>8</a>\u001b[0m \u001b[39mif\u001b[39;00m \u001b[39many\u001b[39m(df[col] \u001b[39m>\u001b[39m df\u001b[39m.\u001b[39mdescribe()\u001b[39m.\u001b[39mloc[\u001b[39m\"\u001b[39m\u001b[39mmax\u001b[39m\u001b[39m\"\u001b[39m, col]):\n\u001b[1;32m      <a href='vscode-notebook-cell:/home/its_relative/folder/in_git_hub/Data-Structures-and-Algorithms/excelr/Untitled-7.ipynb#W0sZmlsZQ%3D%3D?line=8'>9</a>\u001b[0m     l_high \u001b[39m=\u001b[39m \u001b[39mlist\u001b[39m(df\u001b[39m.\u001b[39mdropna(subset\u001b[39m=\u001b[39m(df[df[col] \u001b[39m>\u001b[39m df\u001b[39m.\u001b[39mdescribe()\u001b[39m.\u001b[39mloc[\u001b[39m\"\u001b[39m\u001b[39m75\u001b[39m\u001b[39m%\u001b[39m\u001b[39m\"\u001b[39m, col]]),axis \u001b[39m=\u001b[39m \u001b[39m0\u001b[39m))\n",
      "\u001b[0;31mNameError\u001b[0m: name 'Q3' is not defined"
     ]
    }
   ],
   "source": [
    "import pandas as pd\n",
    "import numpy as np\n",
    "\n",
    "def outliers(col):\n",
    "    l_low = []\n",
    "    l_high = []\n",
    "    IQR = Q3 - Q1\n",
    "    if any(df[col] > df.describe().loc[\"max\", col]):\n",
    "        l_high = list(df.dropna(subset=(df[df[col] > df.describe().loc[\"75%\", col]]),axis = 0))\n",
    "\n",
    "    elif any(df[col] < df.describe().loc[\"min\", col]):\n",
    "        l_low = list(df.dropna(subset = (df[df[col] > df.describe().loc[\"75%\", col]]),axis = 0))\n",
    "    return [l_high,l_low]\n",
    "df = pd.DataFrame(np.random.rand(10, 5))\n",
    "result = outliers(1)\n",
    "\n",
    "print(result)\n"
   ]
  },
  {
   "cell_type": "code",
   "execution_count": null,
   "metadata": {},
   "outputs": [],
   "source": [
    "def detect_outliers_iqr(data, col):\n",
    "    # Calculate Q1, Q3, and IQR\n",
    "    Q1 = data[col].loc(\"25%\")\n",
    "    Q3 = data[col].loc(\"75%\")\n",
    "    IQR = Q3 - Q1\n",
    "    \n",
    "    # Define the threshold for outliers\n",
    "    lower_bound = Q1 - 1.5 * IQR\n",
    "    upper_bound = Q3 + 1.5 * IQR\n",
    "    \n",
    "    # Identify outliers\n",
    "    high_outliers = data[(data[col] < lower_bound)]\n",
    "    low_outliers = data[(data[col] < lower_bound)]\n",
    "    return [high_outliers,low_outliers]\n",
    "\n"
   ]
  }
 ],
 "metadata": {
  "kernelspec": {
   "display_name": "Python 3",
   "language": "python",
   "name": "python3"
  },
  "language_info": {
   "codemirror_mode": {
    "name": "ipython",
    "version": 3
   },
   "file_extension": ".py",
   "mimetype": "text/x-python",
   "name": "python",
   "nbconvert_exporter": "python",
   "pygments_lexer": "ipython3",
   "version": "3.10.12"
  }
 },
 "nbformat": 4,
 "nbformat_minor": 2
}
