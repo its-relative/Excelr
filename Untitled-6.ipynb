{
 "cells": [
  {
   "cell_type": "code",
   "execution_count": 2,
   "metadata": {},
   "outputs": [
    {
     "data": {
      "text/plain": [
       "1532"
      ]
     },
     "execution_count": 2,
     "metadata": {},
     "output_type": "execute_result"
    }
   ],
   "source": [
    "# *args are used to pass (non-worded) arguments as a tuple:\n",
    "\n",
    "def add_numbers(*args): # args ----> tuple (3,4,5)\n",
    "    result = 0\n",
    "    for i in args:\n",
    "        result += i\n",
    "    return result\n",
    "\n",
    "# add_numbers(3,4,5,6)\n",
    "# add_numbers(6,7,4,3434,5656,3432)\n",
    "add_numbers(56,342,234,46,767,87)\n"
   ]
  },
  {
   "cell_type": "code",
   "execution_count": 3,
   "metadata": {},
   "outputs": [
    {
     "name": "stdout",
     "output_type": "stream",
     "text": [
      "name Manohar\n",
      "location Hyderabad\n",
      "hobby reading\n",
      "score 90\n",
      "name Manohar\n",
      "location Hyderabad\n",
      "hobby reading\n"
     ]
    }
   ],
   "source": [
    "# **kwargs is used to pass variable-length (key-worded) arguments to a function\n",
    "\n",
    "def print_values(**kwargs):\n",
    "    for key, val in kwargs.items():\n",
    "        print(key, val)\n",
    "    \n",
    "print_values(name = \"Manohar\", location = \"Hyderabad\", hobby = \"reading\", score = 90)\n",
    "print_values(name = \"Manohar\", location = \"Hyderabad\", hobby = \"reading\")"
   ]
  },
  {
   "cell_type": "code",
   "execution_count": 4,
   "metadata": {},
   "outputs": [
    {
     "data": {
      "text/plain": [
       "['Roses', 'are', 'red']"
      ]
     },
     "execution_count": 4,
     "metadata": {},
     "output_type": "execute_result"
    }
   ],
   "source": [
    "# lambda expressions:\n",
    "\n",
    "def getwords(sent):\n",
    "    return sent.split()\n",
    "\n",
    "getwords(\"Roses are red\")"
   ]
  },
  {
   "cell_type": "code",
   "execution_count": 5,
   "metadata": {},
   "outputs": [
    {
     "data": {
      "text/plain": [
       "['Quick', 'brown', 'fox', 'jumped']"
      ]
     },
     "execution_count": 5,
     "metadata": {},
     "output_type": "execute_result"
    }
   ],
   "source": [
    "words = lambda sent : sent.split() #single-line anonymous python functions\n",
    "words(\"Roses are red\")\n",
    "words(\"Quick brown fox jumped\")"
   ]
  },
  {
   "cell_type": "code",
   "execution_count": 6,
   "metadata": {},
   "outputs": [
    {
     "data": {
      "text/plain": [
       "[100, 144]"
      ]
     },
     "execution_count": 6,
     "metadata": {},
     "output_type": "execute_result"
    }
   ],
   "source": [
    "squares = lambda *lit : [l**2 for l in lit] \n",
    "\n",
    "squares(10,12)"
   ]
  },
  {
   "cell_type": "code",
   "execution_count": 7,
   "metadata": {},
   "outputs": [
    {
     "data": {
      "text/plain": [
       "7"
      ]
     },
     "execution_count": 7,
     "metadata": {},
     "output_type": "execute_result"
    }
   ],
   "source": [
    "add_lambda = lambda x, y : x + y\n",
    "\n",
    "add_lambda(2,5)"
   ]
  },
  {
   "cell_type": "code",
   "execution_count": 8,
   "metadata": {},
   "outputs": [
    {
     "data": {
      "text/plain": [
       "8"
      ]
     },
     "execution_count": 8,
     "metadata": {},
     "output_type": "execute_result"
    }
   ],
   "source": [
    "def adder(x,y):\n",
    "    return  x + y\n",
    "\n",
    "adder(2,6)\n",
    "# rest = 0\n",
    "# nos = lambda *l : [ele for ele in l]\n",
    "\n",
    "# nos(2,3,4,5,6,7)\n",
    "\n"
   ]
  },
  {
   "cell_type": "code",
   "execution_count": 9,
   "metadata": {},
   "outputs": [
    {
     "ename": "NameError",
     "evalue": "name 'nums' is not defined",
     "output_type": "error",
     "traceback": [
      "\u001b[0;31m---------------------------------------------------------------------------\u001b[0m",
      "\u001b[0;31mNameError\u001b[0m                                 Traceback (most recent call last)",
      "\u001b[1;32m/home/its_relative/folder/in_git_hub/Data-Structures-and-Algorithms/excelr/Untitled-6.ipynb Cell 8\u001b[0m line \u001b[0;36m1\n\u001b[0;32m----> <a href='vscode-notebook-cell:/home/its_relative/folder/in_git_hub/Data-Structures-and-Algorithms/excelr/Untitled-6.ipynb#X10sZmlsZQ%3D%3D?line=0'>1</a>\u001b[0m nums \u001b[39m=\u001b[39m \u001b[39mlist\u001b[39m(\u001b[39mfilter\u001b[39m(\u001b[39mlambda\u001b[39;00m \u001b[39m*\u001b[39mx : x \u001b[39m%\u001b[39m\u001b[39m2\u001b[39m , \u001b[39m*\u001b[39mnums))\n\u001b[1;32m      <a href='vscode-notebook-cell:/home/its_relative/folder/in_git_hub/Data-Structures-and-Algorithms/excelr/Untitled-6.ipynb#X10sZmlsZQ%3D%3D?line=2'>3</a>\u001b[0m nums(\u001b[39m1\u001b[39m,\u001b[39m2\u001b[39m,\u001b[39m3\u001b[39m,\u001b[39m4\u001b[39m,\u001b[39m5\u001b[39m,\u001b[39m6\u001b[39m,\u001b[39m7\u001b[39m,\u001b[39m8\u001b[39m,\u001b[39m9\u001b[39m)\n",
      "\u001b[0;31mNameError\u001b[0m: name 'nums' is not defined"
     ]
    }
   ],
   "source": [
    "nums = list(filter(lambda *x : x %2 , *nums))\n",
    "\n",
    "nums(1,2,3,4,5,6,7,8,9)"
   ]
  },
  {
   "cell_type": "code",
   "execution_count": 14,
   "metadata": {},
   "outputs": [
    {
     "name": "stdout",
     "output_type": "stream",
     "text": [
      "[2, 4, 6, 8]\n"
     ]
    }
   ],
   "source": [
    "# nums = list(filter(lambda *x : y %2 for y in x))\n",
    "taken_list = [1,2,3,4,5,6,7,8,9]\n",
    "numr = list(filter(lambda *x : [i for i in x if i %2 == 0 ], taken_list ))\n",
    "result = numr\n",
    "print(result)\n",
    "# how can i pass the list of numbers directly without \n",
    "# passing them in nums rather passing in this format like -->\n",
    "# nums(1,2,3,4,5,6,7,8,9)"
   ]
  },
  {
   "cell_type": "code",
   "execution_count": null,
   "metadata": {},
   "outputs": [
    {
     "name": "stdout",
     "output_type": "stream",
     "text": [
      "[2, 4, 6, 8]\n"
     ]
    }
   ],
   "source": [
    "nums = (lambda *x :[y for y  in x if y% 2 == 0 ])\n",
    "result = nums(1,2,3,4,5,6,7,8,9)\n",
    "# nums(1,2,3,4,5,6,7,8,9)\n",
    "print(result)"
   ]
  },
  {
   "cell_type": "code",
   "execution_count": null,
   "metadata": {},
   "outputs": [
    {
     "name": "stdout",
     "output_type": "stream",
     "text": [
      "6\n"
     ]
    }
   ],
   "source": [
    "mul = lambda x, y : x * y\n",
    "results = mul(2,3)\n",
    "print(results)"
   ]
  },
  {
   "cell_type": "code",
   "execution_count": null,
   "metadata": {},
   "outputs": [
    {
     "name": "stdout",
     "output_type": "stream",
     "text": [
      "5\n"
     ]
    }
   ],
   "source": [
    "ad = lambda x,y : x+y\n",
    "results = ad(2,3)\n",
    "print(results)"
   ]
  },
  {
   "cell_type": "code",
   "execution_count": null,
   "metadata": {},
   "outputs": [
    {
     "name": "stdout",
     "output_type": "stream",
     "text": [
      "1\n"
     ]
    }
   ],
   "source": [
    "sub = lambda x, y : x- y\n",
    "results = sub(3,2)\n",
    "print(results)"
   ]
  },
  {
   "cell_type": "markdown",
   "metadata": {},
   "source": [
    "Filtering with Lambda (5 minutes):\n",
    "\n",
    "Introduce the concept of filtering with lambda functions.\n",
    "\n",
    "Create a lambda function to filter a list of numbers for even or odd values.\n",
    "\n",
    "Practice using this function with different lists."
   ]
  },
  {
   "cell_type": "code",
   "execution_count": 15,
   "metadata": {},
   "outputs": [
    {
     "name": "stdout",
     "output_type": "stream",
     "text": [
      "[1, 2, 3, 4, 5, 6, 7, 8, 9, 10]\n"
     ]
    }
   ],
   "source": [
    "givn_list = [1,2,3,4,5,6,7,8,9,10]\n",
    "even = list(filter(lambda *x : [i for i in givn_list if i % 2 == 0 ], givn_list))\n",
    "print(even)\n"
   ]
  },
  {
   "cell_type": "code",
   "execution_count": null,
   "metadata": {},
   "outputs": [
    {
     "name": "stdout",
     "output_type": "stream",
     "text": [
      "[2, 4, 6, 8, 10]\n"
     ]
    }
   ],
   "source": [
    "even_sort = list(filter(lambda x : x%2 == 0, givn_list))\n",
    "print(even_sort)"
   ]
  },
  {
   "cell_type": "code",
   "execution_count": null,
   "metadata": {},
   "outputs": [
    {
     "name": "stdout",
     "output_type": "stream",
     "text": [
      "[1, 3, 5, 7, 9]\n"
     ]
    }
   ],
   "source": [
    "odd_sort = list(filter(lambda x : x%2 != 0, givn_list))\n",
    "print(odd_sort)"
   ]
  },
  {
   "cell_type": "code",
   "execution_count": null,
   "metadata": {},
   "outputs": [
    {
     "name": "stdout",
     "output_type": "stream",
     "text": [
      "[2, 4, 6, 8, 10]\n"
     ]
    }
   ],
   "source": [
    "givn_list\n",
    "odder = list(filter(lambda *x : [i for i in x if i %2 ==0], givn_list))\n",
    "print(odder)"
   ]
  },
  {
   "cell_type": "code",
   "execution_count": null,
   "metadata": {},
   "outputs": [
    {
     "name": "stdout",
     "output_type": "stream",
     "text": [
      "[2, 4, 6, 8, 10]\n"
     ]
    }
   ],
   "source": [
    "check_odd = list(filter(lambda *givn_list: [i for i in givn_list if i %2 == 0],givn_list))\n",
    "print(check_odd)"
   ]
  },
  {
   "cell_type": "code",
   "execution_count": 16,
   "metadata": {},
   "outputs": [
    {
     "name": "stdout",
     "output_type": "stream",
     "text": [
      "[1, 3, 5, 7, 9]\n"
     ]
    }
   ],
   "source": [
    "printer = list(filter(lambda x: x%2 != 0, givn_list))\n",
    "print(printer)"
   ]
  },
  {
   "cell_type": "code",
   "execution_count": 25,
   "metadata": {},
   "outputs": [
    {
     "data": {
      "text/plain": [
       "['I', 'AM', 'ENROLLED', 'IN', 'DATA', 'SCIENCE', 'COURSE']"
      ]
     },
     "execution_count": 25,
     "metadata": {},
     "output_type": "execute_result"
    }
   ],
   "source": [
    "s = \"I am enrolled in Data Science Course\"\n",
    "conv_text = s.split()\n",
    "conv_text\n",
    "# now lets convert all those into upper case\n",
    "[i.upper() for i in conv_text]"
   ]
  },
  {
   "cell_type": "code",
   "execution_count": 49,
   "metadata": {},
   "outputs": [],
   "source": [
    "# lets define a funciton to split words in a sentence\n",
    "\n",
    "def splitter(sent):\n",
    "    store_list = []    \n",
    "    store_string = \"\"\n",
    "    # store_list = [store_string += i if i != \" \" else store_list.append(store_string), store_string = \"\"  for i ]\n",
    "    for i in sent:\n",
    "        if i != \" \":\n",
    "        # if i not in [\" \",\".\",\",\"]\n",
    "            store_string += i\n",
    "        else:\n",
    "            store_list.append(store_string)\n",
    "            store_string = \"\"\n",
    "\n",
    "    if store_string:\n",
    "        store_list.append(store_string)\n",
    "    return store_list\n",
    "\n",
    "# def splitter(sent):\n",
    "#     store_list = []    \n",
    "#     store_string = \"\"\n",
    "#     # store_list = [store_string += i if i != \" \" else store_list.append(store_string), store_string = \"\"  for i ]\n",
    "#     for i in sent:\n",
    "#         if i != \" \":\n",
    "#         # if i not in [\" \",\".\",\",\"]\n",
    "#             store_string += i\n",
    "#         # if store_string :\n",
    "#         #     store_list.append(store_string)\n",
    "#         #     store_string = \"\"\n",
    "\n",
    "#         # elif store_string :\n",
    "#             # store_list.append(store_string)\n",
    "#             # store_string = \"\"\n",
    "\n",
    "#         # else:\n",
    "#             # store_list.append(store_string)\n",
    "#             # store_string = \"\"\n",
    "\n",
    "#     return store_list\n",
    "\n",
    "\n",
    "# s = \"I am enrolled in Data Science Course. Lets see what happens now, lets try this.\"\n",
    "s = \"I am enrolled in Data Science Course.\"\n",
    "\n",
    "if s.split() != splitter(s):\n",
    "    print(s.split(),\"\\n\",splitter(s))\n",
    "\n"
   ]
  },
  {
   "cell_type": "code",
   "execution_count": 51,
   "metadata": {},
   "outputs": [
    {
     "name": "stdout",
     "output_type": "stream",
     "text": [
      "Looks fine to me\n",
      "['I', 'am', 'enrolled', 'in', 'Data', 'Science', 'Course.'] ['I', 'am', 'enrolled', 'in', 'Data', 'Science', 'Course.']\n"
     ]
    }
   ],
   "source": [
    "# lets define a funciton to split words in a sentence\n",
    "\n",
    "def splitter(sent):\n",
    "    store_list = []    \n",
    "    store_string = \"\"\n",
    "    # store_list = [store_string += i if i != \" \" else store_list.append(store_string), store_string = \"\"  for i ]\n",
    "    for i in sent:\n",
    "        if i != \" \":\n",
    "        # if i not in [\" \",\".\",\",\"]\n",
    "            store_string += i\n",
    "        else:\n",
    "            store_list.append(store_string)\n",
    "            store_string = \"\"\n",
    "\n",
    "    if store_string:\n",
    "        store_list.append(store_string)\n",
    "    return store_list\n",
    "\n",
    "s = \"I am enrolled in Data Science Course.\"\n",
    "\n",
    "if s.split() != splitter(s):\n",
    "    print(s.split(),\"\\n\",splitter(s))\n",
    "else:\n",
    "    print(\"Looks fine to me\")\n",
    "    print(s.split(),splitter(s))\n",
    "\n",
    "\n"
   ]
  },
  {
   "cell_type": "code",
   "execution_count": 42,
   "metadata": {},
   "outputs": [
    {
     "name": "stdout",
     "output_type": "stream",
     "text": [
      "Yes\n"
     ]
    }
   ],
   "source": [
    "checker = \"What\"\n",
    "if checker == True:\n",
    "    print(\"No not this but it should be just i checker\")\n",
    "elif checker:\n",
    "    print(\"Yes\")\n"
   ]
  }
 ],
 "metadata": {
  "kernelspec": {
   "display_name": "Python 3",
   "language": "python",
   "name": "python3"
  },
  "language_info": {
   "codemirror_mode": {
    "name": "ipython",
    "version": 3
   },
   "file_extension": ".py",
   "mimetype": "text/x-python",
   "name": "python",
   "nbconvert_exporter": "python",
   "pygments_lexer": "ipython3",
   "version": "3.10.12"
  }
 },
 "nbformat": 4,
 "nbformat_minor": 2
}
