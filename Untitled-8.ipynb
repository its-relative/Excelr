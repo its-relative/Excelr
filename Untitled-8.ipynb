{
 "cells": [
  {
   "cell_type": "markdown",
   "metadata": {},
   "source": [
    "Chi-Square test ----> Hypothesis Testing ----> To test for the correlation between two categoriacal variables.\n",
    "\n",
    "Steps for a Hypothesis test:\n",
    "1. Null Hypothesis(H0) : No Correlation exists between the two variables.\n",
    "2. Alternate hypothesis(h1): Correlation eixsts.\n",
    "3. Confidence level = 0.95, Significance Level: 0.05 = 1- confidence level.\n",
    "4. Collect all the evidence.\n",
    "5. calculate the chi-square test statistics and p-value.\n",
    "6. Conclude : if p-value from step-5 < significance level(0.05), Reject H0\n",
    "            : if p-value form step-5 > sigificance level(0.05), Fail to reject H0"
   ]
  },
  {
   "cell_type": "code",
   "execution_count": 1,
   "metadata": {},
   "outputs": [
    {
     "ename": "NameError",
     "evalue": "name 'observed_table' is not defined",
     "output_type": "error",
     "traceback": [
      "\u001b[0;31m---------------------------------------------------------------------------\u001b[0m",
      "\u001b[0;31mNameError\u001b[0m                                 Traceback (most recent call last)",
      "\u001b[1;32m/home/its_relative/folder/in_git_hub/Data-Structures-and-Algorithms/excelr/Untitled-8.ipynb Cell 2\u001b[0m line \u001b[0;36m2\n\u001b[1;32m      <a href='vscode-notebook-cell:/home/its_relative/folder/in_git_hub/Data-Structures-and-Algorithms/excelr/Untitled-8.ipynb#W3sZmlsZQ%3D%3D?line=0'>1</a>\u001b[0m \u001b[39mfrom\u001b[39;00m \u001b[39mscipy\u001b[39;00m\u001b[39m.\u001b[39;00m\u001b[39mstats\u001b[39;00m \u001b[39mimport\u001b[39;00m chi2_contingency\n\u001b[0;32m----> <a href='vscode-notebook-cell:/home/its_relative/folder/in_git_hub/Data-Structures-and-Algorithms/excelr/Untitled-8.ipynb#W3sZmlsZQ%3D%3D?line=1'>2</a>\u001b[0m observed_table\n",
      "\u001b[0;31mNameError\u001b[0m: name 'observed_table' is not defined"
     ]
    }
   ],
   "source": [
    "from scipy.stats import chi2_contingency\n",
    "# observed_table\n",
    "# don't know how to apply chi2_contingency and anova and pearson correlation"
   ]
  },
  {
   "cell_type": "code",
   "execution_count": 3,
   "metadata": {},
   "outputs": [],
   "source": [
    "import pandas as pd\n",
    "import numpy as np"
   ]
  },
  {
   "cell_type": "code",
   "execution_count": 26,
   "metadata": {},
   "outputs": [],
   "source": [
    "df = pd.DataFrame(np.random.randint(1,100,(11,21)))"
   ]
  },
  {
   "cell_type": "code",
   "execution_count": 12,
   "metadata": {},
   "outputs": [],
   "source": [
    "# df.columns = list(\"a\")"
   ]
  },
  {
   "cell_type": "code",
   "execution_count": 34,
   "metadata": {},
   "outputs": [],
   "source": [
    "df2 = df.iloc[4:11,10:21]"
   ]
  },
  {
   "cell_type": "code",
   "execution_count": 35,
   "metadata": {},
   "outputs": [
    {
     "data": {
      "text/html": [
       "<div>\n",
       "<style scoped>\n",
       "    .dataframe tbody tr th:only-of-type {\n",
       "        vertical-align: middle;\n",
       "    }\n",
       "\n",
       "    .dataframe tbody tr th {\n",
       "        vertical-align: top;\n",
       "    }\n",
       "\n",
       "    .dataframe thead th {\n",
       "        text-align: right;\n",
       "    }\n",
       "</style>\n",
       "<table border=\"1\" class=\"dataframe\">\n",
       "  <thead>\n",
       "    <tr style=\"text-align: right;\">\n",
       "      <th></th>\n",
       "      <th>10</th>\n",
       "      <th>11</th>\n",
       "      <th>12</th>\n",
       "      <th>13</th>\n",
       "      <th>14</th>\n",
       "      <th>15</th>\n",
       "      <th>16</th>\n",
       "      <th>17</th>\n",
       "      <th>18</th>\n",
       "      <th>19</th>\n",
       "      <th>20</th>\n",
       "    </tr>\n",
       "  </thead>\n",
       "  <tbody>\n",
       "    <tr>\n",
       "      <th>4</th>\n",
       "      <td>20</td>\n",
       "      <td>85</td>\n",
       "      <td>58</td>\n",
       "      <td>48</td>\n",
       "      <td>28</td>\n",
       "      <td>53</td>\n",
       "      <td>54</td>\n",
       "      <td>21</td>\n",
       "      <td>17</td>\n",
       "      <td>27</td>\n",
       "      <td>73</td>\n",
       "    </tr>\n",
       "    <tr>\n",
       "      <th>5</th>\n",
       "      <td>41</td>\n",
       "      <td>78</td>\n",
       "      <td>69</td>\n",
       "      <td>64</td>\n",
       "      <td>52</td>\n",
       "      <td>54</td>\n",
       "      <td>71</td>\n",
       "      <td>19</td>\n",
       "      <td>1</td>\n",
       "      <td>70</td>\n",
       "      <td>52</td>\n",
       "    </tr>\n",
       "    <tr>\n",
       "      <th>6</th>\n",
       "      <td>20</td>\n",
       "      <td>65</td>\n",
       "      <td>61</td>\n",
       "      <td>73</td>\n",
       "      <td>84</td>\n",
       "      <td>66</td>\n",
       "      <td>37</td>\n",
       "      <td>97</td>\n",
       "      <td>32</td>\n",
       "      <td>84</td>\n",
       "      <td>34</td>\n",
       "    </tr>\n",
       "    <tr>\n",
       "      <th>7</th>\n",
       "      <td>80</td>\n",
       "      <td>74</td>\n",
       "      <td>24</td>\n",
       "      <td>65</td>\n",
       "      <td>47</td>\n",
       "      <td>66</td>\n",
       "      <td>52</td>\n",
       "      <td>82</td>\n",
       "      <td>73</td>\n",
       "      <td>11</td>\n",
       "      <td>37</td>\n",
       "    </tr>\n",
       "    <tr>\n",
       "      <th>8</th>\n",
       "      <td>66</td>\n",
       "      <td>48</td>\n",
       "      <td>13</td>\n",
       "      <td>51</td>\n",
       "      <td>81</td>\n",
       "      <td>47</td>\n",
       "      <td>76</td>\n",
       "      <td>15</td>\n",
       "      <td>6</td>\n",
       "      <td>94</td>\n",
       "      <td>37</td>\n",
       "    </tr>\n",
       "    <tr>\n",
       "      <th>9</th>\n",
       "      <td>96</td>\n",
       "      <td>54</td>\n",
       "      <td>1</td>\n",
       "      <td>19</td>\n",
       "      <td>40</td>\n",
       "      <td>54</td>\n",
       "      <td>46</td>\n",
       "      <td>21</td>\n",
       "      <td>27</td>\n",
       "      <td>3</td>\n",
       "      <td>13</td>\n",
       "    </tr>\n",
       "    <tr>\n",
       "      <th>10</th>\n",
       "      <td>82</td>\n",
       "      <td>48</td>\n",
       "      <td>4</td>\n",
       "      <td>33</td>\n",
       "      <td>70</td>\n",
       "      <td>90</td>\n",
       "      <td>36</td>\n",
       "      <td>85</td>\n",
       "      <td>73</td>\n",
       "      <td>22</td>\n",
       "      <td>81</td>\n",
       "    </tr>\n",
       "  </tbody>\n",
       "</table>\n",
       "</div>"
      ],
      "text/plain": [
       "    10  11  12  13  14  15  16  17  18  19  20\n",
       "4   20  85  58  48  28  53  54  21  17  27  73\n",
       "5   41  78  69  64  52  54  71  19   1  70  52\n",
       "6   20  65  61  73  84  66  37  97  32  84  34\n",
       "7   80  74  24  65  47  66  52  82  73  11  37\n",
       "8   66  48  13  51  81  47  76  15   6  94  37\n",
       "9   96  54   1  19  40  54  46  21  27   3  13\n",
       "10  82  48   4  33  70  90  36  85  73  22  81"
      ]
     },
     "execution_count": 35,
     "metadata": {},
     "output_type": "execute_result"
    }
   ],
   "source": [
    "df2"
   ]
  }
 ],
 "metadata": {
  "kernelspec": {
   "display_name": "Python 3",
   "language": "python",
   "name": "python3"
  },
  "language_info": {
   "codemirror_mode": {
    "name": "ipython",
    "version": 3
   },
   "file_extension": ".py",
   "mimetype": "text/x-python",
   "name": "python",
   "nbconvert_exporter": "python",
   "pygments_lexer": "ipython3",
   "version": "3.10.12"
  }
 },
 "nbformat": 4,
 "nbformat_minor": 2
}
