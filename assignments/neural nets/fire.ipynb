{
  "cells": [
    {
      "cell_type": "code",
      "execution_count": 2,
      "id": "55421c79",
      "metadata": {},
      "outputs": [],
      "source": [
        "from tensorflow.keras.models import Sequential\n",
        "from keras.layers import Dense\n",
        "import tensorflow as tf\n",
        "from tensorflow.keras.models import load_model\n",
        "from tensorflow.keras import layers\n",
        "import pandas as pd\n",
        "import numpy as np\n",
        "import keras\n",
        "from sklearn.preprocessing import StandardScaler\n",
        "from sklearn.model_selection import GridSearchCV, KFold\n",
        "from keras.layers import Dense\n",
        "from scikeras.wrappers import KerasClassifier\n",
        "from tensorflow.keras.optimizers import Adam\n",
        "from keras.layers import Dropout\n",
        "from sklearn.metrics import classification_report, accuracy_score\n",
        "from sklearn.model_selection import train_test_split\n"
      ]
    },
    {
      "cell_type": "code",
      "execution_count": 3,
      "metadata": {
        "ExecuteTime": {
          "end_time": "2022-06-24T23:13:50.497578Z",
          "start_time": "2022-06-24T23:13:50.321276Z"
        },
        "trusted": true
      },
      "outputs": [],
      "source": [
        "data=pd.read_csv('forestfires (1).csv')\n",
        "data\n",
        "df = data.copy()"
      ]
    },
    {
      "cell_type": "code",
      "execution_count": 4,
      "metadata": {
        "ExecuteTime": {
          "end_time": "2022-06-24T23:14:00.659337Z",
          "start_time": "2022-06-24T23:14:00.619214Z"
        },
        "trusted": true
      },
      "outputs": [],
      "source": [
        "df=df.drop(['month','day'],axis=1)"
      ]
    },
    {
      "cell_type": "code",
      "execution_count": 5,
      "metadata": {
        "ExecuteTime": {
          "end_time": "2022-06-24T23:14:08.361015Z",
          "start_time": "2022-06-24T23:14:08.351418Z"
        },
        "trusted": true
      },
      "outputs": [],
      "source": [
        "mapping = {'small': 1, 'large': 2}"
      ]
    },
    {
      "cell_type": "code",
      "execution_count": 6,
      "metadata": {
        "ExecuteTime": {
          "end_time": "2022-06-24T23:14:21.774996Z",
          "start_time": "2022-06-24T23:14:21.727780Z"
        },
        "trusted": true
      },
      "outputs": [],
      "source": [
        "df = df.replace(mapping)"
      ]
    },
    {
      "cell_type": "code",
      "execution_count": 7,
      "metadata": {
        "ExecuteTime": {
          "end_time": "2022-06-24T23:14:33.171237Z",
          "start_time": "2022-06-24T23:14:33.147237Z"
        },
        "trusted": true
      },
      "outputs": [],
      "source": [
        "x = np.array(df.iloc[:,0:28])\n",
        "y = np.array(df.iloc[:,28])"
      ]
    },
    {
      "cell_type": "code",
      "execution_count": 8,
      "metadata": {
        "ExecuteTime": {
          "end_time": "2022-06-24T23:14:40.044904Z",
          "start_time": "2022-06-24T23:14:40.020930Z"
        },
        "trusted": true
      },
      "outputs": [],
      "source": [
        "def norm_func(i):\n",
        "    x = (i-i.min())/(i.max()-i.min())\n",
        "    return (x)"
      ]
    },
    {
      "cell_type": "code",
      "execution_count": 9,
      "metadata": {
        "ExecuteTime": {
          "end_time": "2022-06-24T23:14:48.032345Z",
          "start_time": "2022-06-24T23:14:48.007519Z"
        },
        "trusted": true
      },
      "outputs": [],
      "source": [
        "x_norm = norm_func(x)"
      ]
    },
    {
      "cell_type": "code",
      "execution_count": 10,
      "metadata": {
        "ExecuteTime": {
          "end_time": "2022-06-24T23:14:57.573910Z",
          "start_time": "2022-06-24T23:14:57.524919Z"
        },
        "trusted": true
      },
      "outputs": [],
      "source": [
        "x_train,x_test,y_train,y_test= train_test_split(x_norm,y, test_size=0.2,stratify = y)"
      ]
    },
    {
      "cell_type": "code",
      "execution_count": 11,
      "metadata": {
        "ExecuteTime": {
          "end_time": "2022-06-24T23:15:05.368454Z",
          "start_time": "2022-06-24T23:15:05.185160Z"
        },
        "trusted": true
      },
      "outputs": [],
      "source": [
        "model = Sequential()\n",
        "model.add(Dense(8, input_dim=28, activation='linear'))\n",
        "model.add(Dense(4,  activation='tanh'))\n",
        "model.add(Dense(1,  activation='sigmoid'))"
      ]
    },
    {
      "cell_type": "code",
      "execution_count": 12,
      "metadata": {
        "ExecuteTime": {
          "end_time": "2022-06-24T23:15:13.026858Z",
          "start_time": "2022-06-24T23:15:12.969924Z"
        },
        "trusted": true
      },
      "outputs": [],
      "source": [
        "model.compile(loss='binary_crossentropy', optimizer='adam', metrics=['accuracy'])"
      ]
    },
    {
      "cell_type": "code",
      "execution_count": 13,
      "metadata": {
        "ExecuteTime": {
          "end_time": "2022-06-24T23:15:49.882464Z",
          "start_time": "2022-06-24T23:15:22.570502Z"
        },
        "trusted": true
      },
      "outputs": [
        {
          "name": "stdout",
          "output_type": "stream",
          "text": [
            "Epoch 1/120\n"
          ]
        },
        {
          "name": "stdout",
          "output_type": "stream",
          "text": [
            "29/29 [==============================] - 1s 7ms/step - loss: 0.6333 - accuracy: 0.6851 - val_loss: 0.5498 - val_accuracy: 0.7339\n",
            "Epoch 2/120\n",
            "29/29 [==============================] - 0s 2ms/step - loss: 0.4766 - accuracy: 0.7301 - val_loss: 0.3814 - val_accuracy: 0.7339\n",
            "Epoch 3/120\n",
            "29/29 [==============================] - 0s 1ms/step - loss: 0.3048 - accuracy: 0.7301 - val_loss: 0.2041 - val_accuracy: 0.7339\n",
            "Epoch 4/120\n",
            "29/29 [==============================] - 0s 2ms/step - loss: 0.1299 - accuracy: 0.7301 - val_loss: 0.0397 - val_accuracy: 0.7339\n",
            "Epoch 5/120\n",
            "29/29 [==============================] - 0s 2ms/step - loss: -0.0265 - accuracy: 0.7301 - val_loss: -0.1113 - val_accuracy: 0.7339\n",
            "Epoch 6/120\n",
            "29/29 [==============================] - 0s 2ms/step - loss: -0.1702 - accuracy: 0.7301 - val_loss: -0.2414 - val_accuracy: 0.7339\n",
            "Epoch 7/120\n",
            "29/29 [==============================] - 0s 2ms/step - loss: -0.2967 - accuracy: 0.7301 - val_loss: -0.3662 - val_accuracy: 0.7339\n",
            "Epoch 8/120\n",
            "29/29 [==============================] - 0s 2ms/step - loss: -0.4151 - accuracy: 0.7301 - val_loss: -0.4749 - val_accuracy: 0.7339\n",
            "Epoch 9/120\n",
            "29/29 [==============================] - 0s 2ms/step - loss: -0.5209 - accuracy: 0.7301 - val_loss: -0.5693 - val_accuracy: 0.7339\n",
            "Epoch 10/120\n",
            "29/29 [==============================] - 0s 2ms/step - loss: -0.6125 - accuracy: 0.7301 - val_loss: -0.6535 - val_accuracy: 0.7339\n",
            "Epoch 11/120\n",
            "29/29 [==============================] - 0s 3ms/step - loss: -0.6919 - accuracy: 0.7301 - val_loss: -0.7290 - val_accuracy: 0.7339\n",
            "Epoch 12/120\n",
            "29/29 [==============================] - 0s 2ms/step - loss: -0.7632 - accuracy: 0.7301 - val_loss: -0.7932 - val_accuracy: 0.7339\n",
            "Epoch 13/120\n",
            "29/29 [==============================] - 0s 1ms/step - loss: -0.8252 - accuracy: 0.7301 - val_loss: -0.8514 - val_accuracy: 0.7339\n",
            "Epoch 14/120\n",
            "29/29 [==============================] - 0s 1ms/step - loss: -0.8812 - accuracy: 0.7301 - val_loss: -0.9049 - val_accuracy: 0.7339\n",
            "Epoch 15/120\n",
            "29/29 [==============================] - 0s 2ms/step - loss: -0.9344 - accuracy: 0.7301 - val_loss: -0.9524 - val_accuracy: 0.7339\n",
            "Epoch 16/120\n",
            "29/29 [==============================] - 0s 2ms/step - loss: -0.9830 - accuracy: 0.7301 - val_loss: -0.9975 - val_accuracy: 0.7339\n",
            "Epoch 17/120\n",
            "29/29 [==============================] - 0s 2ms/step - loss: -1.0287 - accuracy: 0.7301 - val_loss: -1.0419 - val_accuracy: 0.7339\n",
            "Epoch 18/120\n",
            "29/29 [==============================] - 0s 2ms/step - loss: -1.0730 - accuracy: 0.7301 - val_loss: -1.0844 - val_accuracy: 0.7339\n",
            "Epoch 19/120\n",
            "29/29 [==============================] - 0s 2ms/step - loss: -1.1161 - accuracy: 0.7301 - val_loss: -1.1234 - val_accuracy: 0.7339\n",
            "Epoch 20/120\n",
            "29/29 [==============================] - 0s 2ms/step - loss: -1.1557 - accuracy: 0.7301 - val_loss: -1.1651 - val_accuracy: 0.7339\n",
            "Epoch 21/120\n",
            "29/29 [==============================] - 0s 2ms/step - loss: -1.1968 - accuracy: 0.7301 - val_loss: -1.2031 - val_accuracy: 0.7339\n",
            "Epoch 22/120\n",
            "29/29 [==============================] - 0s 2ms/step - loss: -1.2358 - accuracy: 0.7301 - val_loss: -1.2404 - val_accuracy: 0.7339\n",
            "Epoch 23/120\n",
            "29/29 [==============================] - 0s 2ms/step - loss: -1.2741 - accuracy: 0.7301 - val_loss: -1.2776 - val_accuracy: 0.7339\n",
            "Epoch 24/120\n",
            "29/29 [==============================] - 0s 2ms/step - loss: -1.3118 - accuracy: 0.7301 - val_loss: -1.3147 - val_accuracy: 0.7339\n",
            "Epoch 25/120\n",
            "29/29 [==============================] - 0s 2ms/step - loss: -1.3486 - accuracy: 0.7301 - val_loss: -1.3526 - val_accuracy: 0.7339\n",
            "Epoch 26/120\n",
            "29/29 [==============================] - 0s 1ms/step - loss: -1.3859 - accuracy: 0.7301 - val_loss: -1.3882 - val_accuracy: 0.7339\n",
            "Epoch 27/120\n",
            "29/29 [==============================] - 0s 2ms/step - loss: -1.4226 - accuracy: 0.7301 - val_loss: -1.4226 - val_accuracy: 0.7339\n",
            "Epoch 28/120\n",
            "29/29 [==============================] - 0s 2ms/step - loss: -1.4579 - accuracy: 0.7301 - val_loss: -1.4592 - val_accuracy: 0.7339\n",
            "Epoch 29/120\n",
            "29/29 [==============================] - 0s 2ms/step - loss: -1.4946 - accuracy: 0.7301 - val_loss: -1.4931 - val_accuracy: 0.7339\n",
            "Epoch 30/120\n",
            "29/29 [==============================] - 0s 2ms/step - loss: -1.5297 - accuracy: 0.7301 - val_loss: -1.5287 - val_accuracy: 0.7339\n",
            "Epoch 31/120\n",
            "29/29 [==============================] - 0s 2ms/step - loss: -1.5653 - accuracy: 0.7301 - val_loss: -1.5636 - val_accuracy: 0.7339\n",
            "Epoch 32/120\n",
            "29/29 [==============================] - 0s 2ms/step - loss: -1.6008 - accuracy: 0.7301 - val_loss: -1.5981 - val_accuracy: 0.7339\n",
            "Epoch 33/120\n",
            "29/29 [==============================] - 0s 2ms/step - loss: -1.6361 - accuracy: 0.7301 - val_loss: -1.6322 - val_accuracy: 0.7339\n",
            "Epoch 34/120\n",
            "29/29 [==============================] - 0s 2ms/step - loss: -1.6707 - accuracy: 0.7301 - val_loss: -1.6674 - val_accuracy: 0.7339\n",
            "Epoch 35/120\n",
            "29/29 [==============================] - 0s 2ms/step - loss: -1.7062 - accuracy: 0.7301 - val_loss: -1.7011 - val_accuracy: 0.7339\n",
            "Epoch 36/120\n",
            "29/29 [==============================] - 0s 2ms/step - loss: -1.7410 - accuracy: 0.7301 - val_loss: -1.7347 - val_accuracy: 0.7339\n",
            "Epoch 37/120\n",
            "29/29 [==============================] - 0s 2ms/step - loss: -1.7756 - accuracy: 0.7301 - val_loss: -1.7702 - val_accuracy: 0.7339\n",
            "Epoch 38/120\n",
            "29/29 [==============================] - 0s 2ms/step - loss: -1.8106 - accuracy: 0.7301 - val_loss: -1.8050 - val_accuracy: 0.7339\n",
            "Epoch 39/120\n",
            "29/29 [==============================] - 0s 2ms/step - loss: -1.8453 - accuracy: 0.7301 - val_loss: -1.8402 - val_accuracy: 0.7339\n",
            "Epoch 40/120\n",
            "29/29 [==============================] - 0s 2ms/step - loss: -1.8809 - accuracy: 0.7301 - val_loss: -1.8729 - val_accuracy: 0.7339\n",
            "Epoch 41/120\n",
            "29/29 [==============================] - 0s 2ms/step - loss: -1.9147 - accuracy: 0.7301 - val_loss: -1.9077 - val_accuracy: 0.7339\n",
            "Epoch 42/120\n",
            "29/29 [==============================] - 0s 1ms/step - loss: -1.9501 - accuracy: 0.7301 - val_loss: -1.9412 - val_accuracy: 0.7339\n",
            "Epoch 43/120\n",
            "29/29 [==============================] - 0s 2ms/step - loss: -1.9847 - accuracy: 0.7301 - val_loss: -1.9752 - val_accuracy: 0.7339\n",
            "Epoch 44/120\n",
            "29/29 [==============================] - 0s 1ms/step - loss: -2.0192 - accuracy: 0.7301 - val_loss: -2.0097 - val_accuracy: 0.7339\n",
            "Epoch 45/120\n",
            "29/29 [==============================] - 0s 1ms/step - loss: -2.0534 - accuracy: 0.7301 - val_loss: -2.0452 - val_accuracy: 0.7339\n",
            "Epoch 46/120\n",
            "29/29 [==============================] - 0s 2ms/step - loss: -2.0888 - accuracy: 0.7301 - val_loss: -2.0784 - val_accuracy: 0.7339\n",
            "Epoch 47/120\n",
            "29/29 [==============================] - 0s 2ms/step - loss: -2.1232 - accuracy: 0.7301 - val_loss: -2.1121 - val_accuracy: 0.7339\n",
            "Epoch 48/120\n",
            "29/29 [==============================] - 0s 2ms/step - loss: -2.1579 - accuracy: 0.7301 - val_loss: -2.1450 - val_accuracy: 0.7339\n",
            "Epoch 49/120\n",
            "29/29 [==============================] - 0s 2ms/step - loss: -2.1918 - accuracy: 0.7301 - val_loss: -2.1802 - val_accuracy: 0.7339\n",
            "Epoch 50/120\n",
            "29/29 [==============================] - 0s 2ms/step - loss: -2.2272 - accuracy: 0.7301 - val_loss: -2.2137 - val_accuracy: 0.7339\n",
            "Epoch 51/120\n",
            "29/29 [==============================] - 0s 3ms/step - loss: -2.2612 - accuracy: 0.7301 - val_loss: -2.2490 - val_accuracy: 0.7339\n",
            "Epoch 52/120\n",
            "29/29 [==============================] - 0s 3ms/step - loss: -2.2969 - accuracy: 0.7301 - val_loss: -2.2804 - val_accuracy: 0.7339\n",
            "Epoch 53/120\n",
            "29/29 [==============================] - 0s 2ms/step - loss: -2.3302 - accuracy: 0.7301 - val_loss: -2.3162 - val_accuracy: 0.7339\n",
            "Epoch 54/120\n",
            "29/29 [==============================] - 0s 2ms/step - loss: -2.3653 - accuracy: 0.7301 - val_loss: -2.3512 - val_accuracy: 0.7339\n",
            "Epoch 55/120\n",
            "29/29 [==============================] - 0s 2ms/step - loss: -2.4003 - accuracy: 0.7301 - val_loss: -2.3851 - val_accuracy: 0.7339\n",
            "Epoch 56/120\n",
            "29/29 [==============================] - 0s 2ms/step - loss: -2.4342 - accuracy: 0.7301 - val_loss: -2.4201 - val_accuracy: 0.7339\n",
            "Epoch 57/120\n",
            "29/29 [==============================] - 0s 2ms/step - loss: -2.4699 - accuracy: 0.7301 - val_loss: -2.4522 - val_accuracy: 0.7339\n",
            "Epoch 58/120\n",
            "29/29 [==============================] - 0s 2ms/step - loss: -2.5038 - accuracy: 0.7301 - val_loss: -2.4866 - val_accuracy: 0.7339\n",
            "Epoch 59/120\n",
            "29/29 [==============================] - 0s 2ms/step - loss: -2.5380 - accuracy: 0.7301 - val_loss: -2.5220 - val_accuracy: 0.7339\n",
            "Epoch 60/120\n",
            "29/29 [==============================] - 0s 2ms/step - loss: -2.5735 - accuracy: 0.7301 - val_loss: -2.5555 - val_accuracy: 0.7339\n",
            "Epoch 61/120\n",
            "29/29 [==============================] - 0s 2ms/step - loss: -2.6075 - accuracy: 0.7301 - val_loss: -2.5905 - val_accuracy: 0.7339\n",
            "Epoch 62/120\n",
            "29/29 [==============================] - 0s 2ms/step - loss: -2.6426 - accuracy: 0.7301 - val_loss: -2.6241 - val_accuracy: 0.7339\n",
            "Epoch 63/120\n",
            "29/29 [==============================] - 0s 1ms/step - loss: -2.6770 - accuracy: 0.7301 - val_loss: -2.6585 - val_accuracy: 0.7339\n",
            "Epoch 64/120\n",
            "29/29 [==============================] - 0s 2ms/step - loss: -2.7118 - accuracy: 0.7301 - val_loss: -2.6926 - val_accuracy: 0.7339\n",
            "Epoch 65/120\n",
            "29/29 [==============================] - 0s 1ms/step - loss: -2.7468 - accuracy: 0.7301 - val_loss: -2.7253 - val_accuracy: 0.7339\n",
            "Epoch 66/120\n",
            "29/29 [==============================] - 0s 2ms/step - loss: -2.7804 - accuracy: 0.7301 - val_loss: -2.7613 - val_accuracy: 0.7339\n",
            "Epoch 67/120\n",
            "29/29 [==============================] - 0s 2ms/step - loss: -2.8157 - accuracy: 0.7301 - val_loss: -2.7949 - val_accuracy: 0.7339\n",
            "Epoch 68/120\n",
            "29/29 [==============================] - 0s 2ms/step - loss: -2.8504 - accuracy: 0.7301 - val_loss: -2.8283 - val_accuracy: 0.7339\n",
            "Epoch 69/120\n",
            "29/29 [==============================] - 0s 2ms/step - loss: -2.8842 - accuracy: 0.7301 - val_loss: -2.8637 - val_accuracy: 0.7339\n",
            "Epoch 70/120\n",
            "29/29 [==============================] - 0s 2ms/step - loss: -2.9196 - accuracy: 0.7301 - val_loss: -2.8966 - val_accuracy: 0.7339\n",
            "Epoch 71/120\n",
            "29/29 [==============================] - 0s 1ms/step - loss: -2.9534 - accuracy: 0.7301 - val_loss: -2.9318 - val_accuracy: 0.7339\n",
            "Epoch 72/120\n",
            "29/29 [==============================] - 0s 2ms/step - loss: -2.9889 - accuracy: 0.7301 - val_loss: -2.9646 - val_accuracy: 0.7339\n",
            "Epoch 73/120\n",
            "29/29 [==============================] - 0s 2ms/step - loss: -3.0231 - accuracy: 0.7301 - val_loss: -2.9984 - val_accuracy: 0.7339\n",
            "Epoch 74/120\n",
            "29/29 [==============================] - 0s 2ms/step - loss: -3.0577 - accuracy: 0.7301 - val_loss: -3.0326 - val_accuracy: 0.7339\n",
            "Epoch 75/120\n",
            "29/29 [==============================] - 0s 2ms/step - loss: -3.0920 - accuracy: 0.7301 - val_loss: -3.0672 - val_accuracy: 0.7339\n",
            "Epoch 76/120\n",
            "29/29 [==============================] - 0s 2ms/step - loss: -3.1268 - accuracy: 0.7301 - val_loss: -3.1015 - val_accuracy: 0.7339\n",
            "Epoch 77/120\n",
            "29/29 [==============================] - 0s 2ms/step - loss: -3.1618 - accuracy: 0.7301 - val_loss: -3.1345 - val_accuracy: 0.7339\n",
            "Epoch 78/120\n",
            "29/29 [==============================] - 0s 2ms/step - loss: -3.1961 - accuracy: 0.7301 - val_loss: -3.1688 - val_accuracy: 0.7339\n",
            "Epoch 79/120\n",
            "29/29 [==============================] - 0s 2ms/step - loss: -3.2305 - accuracy: 0.7301 - val_loss: -3.2036 - val_accuracy: 0.7339\n",
            "Epoch 80/120\n",
            "29/29 [==============================] - 0s 2ms/step - loss: -3.2646 - accuracy: 0.7301 - val_loss: -3.2390 - val_accuracy: 0.7339\n",
            "Epoch 81/120\n",
            "29/29 [==============================] - 0s 2ms/step - loss: -3.2999 - accuracy: 0.7301 - val_loss: -3.2729 - val_accuracy: 0.7339\n",
            "Epoch 82/120\n",
            "29/29 [==============================] - 0s 2ms/step - loss: -3.3344 - accuracy: 0.7301 - val_loss: -3.3070 - val_accuracy: 0.7339\n",
            "Epoch 83/120\n",
            "29/29 [==============================] - 0s 2ms/step - loss: -3.3693 - accuracy: 0.7301 - val_loss: -3.3405 - val_accuracy: 0.7339\n",
            "Epoch 84/120\n",
            "29/29 [==============================] - 0s 2ms/step - loss: -3.4039 - accuracy: 0.7301 - val_loss: -3.3745 - val_accuracy: 0.7339\n",
            "Epoch 85/120\n",
            "29/29 [==============================] - 0s 2ms/step - loss: -3.4388 - accuracy: 0.7301 - val_loss: -3.4079 - val_accuracy: 0.7339\n",
            "Epoch 86/120\n",
            "29/29 [==============================] - 0s 2ms/step - loss: -3.4726 - accuracy: 0.7301 - val_loss: -3.4435 - val_accuracy: 0.7339\n",
            "Epoch 87/120\n",
            "29/29 [==============================] - 0s 2ms/step - loss: -3.5077 - accuracy: 0.7301 - val_loss: -3.4784 - val_accuracy: 0.7339\n",
            "Epoch 88/120\n",
            "29/29 [==============================] - 0s 2ms/step - loss: -3.5429 - accuracy: 0.7301 - val_loss: -3.5119 - val_accuracy: 0.7339\n",
            "Epoch 89/120\n",
            "29/29 [==============================] - 0s 2ms/step - loss: -3.5779 - accuracy: 0.7301 - val_loss: -3.5449 - val_accuracy: 0.7339\n",
            "Epoch 90/120\n",
            "29/29 [==============================] - 0s 2ms/step - loss: -3.6115 - accuracy: 0.7301 - val_loss: -3.5803 - val_accuracy: 0.7339\n",
            "Epoch 91/120\n",
            "29/29 [==============================] - 0s 2ms/step - loss: -3.6469 - accuracy: 0.7301 - val_loss: -3.6139 - val_accuracy: 0.7339\n",
            "Epoch 92/120\n",
            "29/29 [==============================] - 0s 2ms/step - loss: -3.6815 - accuracy: 0.7301 - val_loss: -3.6480 - val_accuracy: 0.7339\n",
            "Epoch 93/120\n",
            "29/29 [==============================] - 0s 2ms/step - loss: -3.7157 - accuracy: 0.7301 - val_loss: -3.6832 - val_accuracy: 0.7339\n",
            "Epoch 94/120\n",
            "29/29 [==============================] - 0s 3ms/step - loss: -3.7508 - accuracy: 0.7301 - val_loss: -3.7170 - val_accuracy: 0.7339\n",
            "Epoch 95/120\n",
            "29/29 [==============================] - 0s 1ms/step - loss: -3.7856 - accuracy: 0.7301 - val_loss: -3.7501 - val_accuracy: 0.7339\n",
            "Epoch 96/120\n",
            "29/29 [==============================] - 0s 2ms/step - loss: -3.8197 - accuracy: 0.7301 - val_loss: -3.7852 - val_accuracy: 0.7339\n",
            "Epoch 97/120\n",
            "29/29 [==============================] - 0s 2ms/step - loss: -3.8548 - accuracy: 0.7301 - val_loss: -3.8188 - val_accuracy: 0.7339\n",
            "Epoch 98/120\n",
            "29/29 [==============================] - 0s 2ms/step - loss: -3.8889 - accuracy: 0.7301 - val_loss: -3.8537 - val_accuracy: 0.7339\n",
            "Epoch 99/120\n",
            "29/29 [==============================] - 0s 2ms/step - loss: -3.9237 - accuracy: 0.7301 - val_loss: -3.8883 - val_accuracy: 0.7339\n",
            "Epoch 100/120\n",
            "29/29 [==============================] - 0s 2ms/step - loss: -3.9589 - accuracy: 0.7301 - val_loss: -3.9207 - val_accuracy: 0.7339\n",
            "Epoch 101/120\n",
            "29/29 [==============================] - 0s 2ms/step - loss: -3.9930 - accuracy: 0.7301 - val_loss: -3.9549 - val_accuracy: 0.7339\n",
            "Epoch 102/120\n",
            "29/29 [==============================] - 0s 2ms/step - loss: -4.0273 - accuracy: 0.7301 - val_loss: -3.9899 - val_accuracy: 0.7339\n",
            "Epoch 103/120\n",
            "29/29 [==============================] - 0s 2ms/step - loss: -4.0626 - accuracy: 0.7301 - val_loss: -4.0229 - val_accuracy: 0.7339\n",
            "Epoch 104/120\n",
            "29/29 [==============================] - 0s 2ms/step - loss: -4.0968 - accuracy: 0.7301 - val_loss: -4.0574 - val_accuracy: 0.7339\n",
            "Epoch 105/120\n",
            "29/29 [==============================] - 0s 2ms/step - loss: -4.1314 - accuracy: 0.7301 - val_loss: -4.0920 - val_accuracy: 0.7339\n",
            "Epoch 106/120\n",
            "29/29 [==============================] - 0s 2ms/step - loss: -4.1667 - accuracy: 0.7301 - val_loss: -4.1246 - val_accuracy: 0.7339\n",
            "Epoch 107/120\n",
            "29/29 [==============================] - 0s 2ms/step - loss: -4.2003 - accuracy: 0.7301 - val_loss: -4.1603 - val_accuracy: 0.7339\n",
            "Epoch 108/120\n",
            "29/29 [==============================] - 0s 2ms/step - loss: -4.2354 - accuracy: 0.7301 - val_loss: -4.1947 - val_accuracy: 0.7339\n",
            "Epoch 109/120\n",
            "29/29 [==============================] - 0s 2ms/step - loss: -4.2701 - accuracy: 0.7301 - val_loss: -4.2284 - val_accuracy: 0.7339\n",
            "Epoch 110/120\n",
            "29/29 [==============================] - 0s 2ms/step - loss: -4.3049 - accuracy: 0.7301 - val_loss: -4.2618 - val_accuracy: 0.7339\n",
            "Epoch 111/120\n",
            "29/29 [==============================] - 0s 2ms/step - loss: -4.3394 - accuracy: 0.7301 - val_loss: -4.2955 - val_accuracy: 0.7339\n",
            "Epoch 112/120\n",
            "29/29 [==============================] - 0s 2ms/step - loss: -4.3736 - accuracy: 0.7301 - val_loss: -4.3308 - val_accuracy: 0.7339\n",
            "Epoch 113/120\n",
            "29/29 [==============================] - 0s 2ms/step - loss: -4.4085 - accuracy: 0.7301 - val_loss: -4.3655 - val_accuracy: 0.7339\n",
            "Epoch 114/120\n",
            "29/29 [==============================] - 0s 2ms/step - loss: -4.4436 - accuracy: 0.7301 - val_loss: -4.3988 - val_accuracy: 0.7339\n",
            "Epoch 115/120\n",
            "29/29 [==============================] - 0s 2ms/step - loss: -4.4779 - accuracy: 0.7301 - val_loss: -4.4332 - val_accuracy: 0.7339\n",
            "Epoch 116/120\n",
            "29/29 [==============================] - 0s 2ms/step - loss: -4.5127 - accuracy: 0.7301 - val_loss: -4.4676 - val_accuracy: 0.7339\n",
            "Epoch 117/120\n",
            "29/29 [==============================] - 0s 2ms/step - loss: -4.5474 - accuracy: 0.7301 - val_loss: -4.5026 - val_accuracy: 0.7339\n",
            "Epoch 118/120\n",
            "29/29 [==============================] - 0s 2ms/step - loss: -4.5822 - accuracy: 0.7301 - val_loss: -4.5371 - val_accuracy: 0.7339\n",
            "Epoch 119/120\n",
            "29/29 [==============================] - 0s 2ms/step - loss: -4.6173 - accuracy: 0.7301 - val_loss: -4.5708 - val_accuracy: 0.7339\n",
            "Epoch 120/120\n",
            "29/29 [==============================] - 0s 2ms/step - loss: -4.6522 - accuracy: 0.7301 - val_loss: -4.6043 - val_accuracy: 0.7339\n"
          ]
        }
      ],
      "source": [
        "history=model.fit(x_train, y_train, validation_split=0.3, epochs=120, batch_size=10)"
      ]
    },
    {
      "cell_type": "code",
      "execution_count": 14,
      "metadata": {
        "ExecuteTime": {
          "end_time": "2022-06-24T23:15:54.227043Z",
          "start_time": "2022-06-24T23:15:54.002881Z"
        },
        "trusted": true
      },
      "outputs": [
        {
          "name": "stdout",
          "output_type": "stream",
          "text": [
            "13/13 [==============================] - 0s 919us/step - loss: -4.6498 - accuracy: 0.7312\n",
            "accuracy: 73.12%\n"
          ]
        }
      ],
      "source": [
        "scores = model.evaluate(x_train, y_train)\n",
        "print(\"%s: %.2f%%\" % (model.metrics_names[1], scores[1]*100))"
      ]
    },
    {
      "cell_type": "code",
      "execution_count": 15,
      "metadata": {
        "ExecuteTime": {
          "end_time": "2022-06-24T23:16:53.072578Z",
          "start_time": "2022-06-24T23:16:52.872119Z"
        },
        "trusted": true
      },
      "outputs": [
        {
          "name": "stdout",
          "output_type": "stream",
          "text": [
            "4/4 [==============================] - 0s 2ms/step - loss: -4.6579 - accuracy: 0.7308\n",
            "accuracy: 73.08%\n"
          ]
        }
      ],
      "source": [
        "scores = model.evaluate(x_test, y_test)\n",
        "print(\"%s: %.2f%%\" % (model.metrics_names[1], scores[1]*100))"
      ]
    }
  ],
  "metadata": {
    "gist": {
      "data": {
        "description": "neural networks assignment forest fire",
        "public": true
      },
      "id": ""
    },
    "kernelspec": {
      "display_name": "Python 3 (ipykernel)",
      "language": "python",
      "name": "python3"
    },
    "language_info": {
      "codemirror_mode": {
        "name": "ipython",
        "version": 3
      },
      "file_extension": ".py",
      "mimetype": "text/x-python",
      "name": "python",
      "nbconvert_exporter": "python",
      "pygments_lexer": "ipython3",
      "version": "3.10.12"
    }
  },
  "nbformat": 4,
  "nbformat_minor": 5
}
