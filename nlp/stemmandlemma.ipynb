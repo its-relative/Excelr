{
 "cells": [
  {
   "cell_type": "code",
   "execution_count": 1,
   "metadata": {},
   "outputs": [],
   "source": [
    "import nltk\n",
    "from nltk.stem import PorterStemmer\n",
    "from nltk.tokenize import word_tokenize\n"
   ]
  },
  {
   "cell_type": "code",
   "execution_count": 4,
   "metadata": {},
   "outputs": [],
   "source": [
    "porter_stemmer = PorterStemmer()\n",
    "words = [\"cats\",\"catty\",\"catlike\"]\n",
    "stems = {word:porter_stemmer.stem(word) for word in words}"
   ]
  },
  {
   "cell_type": "code",
   "execution_count": 5,
   "metadata": {},
   "outputs": [
    {
     "data": {
      "text/plain": [
       "{'cats': 'cat', 'catty': 'catti', 'catlike': 'catlik'}"
      ]
     },
     "execution_count": 5,
     "metadata": {},
     "output_type": "execute_result"
    }
   ],
   "source": [
    "stems"
   ]
  },
  {
   "cell_type": "code",
   "execution_count": 6,
   "metadata": {},
   "outputs": [],
   "source": [
    "new_words = [\"programs\",\"programmer\",\"programming\"]\n",
    "stemsNew = {word:porter_stemmer.stem(word) for word in new_words}"
   ]
  },
  {
   "cell_type": "code",
   "execution_count": 8,
   "metadata": {},
   "outputs": [
    {
     "data": {
      "text/plain": [
       "{'programs': 'program', 'programmer': 'programm', 'programming': 'program'}"
      ]
     },
     "execution_count": 8,
     "metadata": {},
     "output_type": "execute_result"
    }
   ],
   "source": [
    "stemsNew"
   ]
  },
  {
   "cell_type": "code",
   "execution_count": 9,
   "metadata": {},
   "outputs": [],
   "source": [
    "from nltk.stem import WordNetLemmatizer\n"
   ]
  },
  {
   "cell_type": "code",
   "execution_count": 11,
   "metadata": {},
   "outputs": [],
   "source": [
    "lemmatizer = WordNetLemmatizer()\n",
    "lemmawords = {word:lemmatizer.lemmatize(word) for word in words}\n",
    "lemmaWords = {word:lemmatizer.lemmatize(word) for word in new_words}"
   ]
  },
  {
   "cell_type": "code",
   "execution_count": 12,
   "metadata": {},
   "outputs": [
    {
     "data": {
      "text/plain": [
       "{'cats': 'cat', 'catty': 'catty', 'catlike': 'catlike'}"
      ]
     },
     "execution_count": 12,
     "metadata": {},
     "output_type": "execute_result"
    }
   ],
   "source": [
    "lemmawords"
   ]
  },
  {
   "cell_type": "code",
   "execution_count": 13,
   "metadata": {},
   "outputs": [
    {
     "data": {
      "text/plain": [
       "{'programs': 'program',\n",
       " 'programmer': 'programmer',\n",
       " 'programming': 'programming'}"
      ]
     },
     "execution_count": 13,
     "metadata": {},
     "output_type": "execute_result"
    }
   ],
   "source": [
    "lemmaWords"
   ]
  },
  {
   "cell_type": "markdown",
   "metadata": {},
   "source": [
    "lets check the output of both the lemmatizer and stemmer side by side on a sentence"
   ]
  },
  {
   "cell_type": "code",
   "execution_count": 15,
   "metadata": {},
   "outputs": [
    {
     "name": "stdout",
     "output_type": "stream",
     "text": [
      "Programmers :Lemmatizing Programmers and programm Stemming Programmers\n",
      "use :Lemmatizing use and use Stemming use\n",
      "programming :Lemmatizing programming and program Stemming programming\n",
      "language :Lemmatizing languages and languag Stemming languages\n",
      "to :Lemmatizing to and to Stemming to\n",
      "write :Lemmatizing write and write Stemming write\n",
      "program :Lemmatizing programs and program Stemming programs\n",
      ". :Lemmatizing . and . Stemming .\n"
     ]
    }
   ],
   "source": [
    "line = \"Programmers use programming languages to write programs.\"\n",
    "# lets first tokenize the sentence for further processing\n",
    "\n",
    "words = word_tokenize(line)\n",
    "# print(words)\n",
    "for i in words:\n",
    "    print(lemmatizer.lemmatize(i),f\":Lemmatizing {i} and\",porter_stemmer.stem(i),f\"Stemming {i}\")"
   ]
  },
  {
   "cell_type": "code",
   "execution_count": null,
   "metadata": {},
   "outputs": [],
   "source": []
  }
 ],
 "metadata": {
  "kernelspec": {
   "display_name": "Python 3",
   "language": "python",
   "name": "python3"
  },
  "language_info": {
   "codemirror_mode": {
    "name": "ipython",
    "version": 3
   },
   "file_extension": ".py",
   "mimetype": "text/x-python",
   "name": "python",
   "nbconvert_exporter": "python",
   "pygments_lexer": "ipython3",
   "version": "3.10.12"
  }
 },
 "nbformat": 4,
 "nbformat_minor": 2
}
