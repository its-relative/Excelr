{
 "cells": [
  {
   "cell_type": "markdown",
   "metadata": {},
   "source": [
    "### Lets create a friendly splitter function that takes in a sentence and splits it into words just like that.\n"
   ]
  },
  {
   "cell_type": "code",
   "execution_count": 2,
   "metadata": {},
   "outputs": [
    {
     "name": "stdout",
     "output_type": "stream",
     "text": [
      "Looks fine to me\n",
      "['I', 'am', 'enrolled', 'in', 'Data', 'Science', 'Course.', 'But', 'will', 'it', 'work', 'now,', 'lets', 'see.'] ['I', 'am', 'enrolled', 'in', 'Data', 'Science', 'Course.', 'But', 'will', 'it', 'work', 'now,', 'lets', 'see.']\n"
     ]
    }
   ],
   "source": [
    "# lets define a funciton to split words in a sentence\n",
    "\n",
    "def splitter(sent):\n",
    "    store_list = []    \n",
    "    store_string = \"\"\n",
    "    # store_list = [store_string += i if i != \" \" else store_list.append(store_string), store_string = \"\"  for i ]\n",
    "    for i in sent:\n",
    "        if i != \" \":\n",
    "        # if i not in [\" \",\".\",\",\"]\n",
    "            store_string += i\n",
    "        else:\n",
    "            store_list.append(store_string)\n",
    "            store_string = \"\"\n",
    "\n",
    "    if store_string:\n",
    "        store_list.append(store_string)\n",
    "    return store_list\n",
    "\n",
    "s = \"I am enrolled in Data Science Course. But will it work now, lets see.\"\n",
    "\n",
    "if s.split() != splitter(s):\n",
    "    print(s.split(),\"\\n\",splitter(s))\n",
    "else:\n",
    "    print(\"Looks fine to me\")\n",
    "    print(s.split(),splitter(s))\n",
    "\n",
    "\n"
   ]
  },
  {
   "cell_type": "code",
   "execution_count": null,
   "metadata": {},
   "outputs": [],
   "source": []
  }
 ],
 "metadata": {
  "kernelspec": {
   "display_name": "Python 3",
   "language": "python",
   "name": "python3"
  },
  "language_info": {
   "codemirror_mode": {
    "name": "ipython",
    "version": 3
   },
   "file_extension": ".py",
   "mimetype": "text/x-python",
   "name": "python",
   "nbconvert_exporter": "python",
   "pygments_lexer": "ipython3",
   "version": "3.10.12"
  }
 },
 "nbformat": 4,
 "nbformat_minor": 2
}
