{
 "cells": [
  {
   "cell_type": "code",
   "execution_count": 1,
   "id": "e3feb617",
   "metadata": {},
   "outputs": [],
   "source": [
    "import pandas as pd\n",
    "import seaborn as sns\n",
    "import matplotlib.pyplot as plt"
   ]
  },
  {
   "cell_type": "code",
   "execution_count": 48,
   "id": "a81ec569",
   "metadata": {},
   "outputs": [
    {
     "data": {
      "text/html": [
       "<div>\n",
       "<style scoped>\n",
       "    .dataframe tbody tr th:only-of-type {\n",
       "        vertical-align: middle;\n",
       "    }\n",
       "\n",
       "    .dataframe tbody tr th {\n",
       "        vertical-align: top;\n",
       "    }\n",
       "\n",
       "    .dataframe thead th {\n",
       "        text-align: right;\n",
       "    }\n",
       "</style>\n",
       "<table border=\"1\" class=\"dataframe\">\n",
       "  <thead>\n",
       "    <tr style=\"text-align: right;\">\n",
       "      <th></th>\n",
       "      <th>Date</th>\n",
       "      <th>Open</th>\n",
       "      <th>High</th>\n",
       "      <th>Low</th>\n",
       "      <th>Close</th>\n",
       "      <th>Adj Close</th>\n",
       "      <th>Volume</th>\n",
       "    </tr>\n",
       "  </thead>\n",
       "  <tbody>\n",
       "    <tr>\n",
       "      <th>0</th>\n",
       "      <td>2000-04-03</td>\n",
       "      <td>46.792412</td>\n",
       "      <td>47.656425</td>\n",
       "      <td>45.428555</td>\n",
       "      <td>46.928082</td>\n",
       "      <td>34.837692</td>\n",
       "      <td>149518197.0</td>\n",
       "    </tr>\n",
       "    <tr>\n",
       "      <th>1</th>\n",
       "      <td>2000-04-04</td>\n",
       "      <td>46.556770</td>\n",
       "      <td>46.556770</td>\n",
       "      <td>43.179264</td>\n",
       "      <td>43.179264</td>\n",
       "      <td>32.054707</td>\n",
       "      <td>94743234.0</td>\n",
       "    </tr>\n",
       "    <tr>\n",
       "      <th>2</th>\n",
       "      <td>2000-04-05</td>\n",
       "      <td>43.329216</td>\n",
       "      <td>44.557400</td>\n",
       "      <td>39.737488</td>\n",
       "      <td>43.164982</td>\n",
       "      <td>32.044098</td>\n",
       "      <td>176360130.0</td>\n",
       "    </tr>\n",
       "    <tr>\n",
       "      <th>3</th>\n",
       "      <td>2000-04-06</td>\n",
       "      <td>43.272091</td>\n",
       "      <td>46.621037</td>\n",
       "      <td>43.207825</td>\n",
       "      <td>46.578194</td>\n",
       "      <td>35.390133</td>\n",
       "      <td>113709263.0</td>\n",
       "    </tr>\n",
       "    <tr>\n",
       "      <th>4</th>\n",
       "      <td>2000-04-07</td>\n",
       "      <td>47.099457</td>\n",
       "      <td>50.305592</td>\n",
       "      <td>47.099457</td>\n",
       "      <td>50.305592</td>\n",
       "      <td>38.222198</td>\n",
       "      <td>81828761.0</td>\n",
       "    </tr>\n",
       "    <tr>\n",
       "      <th>...</th>\n",
       "      <td>...</td>\n",
       "      <td>...</td>\n",
       "      <td>...</td>\n",
       "      <td>...</td>\n",
       "      <td>...</td>\n",
       "      <td>...</td>\n",
       "      <td>...</td>\n",
       "    </tr>\n",
       "    <tr>\n",
       "      <th>5990</th>\n",
       "      <td>2024-03-21</td>\n",
       "      <td>2905.050049</td>\n",
       "      <td>2915.800049</td>\n",
       "      <td>2889.350098</td>\n",
       "      <td>2901.949951</td>\n",
       "      <td>2901.949951</td>\n",
       "      <td>6503468.0</td>\n",
       "    </tr>\n",
       "    <tr>\n",
       "      <th>5991</th>\n",
       "      <td>2024-03-22</td>\n",
       "      <td>2899.949951</td>\n",
       "      <td>2920.000000</td>\n",
       "      <td>2894.699951</td>\n",
       "      <td>2910.050049</td>\n",
       "      <td>2910.050049</td>\n",
       "      <td>9763804.0</td>\n",
       "    </tr>\n",
       "    <tr>\n",
       "      <th>5992</th>\n",
       "      <td>2024-03-26</td>\n",
       "      <td>2890.000000</td>\n",
       "      <td>2904.800049</td>\n",
       "      <td>2878.000000</td>\n",
       "      <td>2883.149902</td>\n",
       "      <td>2883.149902</td>\n",
       "      <td>5707953.0</td>\n",
       "    </tr>\n",
       "    <tr>\n",
       "      <th>5993</th>\n",
       "      <td>2024-03-27</td>\n",
       "      <td>2896.000000</td>\n",
       "      <td>3000.000000</td>\n",
       "      <td>2894.000000</td>\n",
       "      <td>2985.699951</td>\n",
       "      <td>2985.699951</td>\n",
       "      <td>8163322.0</td>\n",
       "    </tr>\n",
       "    <tr>\n",
       "      <th>5994</th>\n",
       "      <td>2024-03-28</td>\n",
       "      <td>2985.750000</td>\n",
       "      <td>3011.899902</td>\n",
       "      <td>2957.300049</td>\n",
       "      <td>2971.699951</td>\n",
       "      <td>2971.699951</td>\n",
       "      <td>10927182.0</td>\n",
       "    </tr>\n",
       "  </tbody>\n",
       "</table>\n",
       "<p>5995 rows × 7 columns</p>\n",
       "</div>"
      ],
      "text/plain": [
       "           Date         Open         High          Low        Close  \\\n",
       "0    2000-04-03    46.792412    47.656425    45.428555    46.928082   \n",
       "1    2000-04-04    46.556770    46.556770    43.179264    43.179264   \n",
       "2    2000-04-05    43.329216    44.557400    39.737488    43.164982   \n",
       "3    2000-04-06    43.272091    46.621037    43.207825    46.578194   \n",
       "4    2000-04-07    47.099457    50.305592    47.099457    50.305592   \n",
       "...         ...          ...          ...          ...          ...   \n",
       "5990 2024-03-21  2905.050049  2915.800049  2889.350098  2901.949951   \n",
       "5991 2024-03-22  2899.949951  2920.000000  2894.699951  2910.050049   \n",
       "5992 2024-03-26  2890.000000  2904.800049  2878.000000  2883.149902   \n",
       "5993 2024-03-27  2896.000000  3000.000000  2894.000000  2985.699951   \n",
       "5994 2024-03-28  2985.750000  3011.899902  2957.300049  2971.699951   \n",
       "\n",
       "        Adj Close       Volume  \n",
       "0       34.837692  149518197.0  \n",
       "1       32.054707   94743234.0  \n",
       "2       32.044098  176360130.0  \n",
       "3       35.390133  113709263.0  \n",
       "4       38.222198   81828761.0  \n",
       "...           ...          ...  \n",
       "5990  2901.949951    6503468.0  \n",
       "5991  2910.050049    9763804.0  \n",
       "5992  2883.149902    5707953.0  \n",
       "5993  2985.699951    8163322.0  \n",
       "5994  2971.699951   10927182.0  \n",
       "\n",
       "[5995 rows x 7 columns]"
      ]
     },
     "execution_count": 48,
     "metadata": {},
     "output_type": "execute_result"
    }
   ],
   "source": [
    "stock = pd.read_excel('RELIANCE.NS (5).xlsx')\n",
    "stock"
   ]
  },
  {
   "cell_type": "code",
   "execution_count": 49,
   "id": "13735476",
   "metadata": {},
   "outputs": [],
   "source": [
    "stock.drop(['Adj Close','Volume'], axis=1,inplace=True)"
   ]
  },
  {
   "cell_type": "code",
   "execution_count": 50,
   "id": "3c47a08c",
   "metadata": {},
   "outputs": [
    {
     "data": {
      "text/html": [
       "<div>\n",
       "<style scoped>\n",
       "    .dataframe tbody tr th:only-of-type {\n",
       "        vertical-align: middle;\n",
       "    }\n",
       "\n",
       "    .dataframe tbody tr th {\n",
       "        vertical-align: top;\n",
       "    }\n",
       "\n",
       "    .dataframe thead th {\n",
       "        text-align: right;\n",
       "    }\n",
       "</style>\n",
       "<table border=\"1\" class=\"dataframe\">\n",
       "  <thead>\n",
       "    <tr style=\"text-align: right;\">\n",
       "      <th></th>\n",
       "      <th>Date</th>\n",
       "      <th>Open</th>\n",
       "      <th>High</th>\n",
       "      <th>Low</th>\n",
       "      <th>Close</th>\n",
       "    </tr>\n",
       "  </thead>\n",
       "  <tbody>\n",
       "    <tr>\n",
       "      <th>0</th>\n",
       "      <td>2000-04-03</td>\n",
       "      <td>46.792412</td>\n",
       "      <td>47.656425</td>\n",
       "      <td>45.428555</td>\n",
       "      <td>46.928082</td>\n",
       "    </tr>\n",
       "    <tr>\n",
       "      <th>1</th>\n",
       "      <td>2000-04-04</td>\n",
       "      <td>46.556770</td>\n",
       "      <td>46.556770</td>\n",
       "      <td>43.179264</td>\n",
       "      <td>43.179264</td>\n",
       "    </tr>\n",
       "    <tr>\n",
       "      <th>2</th>\n",
       "      <td>2000-04-05</td>\n",
       "      <td>43.329216</td>\n",
       "      <td>44.557400</td>\n",
       "      <td>39.737488</td>\n",
       "      <td>43.164982</td>\n",
       "    </tr>\n",
       "    <tr>\n",
       "      <th>3</th>\n",
       "      <td>2000-04-06</td>\n",
       "      <td>43.272091</td>\n",
       "      <td>46.621037</td>\n",
       "      <td>43.207825</td>\n",
       "      <td>46.578194</td>\n",
       "    </tr>\n",
       "    <tr>\n",
       "      <th>4</th>\n",
       "      <td>2000-04-07</td>\n",
       "      <td>47.099457</td>\n",
       "      <td>50.305592</td>\n",
       "      <td>47.099457</td>\n",
       "      <td>50.305592</td>\n",
       "    </tr>\n",
       "  </tbody>\n",
       "</table>\n",
       "</div>"
      ],
      "text/plain": [
       "        Date       Open       High        Low      Close\n",
       "0 2000-04-03  46.792412  47.656425  45.428555  46.928082\n",
       "1 2000-04-04  46.556770  46.556770  43.179264  43.179264\n",
       "2 2000-04-05  43.329216  44.557400  39.737488  43.164982\n",
       "3 2000-04-06  43.272091  46.621037  43.207825  46.578194\n",
       "4 2000-04-07  47.099457  50.305592  47.099457  50.305592"
      ]
     },
     "execution_count": 50,
     "metadata": {},
     "output_type": "execute_result"
    }
   ],
   "source": [
    "stock.head()"
   ]
  },
  {
   "cell_type": "code",
   "execution_count": 51,
   "id": "9d833aae",
   "metadata": {},
   "outputs": [
    {
     "data": {
      "text/html": [
       "<div>\n",
       "<style scoped>\n",
       "    .dataframe tbody tr th:only-of-type {\n",
       "        vertical-align: middle;\n",
       "    }\n",
       "\n",
       "    .dataframe tbody tr th {\n",
       "        vertical-align: top;\n",
       "    }\n",
       "\n",
       "    .dataframe thead th {\n",
       "        text-align: right;\n",
       "    }\n",
       "</style>\n",
       "<table border=\"1\" class=\"dataframe\">\n",
       "  <thead>\n",
       "    <tr style=\"text-align: right;\">\n",
       "      <th></th>\n",
       "      <th>Date</th>\n",
       "      <th>Open</th>\n",
       "      <th>High</th>\n",
       "      <th>Low</th>\n",
       "      <th>Close</th>\n",
       "    </tr>\n",
       "  </thead>\n",
       "  <tbody>\n",
       "    <tr>\n",
       "      <th>5990</th>\n",
       "      <td>2024-03-21</td>\n",
       "      <td>2905.050049</td>\n",
       "      <td>2915.800049</td>\n",
       "      <td>2889.350098</td>\n",
       "      <td>2901.949951</td>\n",
       "    </tr>\n",
       "    <tr>\n",
       "      <th>5991</th>\n",
       "      <td>2024-03-22</td>\n",
       "      <td>2899.949951</td>\n",
       "      <td>2920.000000</td>\n",
       "      <td>2894.699951</td>\n",
       "      <td>2910.050049</td>\n",
       "    </tr>\n",
       "    <tr>\n",
       "      <th>5992</th>\n",
       "      <td>2024-03-26</td>\n",
       "      <td>2890.000000</td>\n",
       "      <td>2904.800049</td>\n",
       "      <td>2878.000000</td>\n",
       "      <td>2883.149902</td>\n",
       "    </tr>\n",
       "    <tr>\n",
       "      <th>5993</th>\n",
       "      <td>2024-03-27</td>\n",
       "      <td>2896.000000</td>\n",
       "      <td>3000.000000</td>\n",
       "      <td>2894.000000</td>\n",
       "      <td>2985.699951</td>\n",
       "    </tr>\n",
       "    <tr>\n",
       "      <th>5994</th>\n",
       "      <td>2024-03-28</td>\n",
       "      <td>2985.750000</td>\n",
       "      <td>3011.899902</td>\n",
       "      <td>2957.300049</td>\n",
       "      <td>2971.699951</td>\n",
       "    </tr>\n",
       "  </tbody>\n",
       "</table>\n",
       "</div>"
      ],
      "text/plain": [
       "           Date         Open         High          Low        Close\n",
       "5990 2024-03-21  2905.050049  2915.800049  2889.350098  2901.949951\n",
       "5991 2024-03-22  2899.949951  2920.000000  2894.699951  2910.050049\n",
       "5992 2024-03-26  2890.000000  2904.800049  2878.000000  2883.149902\n",
       "5993 2024-03-27  2896.000000  3000.000000  2894.000000  2985.699951\n",
       "5994 2024-03-28  2985.750000  3011.899902  2957.300049  2971.699951"
      ]
     },
     "execution_count": 51,
     "metadata": {},
     "output_type": "execute_result"
    }
   ],
   "source": [
    "stock.tail()"
   ]
  },
  {
   "cell_type": "code",
   "execution_count": 52,
   "id": "301d5293",
   "metadata": {},
   "outputs": [
    {
     "data": {
      "text/html": [
       "<div>\n",
       "<style scoped>\n",
       "    .dataframe tbody tr th:only-of-type {\n",
       "        vertical-align: middle;\n",
       "    }\n",
       "\n",
       "    .dataframe tbody tr th {\n",
       "        vertical-align: top;\n",
       "    }\n",
       "\n",
       "    .dataframe thead th {\n",
       "        text-align: right;\n",
       "    }\n",
       "</style>\n",
       "<table border=\"1\" class=\"dataframe\">\n",
       "  <thead>\n",
       "    <tr style=\"text-align: right;\">\n",
       "      <th></th>\n",
       "      <th>Open</th>\n",
       "      <th>High</th>\n",
       "      <th>Low</th>\n",
       "      <th>Close</th>\n",
       "    </tr>\n",
       "  </thead>\n",
       "  <tbody>\n",
       "    <tr>\n",
       "      <th>count</th>\n",
       "      <td>5985.000000</td>\n",
       "      <td>5985.000000</td>\n",
       "      <td>5985.000000</td>\n",
       "      <td>5985.000000</td>\n",
       "    </tr>\n",
       "    <tr>\n",
       "      <th>mean</th>\n",
       "      <td>689.167596</td>\n",
       "      <td>697.037309</td>\n",
       "      <td>680.734919</td>\n",
       "      <td>688.597025</td>\n",
       "    </tr>\n",
       "    <tr>\n",
       "      <th>std</th>\n",
       "      <td>735.384501</td>\n",
       "      <td>742.437318</td>\n",
       "      <td>727.973424</td>\n",
       "      <td>734.989083</td>\n",
       "    </tr>\n",
       "    <tr>\n",
       "      <th>min</th>\n",
       "      <td>29.976276</td>\n",
       "      <td>32.075615</td>\n",
       "      <td>29.076559</td>\n",
       "      <td>29.504995</td>\n",
       "    </tr>\n",
       "    <tr>\n",
       "      <th>25%</th>\n",
       "      <td>132.601105</td>\n",
       "      <td>133.815018</td>\n",
       "      <td>131.387207</td>\n",
       "      <td>132.793900</td>\n",
       "    </tr>\n",
       "    <tr>\n",
       "      <th>50%</th>\n",
       "      <td>433.347992</td>\n",
       "      <td>438.308258</td>\n",
       "      <td>427.953430</td>\n",
       "      <td>433.233704</td>\n",
       "    </tr>\n",
       "    <tr>\n",
       "      <th>75%</th>\n",
       "      <td>853.209595</td>\n",
       "      <td>861.758606</td>\n",
       "      <td>843.929077</td>\n",
       "      <td>851.746643</td>\n",
       "    </tr>\n",
       "    <tr>\n",
       "      <th>max</th>\n",
       "      <td>3011.550049</td>\n",
       "      <td>3024.899902</td>\n",
       "      <td>2974.449951</td>\n",
       "      <td>3014.800049</td>\n",
       "    </tr>\n",
       "  </tbody>\n",
       "</table>\n",
       "</div>"
      ],
      "text/plain": [
       "              Open         High          Low        Close\n",
       "count  5985.000000  5985.000000  5985.000000  5985.000000\n",
       "mean    689.167596   697.037309   680.734919   688.597025\n",
       "std     735.384501   742.437318   727.973424   734.989083\n",
       "min      29.976276    32.075615    29.076559    29.504995\n",
       "25%     132.601105   133.815018   131.387207   132.793900\n",
       "50%     433.347992   438.308258   427.953430   433.233704\n",
       "75%     853.209595   861.758606   843.929077   851.746643\n",
       "max    3011.550049  3024.899902  2974.449951  3014.800049"
      ]
     },
     "execution_count": 52,
     "metadata": {},
     "output_type": "execute_result"
    }
   ],
   "source": [
    "stock.describe()"
   ]
  },
  {
   "cell_type": "code",
   "execution_count": 53,
   "id": "88501d98",
   "metadata": {},
   "outputs": [
    {
     "name": "stdout",
     "output_type": "stream",
     "text": [
      "<class 'pandas.core.frame.DataFrame'>\n",
      "RangeIndex: 5995 entries, 0 to 5994\n",
      "Data columns (total 5 columns):\n",
      " #   Column  Non-Null Count  Dtype         \n",
      "---  ------  --------------  -----         \n",
      " 0   Date    5995 non-null   datetime64[ns]\n",
      " 1   Open    5985 non-null   float64       \n",
      " 2   High    5985 non-null   float64       \n",
      " 3   Low     5985 non-null   float64       \n",
      " 4   Close   5985 non-null   float64       \n",
      "dtypes: datetime64[ns](1), float64(4)\n",
      "memory usage: 234.3 KB\n"
     ]
    }
   ],
   "source": [
    "stock.info()"
   ]
  },
  {
   "cell_type": "code",
   "execution_count": 54,
   "id": "2fd7f386",
   "metadata": {},
   "outputs": [
    {
     "name": "stderr",
     "output_type": "stream",
     "text": [
      "C:\\Users\\ankit\\AppData\\Local\\Temp\\ipykernel_4496\\2678749480.py:1: FutureWarning: The default value of numeric_only in DataFrame.corr is deprecated. In a future version, it will default to False. Select only valid columns or specify the value of numeric_only to silence this warning.\n",
      "  stock.corr()\n"
     ]
    },
    {
     "data": {
      "text/html": [
       "<div>\n",
       "<style scoped>\n",
       "    .dataframe tbody tr th:only-of-type {\n",
       "        vertical-align: middle;\n",
       "    }\n",
       "\n",
       "    .dataframe tbody tr th {\n",
       "        vertical-align: top;\n",
       "    }\n",
       "\n",
       "    .dataframe thead th {\n",
       "        text-align: right;\n",
       "    }\n",
       "</style>\n",
       "<table border=\"1\" class=\"dataframe\">\n",
       "  <thead>\n",
       "    <tr style=\"text-align: right;\">\n",
       "      <th></th>\n",
       "      <th>Open</th>\n",
       "      <th>High</th>\n",
       "      <th>Low</th>\n",
       "      <th>Close</th>\n",
       "    </tr>\n",
       "  </thead>\n",
       "  <tbody>\n",
       "    <tr>\n",
       "      <th>Open</th>\n",
       "      <td>1.000000</td>\n",
       "      <td>0.999891</td>\n",
       "      <td>0.999885</td>\n",
       "      <td>0.999775</td>\n",
       "    </tr>\n",
       "    <tr>\n",
       "      <th>High</th>\n",
       "      <td>0.999891</td>\n",
       "      <td>1.000000</td>\n",
       "      <td>0.999852</td>\n",
       "      <td>0.999910</td>\n",
       "    </tr>\n",
       "    <tr>\n",
       "      <th>Low</th>\n",
       "      <td>0.999885</td>\n",
       "      <td>0.999852</td>\n",
       "      <td>1.000000</td>\n",
       "      <td>0.999902</td>\n",
       "    </tr>\n",
       "    <tr>\n",
       "      <th>Close</th>\n",
       "      <td>0.999775</td>\n",
       "      <td>0.999910</td>\n",
       "      <td>0.999902</td>\n",
       "      <td>1.000000</td>\n",
       "    </tr>\n",
       "  </tbody>\n",
       "</table>\n",
       "</div>"
      ],
      "text/plain": [
       "           Open      High       Low     Close\n",
       "Open   1.000000  0.999891  0.999885  0.999775\n",
       "High   0.999891  1.000000  0.999852  0.999910\n",
       "Low    0.999885  0.999852  1.000000  0.999902\n",
       "Close  0.999775  0.999910  0.999902  1.000000"
      ]
     },
     "execution_count": 54,
     "metadata": {},
     "output_type": "execute_result"
    }
   ],
   "source": [
    "stock.corr()"
   ]
  },
  {
   "cell_type": "code",
   "execution_count": 55,
   "id": "6808557d",
   "metadata": {},
   "outputs": [
    {
     "data": {
      "text/plain": [
       "(5995, 5)"
      ]
     },
     "execution_count": 55,
     "metadata": {},
     "output_type": "execute_result"
    }
   ],
   "source": [
    "stock.shape"
   ]
  },
  {
   "cell_type": "code",
   "execution_count": 56,
   "id": "85470f22",
   "metadata": {},
   "outputs": [
    {
     "data": {
      "text/plain": [
       "0       False\n",
       "1       False\n",
       "2       False\n",
       "3       False\n",
       "4       False\n",
       "        ...  \n",
       "5990    False\n",
       "5991    False\n",
       "5992    False\n",
       "5993    False\n",
       "5994    False\n",
       "Length: 5995, dtype: bool"
      ]
     },
     "execution_count": 56,
     "metadata": {},
     "output_type": "execute_result"
    }
   ],
   "source": [
    "stock.duplicated()"
   ]
  },
  {
   "cell_type": "code",
   "execution_count": 57,
   "id": "a02eeb1a",
   "metadata": {},
   "outputs": [
    {
     "data": {
      "text/html": [
       "<div>\n",
       "<style scoped>\n",
       "    .dataframe tbody tr th:only-of-type {\n",
       "        vertical-align: middle;\n",
       "    }\n",
       "\n",
       "    .dataframe tbody tr th {\n",
       "        vertical-align: top;\n",
       "    }\n",
       "\n",
       "    .dataframe thead th {\n",
       "        text-align: right;\n",
       "    }\n",
       "</style>\n",
       "<table border=\"1\" class=\"dataframe\">\n",
       "  <thead>\n",
       "    <tr style=\"text-align: right;\">\n",
       "      <th></th>\n",
       "      <th>Date</th>\n",
       "      <th>Open</th>\n",
       "      <th>High</th>\n",
       "      <th>Low</th>\n",
       "      <th>Close</th>\n",
       "    </tr>\n",
       "  </thead>\n",
       "  <tbody>\n",
       "  </tbody>\n",
       "</table>\n",
       "</div>"
      ],
      "text/plain": [
       "Empty DataFrame\n",
       "Columns: [Date, Open, High, Low, Close]\n",
       "Index: []"
      ]
     },
     "execution_count": 57,
     "metadata": {},
     "output_type": "execute_result"
    }
   ],
   "source": [
    "stock[stock.duplicated()]"
   ]
  },
  {
   "cell_type": "code",
   "execution_count": 58,
   "id": "5cb6c03d",
   "metadata": {},
   "outputs": [
    {
     "data": {
      "text/html": [
       "<div>\n",
       "<style scoped>\n",
       "    .dataframe tbody tr th:only-of-type {\n",
       "        vertical-align: middle;\n",
       "    }\n",
       "\n",
       "    .dataframe tbody tr th {\n",
       "        vertical-align: top;\n",
       "    }\n",
       "\n",
       "    .dataframe thead th {\n",
       "        text-align: right;\n",
       "    }\n",
       "</style>\n",
       "<table border=\"1\" class=\"dataframe\">\n",
       "  <thead>\n",
       "    <tr style=\"text-align: right;\">\n",
       "      <th></th>\n",
       "      <th>Date</th>\n",
       "      <th>Open</th>\n",
       "      <th>High</th>\n",
       "      <th>Low</th>\n",
       "      <th>Close</th>\n",
       "    </tr>\n",
       "  </thead>\n",
       "  <tbody>\n",
       "    <tr>\n",
       "      <th>0</th>\n",
       "      <td>False</td>\n",
       "      <td>False</td>\n",
       "      <td>False</td>\n",
       "      <td>False</td>\n",
       "      <td>False</td>\n",
       "    </tr>\n",
       "    <tr>\n",
       "      <th>1</th>\n",
       "      <td>False</td>\n",
       "      <td>False</td>\n",
       "      <td>False</td>\n",
       "      <td>False</td>\n",
       "      <td>False</td>\n",
       "    </tr>\n",
       "    <tr>\n",
       "      <th>2</th>\n",
       "      <td>False</td>\n",
       "      <td>False</td>\n",
       "      <td>False</td>\n",
       "      <td>False</td>\n",
       "      <td>False</td>\n",
       "    </tr>\n",
       "    <tr>\n",
       "      <th>3</th>\n",
       "      <td>False</td>\n",
       "      <td>False</td>\n",
       "      <td>False</td>\n",
       "      <td>False</td>\n",
       "      <td>False</td>\n",
       "    </tr>\n",
       "    <tr>\n",
       "      <th>4</th>\n",
       "      <td>False</td>\n",
       "      <td>False</td>\n",
       "      <td>False</td>\n",
       "      <td>False</td>\n",
       "      <td>False</td>\n",
       "    </tr>\n",
       "    <tr>\n",
       "      <th>...</th>\n",
       "      <td>...</td>\n",
       "      <td>...</td>\n",
       "      <td>...</td>\n",
       "      <td>...</td>\n",
       "      <td>...</td>\n",
       "    </tr>\n",
       "    <tr>\n",
       "      <th>5990</th>\n",
       "      <td>False</td>\n",
       "      <td>False</td>\n",
       "      <td>False</td>\n",
       "      <td>False</td>\n",
       "      <td>False</td>\n",
       "    </tr>\n",
       "    <tr>\n",
       "      <th>5991</th>\n",
       "      <td>False</td>\n",
       "      <td>False</td>\n",
       "      <td>False</td>\n",
       "      <td>False</td>\n",
       "      <td>False</td>\n",
       "    </tr>\n",
       "    <tr>\n",
       "      <th>5992</th>\n",
       "      <td>False</td>\n",
       "      <td>False</td>\n",
       "      <td>False</td>\n",
       "      <td>False</td>\n",
       "      <td>False</td>\n",
       "    </tr>\n",
       "    <tr>\n",
       "      <th>5993</th>\n",
       "      <td>False</td>\n",
       "      <td>False</td>\n",
       "      <td>False</td>\n",
       "      <td>False</td>\n",
       "      <td>False</td>\n",
       "    </tr>\n",
       "    <tr>\n",
       "      <th>5994</th>\n",
       "      <td>False</td>\n",
       "      <td>False</td>\n",
       "      <td>False</td>\n",
       "      <td>False</td>\n",
       "      <td>False</td>\n",
       "    </tr>\n",
       "  </tbody>\n",
       "</table>\n",
       "<p>5995 rows × 5 columns</p>\n",
       "</div>"
      ],
      "text/plain": [
       "       Date   Open   High    Low  Close\n",
       "0     False  False  False  False  False\n",
       "1     False  False  False  False  False\n",
       "2     False  False  False  False  False\n",
       "3     False  False  False  False  False\n",
       "4     False  False  False  False  False\n",
       "...     ...    ...    ...    ...    ...\n",
       "5990  False  False  False  False  False\n",
       "5991  False  False  False  False  False\n",
       "5992  False  False  False  False  False\n",
       "5993  False  False  False  False  False\n",
       "5994  False  False  False  False  False\n",
       "\n",
       "[5995 rows x 5 columns]"
      ]
     },
     "execution_count": 58,
     "metadata": {},
     "output_type": "execute_result"
    }
   ],
   "source": [
    "stock.isnull()"
   ]
  },
  {
   "cell_type": "code",
   "execution_count": 59,
   "id": "942a6c70",
   "metadata": {},
   "outputs": [
    {
     "data": {
      "text/plain": [
       "Date     False\n",
       "Open      True\n",
       "High      True\n",
       "Low       True\n",
       "Close     True\n",
       "dtype: bool"
      ]
     },
     "execution_count": 59,
     "metadata": {},
     "output_type": "execute_result"
    }
   ],
   "source": [
    "stock.isnull().any(axis = 0)"
   ]
  },
  {
   "cell_type": "code",
   "execution_count": 60,
   "id": "a94f2d05",
   "metadata": {},
   "outputs": [
    {
     "data": {
      "text/plain": [
       "10"
      ]
     },
     "execution_count": 60,
     "metadata": {},
     "output_type": "execute_result"
    }
   ],
   "source": [
    "stock[stock.isnull().any(axis=1)].shape[0]"
   ]
  },
  {
   "cell_type": "code",
   "execution_count": 61,
   "id": "0cea7cca",
   "metadata": {},
   "outputs": [],
   "source": [
    "stock.dropna(inplace=True)"
   ]
  },
  {
   "cell_type": "code",
   "execution_count": 47,
   "id": "5f9fc3e7",
   "metadata": {},
   "outputs": [
    {
     "name": "stderr",
     "output_type": "stream",
     "text": [
      "C:\\Users\\ankit\\AppData\\Local\\Temp\\ipykernel_4496\\2468022386.py:1: FutureWarning: The default value of numeric_only in DataFrame.corr is deprecated. In a future version, it will default to False. Select only valid columns or specify the value of numeric_only to silence this warning.\n",
      "  corr = stock.corr()\n"
     ]
    },
    {
     "data": {
      "image/png": "[encoded data removed]",
      "text/plain": [
       "<Figure size 1000x600 with 2 Axes>"
      ]
     },
     "metadata": {},
     "output_type": "display_data"
    }
   ],
   "source": [
    "corr = stock.corr()\n",
    "#Plot figsize\n",
    "fig, ax = plt.subplots(figsize=(10, 6))\n",
    "#Generate Heat Map, allow annotations and place floats in map\n",
    "sns.heatmap(corr, cmap='magma', annot=True, fmt=\".2f\")\n",
    "#Apply xticks\n",
    "plt.xticks(range(len(corr.columns)), corr.columns);\n",
    "#Apply yticks\n",
    "plt.yticks(range(len(corr.columns)), corr.columns)\n",
    "#show plot\n",
    "plt.show()"
   ]
  },
  {
   "cell_type": "code",
   "execution_count": 41,
   "id": "4525bee6",
   "metadata": {},
   "outputs": [
    {
     "data": {
      "text/plain": [
       "<Axes: >"
      ]
     },
     "execution_count": 41,
     "metadata": {},
     "output_type": "execute_result"
    },
    {
     "data": {
      "image/png": "[encoded data removed]",
      "text/plain": [
       "<Figure size 640x480 with 1 Axes>"
      ]
     },
     "metadata": {},
     "output_type": "display_data"
    }
   ],
   "source": [
    "stock['Open'].hist()"
   ]
  },
  {
   "cell_type": "code",
   "execution_count": 42,
   "id": "5dc32226",
   "metadata": {},
   "outputs": [
    {
     "data": {
      "text/plain": [
       "<Axes: >"
      ]
     },
     "execution_count": 42,
     "metadata": {},
     "output_type": "execute_result"
    },
    {
     "data": {
      "image/png": "[encoded data removed]",
      "text/plain": [
       "<Figure size 640x480 with 1 Axes>"
      ]
     },
     "metadata": {},
     "output_type": "display_data"
    }
   ],
   "source": [
    "stock['High'].hist()"
   ]
  },
  {
   "cell_type": "code",
   "execution_count": 43,
   "id": "2dc5d02a",
   "metadata": {},
   "outputs": [
    {
     "data": {
      "text/plain": [
       "<Axes: >"
      ]
     },
     "execution_count": 43,
     "metadata": {},
     "output_type": "execute_result"
    },
    {
     "data": {
      "image/png": "[encoded data removed]",
      "text/plain": [
       "<Figure size 640x480 with 1 Axes>"
      ]
     },
     "metadata": {},
     "output_type": "display_data"
    }
   ],
   "source": [
    "stock['Close'].hist()"
   ]
  },
  {
   "cell_type": "code",
   "execution_count": 44,
   "id": "1a770752",
   "metadata": {},
   "outputs": [
    {
     "data": {
      "text/plain": [
       "0"
      ]
     },
     "execution_count": 44,
     "metadata": {},
     "output_type": "execute_result"
    }
   ],
   "source": [
    "#since all the null values where those days where the market was close due to weekend holidays,So removing those rows from the dataset won't make any difference.\n",
    "stock[stock.isnull().any(axis=1)].shape[0]  \n"
   ]
  },
  {
   "cell_type": "code",
   "execution_count": null,
   "id": "3d8bf5dd",
   "metadata": {},
   "outputs": [],
   "source": []
  },
  {
   "cell_type": "code",
   "execution_count": null,
   "id": "dcfb4232",
   "metadata": {},
   "outputs": [],
   "source": []
  },
  {
   "cell_type": "code",
   "execution_count": null,
   "id": "0cb9cc73",
   "metadata": {},
   "outputs": [],
   "source": []
  }
 ],
 "metadata": {
  "kernelspec": {
   "display_name": "Python 3 (ipykernel)",
   "language": "python",
   "name": "python3"
  },
  "language_info": {
   "codemirror_mode": {
    "name": "ipython",
    "version": 3
   },
   "file_extension": ".py",
   "mimetype": "text/x-python",
   "name": "python",
   "nbconvert_exporter": "python",
   "pygments_lexer": "ipython3",
   "version": "3.11.5"
  }
 },
 "nbformat": 4,
 "nbformat_minor": 5
}
