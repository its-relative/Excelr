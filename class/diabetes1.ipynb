{
 "cells": [
  {
   "cell_type": "code",
   "execution_count": 4,
   "metadata": {},
   "outputs": [],
   "source": [
    "import pandas as pd"
   ]
  },
  {
   "cell_type": "code",
   "execution_count": 5,
   "metadata": {},
   "outputs": [],
   "source": [
    "data = pd.read_csv(\"diabetes.csv\")"
   ]
  },
  {
   "cell_type": "code",
   "execution_count": 6,
   "metadata": {},
   "outputs": [],
   "source": [
    "df = data.copy()"
   ]
  },
  {
   "cell_type": "code",
   "execution_count": 7,
   "metadata": {},
   "outputs": [
    {
     "data": {
      "text/plain": [
       "Pregnancies                 0\n",
       "Glucose                     0\n",
       "BloodPressure               0\n",
       "SkinThickness               0\n",
       "Insulin                     0\n",
       "BMI                         0\n",
       "DiabetesPedigreeFunction    0\n",
       "Age                         0\n",
       "Outcome                     0\n",
       "dtype: int64"
      ]
     },
     "execution_count": 7,
     "metadata": {},
     "output_type": "execute_result"
    }
   ],
   "source": [
    "df.isna().sum()"
   ]
  },
  {
   "cell_type": "code",
   "execution_count": 20,
   "metadata": {},
   "outputs": [
    {
     "name": "stdout",
     "output_type": "stream",
     "text": [
      "Pregnancies\n",
      "1     135\n",
      "0     111\n",
      "2     103\n",
      "3      75\n",
      "4      68\n",
      "5      57\n",
      "6      50\n",
      "7      45\n",
      "8      38\n",
      "9      28\n",
      "10     24\n",
      "11     11\n",
      "13     10\n",
      "12      9\n",
      "14      2\n",
      "17      1\n",
      "15      1\n",
      "Name: count, dtype: int64\n"
     ]
    }
   ],
   "source": [
    "for i in df.columns[1:2]:\n",
    "    print(df[i].value_counts())\n",
    "    # print(df.columns[i],i)"
   ]
  },
  {
   "cell_type": "code",
   "execution_count": 22,
   "metadata": {},
   "outputs": [
    {
     "name": "stdout",
     "output_type": "stream",
     "text": [
      "Glucose\n",
      "100    17\n",
      "99     17\n",
      "125    14\n",
      "129    14\n",
      "111    14\n",
      "       ..\n",
      "182     1\n",
      "190     1\n",
      "44      1\n",
      "61      1\n",
      "72      1\n",
      "Name: count, Length: 136, dtype: int64\n"
     ]
    }
   ],
   "source": [
    "for i in df.columns[1:2]:\n",
    "    print(df[i].value_counts())\n"
   ]
  },
  {
   "cell_type": "code",
   "execution_count": 24,
   "metadata": {},
   "outputs": [
    {
     "name": "stdout",
     "output_type": "stream",
     "text": [
      "BloodPressure\n",
      "70     57\n",
      "74     52\n",
      "78     45\n",
      "68     45\n",
      "72     44\n",
      "64     43\n",
      "80     40\n",
      "76     39\n",
      "60     37\n",
      "0      35\n",
      "62     34\n",
      "66     30\n",
      "82     30\n",
      "88     25\n",
      "84     23\n",
      "90     22\n",
      "86     21\n",
      "58     21\n",
      "50     13\n",
      "56     12\n",
      "54     11\n",
      "52     11\n",
      "92      8\n",
      "75      8\n",
      "65      7\n",
      "85      6\n",
      "94      6\n",
      "48      5\n",
      "44      4\n",
      "96      4\n",
      "110     3\n",
      "106     3\n",
      "100     3\n",
      "98      3\n",
      "30      2\n",
      "46      2\n",
      "55      2\n",
      "104     2\n",
      "108     2\n",
      "40      1\n",
      "122     1\n",
      "95      1\n",
      "102     1\n",
      "61      1\n",
      "24      1\n",
      "38      1\n",
      "114     1\n",
      "Name: count, dtype: int64\n"
     ]
    }
   ],
   "source": [
    "for i in df.columns[2:3]:\n",
    "    print(df[i].value_counts())\n",
    "\n"
   ]
  },
  {
   "cell_type": "code",
   "execution_count": 26,
   "metadata": {},
   "outputs": [
    {
     "name": "stdout",
     "output_type": "stream",
     "text": [
      "SkinThickness\n",
      "0     227\n",
      "32     31\n",
      "30     27\n",
      "27     23\n",
      "23     22\n",
      "18     20\n",
      "33     20\n",
      "28     20\n",
      "31     19\n",
      "39     18\n",
      "19     18\n",
      "29     17\n",
      "25     16\n",
      "40     16\n",
      "22     16\n",
      "37     16\n",
      "26     16\n",
      "41     15\n",
      "35     15\n",
      "36     14\n",
      "15     14\n",
      "17     14\n",
      "20     13\n",
      "24     12\n",
      "42     11\n",
      "13     11\n",
      "21     10\n",
      "46      8\n",
      "34      8\n",
      "12      7\n",
      "38      7\n",
      "16      6\n",
      "11      6\n",
      "45      6\n",
      "14      6\n",
      "43      6\n",
      "44      5\n",
      "10      5\n",
      "47      4\n",
      "48      4\n",
      "49      3\n",
      "50      3\n",
      "54      2\n",
      "8       2\n",
      "52      2\n",
      "7       2\n",
      "60      1\n",
      "51      1\n",
      "56      1\n",
      "63      1\n",
      "99      1\n",
      "Name: count, dtype: int64\n"
     ]
    }
   ],
   "source": [
    "for i in df.columns[3:4]:\n",
    "    print(df[i].value_counts())"
   ]
  },
  {
   "cell_type": "code",
   "execution_count": 28,
   "metadata": {},
   "outputs": [
    {
     "name": "stdout",
     "output_type": "stream",
     "text": [
      "Insulin\n",
      "0      374\n",
      "105     11\n",
      "130      9\n",
      "140      9\n",
      "120      8\n",
      "      ... \n",
      "127      1\n",
      "510      1\n",
      "402      1\n",
      "258      1\n",
      "375      1\n",
      "Name: count, Length: 186, dtype: int64\n"
     ]
    }
   ],
   "source": [
    "for i in df.columns[4:5]:\n",
    "    print(df[i].value_counts())"
   ]
  },
  {
   "cell_type": "code",
   "execution_count": 50,
   "metadata": {},
   "outputs": [],
   "source": [
    "# print(df.shape)\n",
    "check_list = []\n",
    "for i in df.columns[5:6]:\n",
    "    check_list.extend(df[i].value_counts())\n",
    "# len(check_list)\n",
    "# print(check_list)\n",
    "if len(check_list) == df.shape[0]:\n",
    "    print(\"yes\")\n"
   ]
  },
  {
   "cell_type": "code",
   "execution_count": 32,
   "metadata": {},
   "outputs": [
    {
     "name": "stdout",
     "output_type": "stream",
     "text": [
      "DiabetesPedigreeFunction\n",
      "0.258    6\n",
      "0.254    6\n",
      "0.268    5\n",
      "0.207    5\n",
      "0.261    5\n",
      "        ..\n",
      "0.427    1\n",
      "1.213    1\n",
      "0.329    1\n",
      "1.318    1\n",
      "0.933    1\n",
      "Name: count, Length: 517, dtype: int64\n"
     ]
    }
   ],
   "source": [
    "for i in df.columns[6:7]:\n",
    "    print(df[i].value_counts())"
   ]
  },
  {
   "cell_type": "code",
   "execution_count": 34,
   "metadata": {},
   "outputs": [
    {
     "name": "stdout",
     "output_type": "stream",
     "text": [
      "Age\n",
      "22    72\n",
      "21    63\n",
      "25    48\n",
      "24    46\n",
      "23    38\n",
      "28    35\n",
      "26    33\n",
      "27    32\n",
      "29    29\n",
      "31    24\n",
      "41    22\n",
      "30    21\n",
      "37    19\n",
      "42    18\n",
      "33    17\n",
      "36    16\n",
      "38    16\n",
      "32    16\n",
      "45    15\n",
      "34    14\n",
      "46    13\n",
      "40    13\n",
      "43    13\n",
      "39    12\n",
      "35    10\n",
      "44     8\n",
      "50     8\n",
      "51     8\n",
      "52     8\n",
      "58     7\n",
      "54     6\n",
      "47     6\n",
      "49     5\n",
      "60     5\n",
      "53     5\n",
      "57     5\n",
      "48     5\n",
      "63     4\n",
      "66     4\n",
      "55     4\n",
      "62     4\n",
      "59     3\n",
      "56     3\n",
      "65     3\n",
      "67     3\n",
      "61     2\n",
      "69     2\n",
      "72     1\n",
      "81     1\n",
      "64     1\n",
      "70     1\n",
      "68     1\n",
      "Name: count, dtype: int64\n"
     ]
    }
   ],
   "source": [
    "for i in df.columns[7:8]:\n",
    "    print(df[i].value_counts())"
   ]
  },
  {
   "cell_type": "code",
   "execution_count": 36,
   "metadata": {},
   "outputs": [
    {
     "name": "stdout",
     "output_type": "stream",
     "text": [
      "Outcome\n",
      "0    500\n",
      "1    268\n",
      "Name: count, dtype: int64\n"
     ]
    }
   ],
   "source": [
    "for i in df.columns[8:9]:\n",
    "    print(df[i].value_counts())"
   ]
  },
  {
   "cell_type": "code",
   "execution_count": 39,
   "metadata": {},
   "outputs": [],
   "source": [
    "listCoulumns = list(df.columns)"
   ]
  },
  {
   "cell_type": "code",
   "execution_count": 40,
   "metadata": {},
   "outputs": [
    {
     "ename": "SyntaxError",
     "evalue": "incomplete input (3409156783.py, line 2)",
     "output_type": "error",
     "traceback": [
      "\u001b[0;36m  Cell \u001b[0;32mIn[40], line 2\u001b[0;36m\u001b[0m\n\u001b[0;31m    \u001b[0m\n\u001b[0m    ^\u001b[0m\n\u001b[0;31mSyntaxError\u001b[0m\u001b[0;31m:\u001b[0m incomplete input\n"
     ]
    }
   ],
   "source": [
    "def corr_calculator(l):\n",
    "        \n",
    "\n"
   ]
  },
  {
   "cell_type": "code",
   "execution_count": 75,
   "metadata": {},
   "outputs": [
    {
     "name": "stdout",
     "output_type": "stream",
     "text": [
      "Glucose\n",
      "SkinThickness\n",
      "Insulin\n",
      "BMI\n",
      "DiabetesPedigreeFunction\n",
      "Age\n"
     ]
    }
   ],
   "source": [
    "from scipy.stats import contingency\n",
    "from scipy.stats import pearsonr\n",
    "categorical_var = [\"Pregnancies\"]\n",
    "continuous_var = [\"Glucose\", \"BloodPressure\", \"SkinThickness\", \"Insulin\", \"BMI\", \"DiabetesPedigreeFunction\", \"Age\"]\n",
    "# pearsonr(df[\"Glucose\"],df[\"Outcome\"])\n",
    "\n",
    "for i in range(len(continuous_var)):\n",
    "    corr_coef,p_val =  pearsonr(df[continuous_var[i]],df[\"Outcome\"])\n",
    "    if p_val < 0.05:\n",
    "        print(continuous_var[i])"
   ]
  },
  {
   "cell_type": "code",
   "execution_count": 69,
   "metadata": {},
   "outputs": [],
   "source": [
    "correlated = [\"Glucose\"\n",
    ",\"SkinThickness\"\n",
    ",\"Insulin\"\n",
    ",\"BMI\"\n",
    ",\"DiabetesPedigreeFunction\"\n",
    ",'Age']"
   ]
  },
  {
   "cell_type": "code",
   "execution_count": 76,
   "metadata": {},
   "outputs": [
    {
     "data": {
      "text/plain": [
       "'correlated'"
      ]
     },
     "execution_count": 76,
     "metadata": {},
     "output_type": "execute_result"
    }
   ],
   "source": [
    "from scipy.stats import f_oneway\n",
    "continuous_var = [\"Glucose\", \"BloodPressure\", \"SkinThickness\", \"Insulin\", \"BMI\", \"DiabetesPedigreeFunction\", \"Age\"]\n",
    "\n",
    "def anova_continuous(df, continuous_var, outcome_var):\n",
    "    # Separate the data into groups based on the outcome variable\n",
    "    group1 = df[df[outcome_var] == 0][continuous_var]\n",
    "    group2 = df[df[outcome_var] == 1][continuous_var]\n",
    "    \n",
    "    # Perform one-way ANOVA\n",
    "    f_statistic, p_value = f_oneway(group1, group2)\n",
    "    \n",
    "    # Print results\n",
    "    # print(f\"F-statistic: {f_statistic}\")\n",
    "    # print(f\"P-value: {p_value}\")\n",
    "    if p_value < 0.05:\n",
    "        return [\"correlated\"]\n",
    "# Example usage\n",
    "continuous_var = \"Pregnancies\"\n",
    "outcome_var = \"Outcome\"\n",
    "anova_continuous(df, continuous_var, outcome_var)\n",
    "\n",
    "# if p_value < 0.05:\n",
    "\n",
    "\n"
   ]
  },
  {
   "cell_type": "code",
   "execution_count": 88,
   "metadata": {},
   "outputs": [],
   "source": [
    "df_age  = df[df[\"Outcome\"] == 1]"
   ]
  },
  {
   "cell_type": "code",
   "execution_count": 91,
   "metadata": {},
   "outputs": [
    {
     "data": {
      "text/plain": [
       "37.06716417910448"
      ]
     },
     "execution_count": 91,
     "metadata": {},
     "output_type": "execute_result"
    }
   ],
   "source": [
    "df_age[\"Age\"].mean()\n",
    "# df_age"
   ]
  },
  {
   "cell_type": "code",
   "execution_count": 99,
   "metadata": {},
   "outputs": [
    {
     "data": {
      "text/html": [
       "<div>\n",
       "<style scoped>\n",
       "    .dataframe tbody tr th:only-of-type {\n",
       "        vertical-align: middle;\n",
       "    }\n",
       "\n",
       "    .dataframe tbody tr th {\n",
       "        vertical-align: top;\n",
       "    }\n",
       "\n",
       "    .dataframe thead th {\n",
       "        text-align: right;\n",
       "    }\n",
       "</style>\n",
       "<table border=\"1\" class=\"dataframe\">\n",
       "  <thead>\n",
       "    <tr style=\"text-align: right;\">\n",
       "      <th></th>\n",
       "      <th>Glucose</th>\n",
       "      <th>BloodPressure</th>\n",
       "      <th>SkinThickness</th>\n",
       "      <th>Insulin</th>\n",
       "      <th>BMI</th>\n",
       "      <th>DiabetesPedigreeFunction</th>\n",
       "      <th>Age</th>\n",
       "    </tr>\n",
       "  </thead>\n",
       "  <tbody>\n",
       "    <tr>\n",
       "      <th>count</th>\n",
       "      <td>768.000000</td>\n",
       "      <td>768.000000</td>\n",
       "      <td>768.000000</td>\n",
       "      <td>768.000000</td>\n",
       "      <td>768.000000</td>\n",
       "      <td>768.000000</td>\n",
       "      <td>768.000000</td>\n",
       "    </tr>\n",
       "    <tr>\n",
       "      <th>mean</th>\n",
       "      <td>120.894531</td>\n",
       "      <td>69.105469</td>\n",
       "      <td>20.536458</td>\n",
       "      <td>79.799479</td>\n",
       "      <td>31.992578</td>\n",
       "      <td>0.471876</td>\n",
       "      <td>33.240885</td>\n",
       "    </tr>\n",
       "    <tr>\n",
       "      <th>std</th>\n",
       "      <td>31.972618</td>\n",
       "      <td>19.355807</td>\n",
       "      <td>15.952218</td>\n",
       "      <td>115.244002</td>\n",
       "      <td>7.884160</td>\n",
       "      <td>0.331329</td>\n",
       "      <td>11.760232</td>\n",
       "    </tr>\n",
       "    <tr>\n",
       "      <th>min</th>\n",
       "      <td>0.000000</td>\n",
       "      <td>0.000000</td>\n",
       "      <td>0.000000</td>\n",
       "      <td>0.000000</td>\n",
       "      <td>0.000000</td>\n",
       "      <td>0.078000</td>\n",
       "      <td>21.000000</td>\n",
       "    </tr>\n",
       "    <tr>\n",
       "      <th>25%</th>\n",
       "      <td>99.000000</td>\n",
       "      <td>62.000000</td>\n",
       "      <td>0.000000</td>\n",
       "      <td>0.000000</td>\n",
       "      <td>27.300000</td>\n",
       "      <td>0.243750</td>\n",
       "      <td>24.000000</td>\n",
       "    </tr>\n",
       "    <tr>\n",
       "      <th>50%</th>\n",
       "      <td>117.000000</td>\n",
       "      <td>72.000000</td>\n",
       "      <td>23.000000</td>\n",
       "      <td>30.500000</td>\n",
       "      <td>32.000000</td>\n",
       "      <td>0.372500</td>\n",
       "      <td>29.000000</td>\n",
       "    </tr>\n",
       "    <tr>\n",
       "      <th>75%</th>\n",
       "      <td>140.250000</td>\n",
       "      <td>80.000000</td>\n",
       "      <td>32.000000</td>\n",
       "      <td>127.250000</td>\n",
       "      <td>36.600000</td>\n",
       "      <td>0.626250</td>\n",
       "      <td>41.000000</td>\n",
       "    </tr>\n",
       "    <tr>\n",
       "      <th>max</th>\n",
       "      <td>199.000000</td>\n",
       "      <td>122.000000</td>\n",
       "      <td>99.000000</td>\n",
       "      <td>846.000000</td>\n",
       "      <td>67.100000</td>\n",
       "      <td>2.420000</td>\n",
       "      <td>81.000000</td>\n",
       "    </tr>\n",
       "  </tbody>\n",
       "</table>\n",
       "</div>"
      ],
      "text/plain": [
       "          Glucose  BloodPressure  SkinThickness     Insulin         BMI  \\\n",
       "count  768.000000     768.000000     768.000000  768.000000  768.000000   \n",
       "mean   120.894531      69.105469      20.536458   79.799479   31.992578   \n",
       "std     31.972618      19.355807      15.952218  115.244002    7.884160   \n",
       "min      0.000000       0.000000       0.000000    0.000000    0.000000   \n",
       "25%     99.000000      62.000000       0.000000    0.000000   27.300000   \n",
       "50%    117.000000      72.000000      23.000000   30.500000   32.000000   \n",
       "75%    140.250000      80.000000      32.000000  127.250000   36.600000   \n",
       "max    199.000000     122.000000      99.000000  846.000000   67.100000   \n",
       "\n",
       "       DiabetesPedigreeFunction         Age  \n",
       "count                768.000000  768.000000  \n",
       "mean                   0.471876   33.240885  \n",
       "std                    0.331329   11.760232  \n",
       "min                    0.078000   21.000000  \n",
       "25%                    0.243750   24.000000  \n",
       "50%                    0.372500   29.000000  \n",
       "75%                    0.626250   41.000000  \n",
       "max                    2.420000   81.000000  "
      ]
     },
     "execution_count": 99,
     "metadata": {},
     "output_type": "execute_result"
    }
   ],
   "source": [
    "continuous_var = [\"Glucose\", \"BloodPressure\", \"SkinThickness\", \"Insulin\", \"BMI\", \"DiabetesPedigreeFunction\", \"Age\"]\n",
    "# for i in continuous_var:\n",
    "check_df = df[continuous_var].describe()\n",
    "check_df"
   ]
  },
  {
   "cell_type": "code",
   "execution_count": 111,
   "metadata": {},
   "outputs": [],
   "source": [
    "Iqr = []\n",
    "for i in check_df[continuous_var]:\n",
    "    Iqr.append([i,check_df[i].describe()[\"75%\"] - check_df[i].describe()[\"25%\"],check_df[i].describe()[\"25%\"] - 1.5*(check_df[i].describe()[\"75%\"] - check_df[i].describe()[\"25%\"]),check_df[i].describe()[\"75%\"] + 1.5*(check_df[i].describe()[\"75%\"] - check_df[i].describe()[\"25%\"])])"
   ]
  },
  {
   "cell_type": "code",
   "execution_count": 115,
   "metadata": {},
   "outputs": [
    {
     "data": {
      "text/plain": [
       "[['Glucose', 72.69434545121595, -26.79836362803988, 263.97901817682396],\n",
       " ['BloodPressure', 39.16104820733881, -7.402620518347021, 149.2415723110082],\n",
       " ['SkinThickness', 36.785836824204274, -43.21459206051069, 103.92875523630642],\n",
       " ['Insulin', 264.5625, -373.96875, 684.28125],\n",
       " ['BMI', 21.77895991990614, -10.222399799765345, 76.89343987985922],\n",
       " ['DiabetesPedigreeFunction',\n",
       "  0.7652535537404188,\n",
       "  -0.838446384351047,\n",
       "  2.222567830610628],\n",
       " ['Age', 27.75, -18.375, 92.625]]"
      ]
     },
     "execution_count": 115,
     "metadata": {},
     "output_type": "execute_result"
    }
   ],
   "source": [
    "Iqr\n",
    "# for i in continuous_var:\n",
    "#     print(df[i])\n",
    "# for i in Iqr:\n",
    "    # high = Iqr"
   ]
  },
  {
   "cell_type": "code",
   "execution_count": 132,
   "metadata": {},
   "outputs": [
    {
     "name": "stdout",
     "output_type": "stream",
     "text": [
      "0 0\n",
      "0 0\n",
      "0 0\n",
      "0 54\n",
      "0 0\n",
      "0 0\n",
      "0 0\n"
     ]
    }
   ],
   "source": [
    "# print(Iqr[0][2])\n",
    "# print(Iqr[0][3])\n",
    "for i in continuous_var:\n",
    "    # print(type(compare1 = Iqr[2]))\n",
    "    \n",
    "    # compare2 = Iqr[3]\n",
    "    new_df = df[df[i] <= Iqr[0][2] ]\n",
    "    new_df2 = df[df[i] >= Iqr[0][3] ]\n",
    "    \n",
    "    print(len(new_df[i]),len(new_df2[i]))"
   ]
  },
  {
   "cell_type": "code",
   "execution_count": 152,
   "metadata": {},
   "outputs": [
    {
     "name": "stdout",
     "output_type": "stream",
     "text": [
      "<class 'numpy.float64'>\n"
     ]
    },
    {
     "ename": "KeyError",
     "evalue": "0",
     "output_type": "error",
     "traceback": [
      "\u001b[0;31m---------------------------------------------------------------------------\u001b[0m",
      "\u001b[0;31mKeyError\u001b[0m                                  Traceback (most recent call last)",
      "File \u001b[0;32m~/.local/lib/python3.10/site-packages/pandas/core/indexes/base.py:3653\u001b[0m, in \u001b[0;36mIndex.get_loc\u001b[0;34m(self, key)\u001b[0m\n\u001b[1;32m   3652\u001b[0m \u001b[38;5;28;01mtry\u001b[39;00m:\n\u001b[0;32m-> 3653\u001b[0m     \u001b[38;5;28;01mreturn\u001b[39;00m \u001b[38;5;28;43mself\u001b[39;49m\u001b[38;5;241;43m.\u001b[39;49m\u001b[43m_engine\u001b[49m\u001b[38;5;241;43m.\u001b[39;49m\u001b[43mget_loc\u001b[49m\u001b[43m(\u001b[49m\u001b[43mcasted_key\u001b[49m\u001b[43m)\u001b[49m\n\u001b[1;32m   3654\u001b[0m \u001b[38;5;28;01mexcept\u001b[39;00m \u001b[38;5;167;01mKeyError\u001b[39;00m \u001b[38;5;28;01mas\u001b[39;00m err:\n",
      "File \u001b[0;32m~/.local/lib/python3.10/site-packages/pandas/_libs/index.pyx:147\u001b[0m, in \u001b[0;36mpandas._libs.index.IndexEngine.get_loc\u001b[0;34m()\u001b[0m\n",
      "File \u001b[0;32m~/.local/lib/python3.10/site-packages/pandas/_libs/index.pyx:176\u001b[0m, in \u001b[0;36mpandas._libs.index.IndexEngine.get_loc\u001b[0;34m()\u001b[0m\n",
      "File \u001b[0;32mpandas/_libs/hashtable_class_helper.pxi:7080\u001b[0m, in \u001b[0;36mpandas._libs.hashtable.PyObjectHashTable.get_item\u001b[0;34m()\u001b[0m\n",
      "File \u001b[0;32mpandas/_libs/hashtable_class_helper.pxi:7088\u001b[0m, in \u001b[0;36mpandas._libs.hashtable.PyObjectHashTable.get_item\u001b[0;34m()\u001b[0m\n",
      "\u001b[0;31mKeyError\u001b[0m: 0",
      "\nThe above exception was the direct cause of the following exception:\n",
      "\u001b[0;31mKeyError\u001b[0m                                  Traceback (most recent call last)",
      "Cell \u001b[0;32mIn[152], line 18\u001b[0m\n\u001b[1;32m     13\u001b[0m         new_df2 \u001b[38;5;241m=\u001b[39m df[df[i] \u001b[38;5;241m>\u001b[39m compare2 ]\n\u001b[1;32m     15\u001b[0m         \u001b[38;5;66;03m# if len(new_df[df[i]]) >= 0 or len(new_df2[df[i]]) >= 0:\u001b[39;00m\n\u001b[1;32m     16\u001b[0m         \u001b[38;5;66;03m#     return [i,len(new_df[df[i]]),len(new_df2[df[i]])]\u001b[39;00m\n\u001b[1;32m     17\u001b[0m     \u001b[38;5;66;03m# return new_df    \u001b[39;00m\n\u001b[0;32m---> 18\u001b[0m \u001b[43moutliers\u001b[49m\u001b[43m(\u001b[49m\u001b[43m)\u001b[49m\n",
      "Cell \u001b[0;32mIn[152], line 12\u001b[0m, in \u001b[0;36moutliers\u001b[0;34m()\u001b[0m\n\u001b[1;32m      9\u001b[0m     \u001b[38;5;28mprint\u001b[39m(\u001b[38;5;28mtype\u001b[39m(compare1))\n\u001b[1;32m     10\u001b[0m \u001b[38;5;66;03m# return Iqr\u001b[39;00m\n\u001b[1;32m     11\u001b[0m \u001b[38;5;66;03m# compare2 = Iqr[3]\u001b[39;00m\n\u001b[0;32m---> 12\u001b[0m     new_df \u001b[38;5;241m=\u001b[39m df[\u001b[43mdf\u001b[49m\u001b[43m[\u001b[49m\u001b[43mi\u001b[49m\u001b[43m]\u001b[49m \u001b[38;5;241m<\u001b[39m compare1 ]\n\u001b[1;32m     13\u001b[0m     new_df2 \u001b[38;5;241m=\u001b[39m df[df[i] \u001b[38;5;241m>\u001b[39m compare2 ]\n",
      "File \u001b[0;32m~/.local/lib/python3.10/site-packages/pandas/core/frame.py:3761\u001b[0m, in \u001b[0;36mDataFrame.__getitem__\u001b[0;34m(self, key)\u001b[0m\n\u001b[1;32m   3759\u001b[0m \u001b[38;5;28;01mif\u001b[39;00m \u001b[38;5;28mself\u001b[39m\u001b[38;5;241m.\u001b[39mcolumns\u001b[38;5;241m.\u001b[39mnlevels \u001b[38;5;241m>\u001b[39m \u001b[38;5;241m1\u001b[39m:\n\u001b[1;32m   3760\u001b[0m     \u001b[38;5;28;01mreturn\u001b[39;00m \u001b[38;5;28mself\u001b[39m\u001b[38;5;241m.\u001b[39m_getitem_multilevel(key)\n\u001b[0;32m-> 3761\u001b[0m indexer \u001b[38;5;241m=\u001b[39m \u001b[38;5;28;43mself\u001b[39;49m\u001b[38;5;241;43m.\u001b[39;49m\u001b[43mcolumns\u001b[49m\u001b[38;5;241;43m.\u001b[39;49m\u001b[43mget_loc\u001b[49m\u001b[43m(\u001b[49m\u001b[43mkey\u001b[49m\u001b[43m)\u001b[49m\n\u001b[1;32m   3762\u001b[0m \u001b[38;5;28;01mif\u001b[39;00m is_integer(indexer):\n\u001b[1;32m   3763\u001b[0m     indexer \u001b[38;5;241m=\u001b[39m [indexer]\n",
      "File \u001b[0;32m~/.local/lib/python3.10/site-packages/pandas/core/indexes/base.py:3655\u001b[0m, in \u001b[0;36mIndex.get_loc\u001b[0;34m(self, key)\u001b[0m\n\u001b[1;32m   3653\u001b[0m     \u001b[38;5;28;01mreturn\u001b[39;00m \u001b[38;5;28mself\u001b[39m\u001b[38;5;241m.\u001b[39m_engine\u001b[38;5;241m.\u001b[39mget_loc(casted_key)\n\u001b[1;32m   3654\u001b[0m \u001b[38;5;28;01mexcept\u001b[39;00m \u001b[38;5;167;01mKeyError\u001b[39;00m \u001b[38;5;28;01mas\u001b[39;00m err:\n\u001b[0;32m-> 3655\u001b[0m     \u001b[38;5;28;01mraise\u001b[39;00m \u001b[38;5;167;01mKeyError\u001b[39;00m(key) \u001b[38;5;28;01mfrom\u001b[39;00m \u001b[38;5;21;01merr\u001b[39;00m\n\u001b[1;32m   3656\u001b[0m \u001b[38;5;28;01mexcept\u001b[39;00m \u001b[38;5;167;01mTypeError\u001b[39;00m:\n\u001b[1;32m   3657\u001b[0m     \u001b[38;5;66;03m# If we have a listlike key, _check_indexing_error will raise\u001b[39;00m\n\u001b[1;32m   3658\u001b[0m     \u001b[38;5;66;03m#  InvalidIndexError. Otherwise we fall through and re-raise\u001b[39;00m\n\u001b[1;32m   3659\u001b[0m     \u001b[38;5;66;03m#  the TypeError.\u001b[39;00m\n\u001b[1;32m   3660\u001b[0m     \u001b[38;5;28mself\u001b[39m\u001b[38;5;241m.\u001b[39m_check_indexing_error(key)\n",
      "\u001b[0;31mKeyError\u001b[0m: 0"
     ]
    }
   ],
   "source": [
    "def outliers():\n",
    "    Iqr = []\n",
    "    for i in check_df[continuous_var]:\n",
    "        Iqr.append([i,check_df[i].describe()[\"75%\"] - check_df[i].describe()[\"25%\"],check_df[i].describe()[\"25%\"] - 1.5*(check_df[i].describe()[\"75%\"] - check_df[i].describe()[\"25%\"]),check_df[i].describe()[\"75%\"] + 1.5*(check_df[i].describe()[\"75%\"] - check_df[i].describe()[\"25%\"])])\n",
    "    \n",
    "    for i in range(len(continuous_var)):\n",
    "        compare1 = Iqr[i][2]\n",
    "        compare2 = Iqr[i][3]\n",
    "        print(type(compare1))\n",
    "    # return Iqr\n",
    "    # compare2 = Iqr[3]\n",
    "        new_df = df[df[i] < compare1 ]\n",
    "        new_df2 = df[df[i] > compare2 ]\n",
    "    \n",
    "        # if len(new_df[df[i]]) >= 0 or len(new_df2[df[i]]) >= 0:\n",
    "        #     return [i,len(new_df[df[i]]),len(new_df2[df[i]])]\n",
    "    # return new_df    \n",
    "outliers()"
   ]
  },
  {
   "cell_type": "code",
   "execution_count": 1,
   "metadata": {},
   "outputs": [
    {
     "ename": "NameError",
     "evalue": "name 'df' is not defined",
     "output_type": "error",
     "traceback": [
      "\u001b[0;31m---------------------------------------------------------------------------\u001b[0m",
      "\u001b[0;31mNameError\u001b[0m                                 Traceback (most recent call last)",
      "Cell \u001b[0;32mIn[1], line 23\u001b[0m\n\u001b[1;32m     21\u001b[0m continuous_vars \u001b[38;5;241m=\u001b[39m [\u001b[38;5;124m\"\u001b[39m\u001b[38;5;124mGlucose\u001b[39m\u001b[38;5;124m\"\u001b[39m, \u001b[38;5;124m\"\u001b[39m\u001b[38;5;124mBloodPressure\u001b[39m\u001b[38;5;124m\"\u001b[39m, \u001b[38;5;124m\"\u001b[39m\u001b[38;5;124mSkinThickness\u001b[39m\u001b[38;5;124m\"\u001b[39m, \u001b[38;5;124m\"\u001b[39m\u001b[38;5;124mInsulin\u001b[39m\u001b[38;5;124m\"\u001b[39m, \u001b[38;5;124m\"\u001b[39m\u001b[38;5;124mBMI\u001b[39m\u001b[38;5;124m\"\u001b[39m, \u001b[38;5;124m\"\u001b[39m\u001b[38;5;124mDiabetesPedigreeFunction\u001b[39m\u001b[38;5;124m\"\u001b[39m, \u001b[38;5;124m\"\u001b[39m\u001b[38;5;124mAge\u001b[39m\u001b[38;5;124m\"\u001b[39m]\n\u001b[1;32m     22\u001b[0m outcome_var \u001b[38;5;241m=\u001b[39m \u001b[38;5;124m\"\u001b[39m\u001b[38;5;124mOutcome\u001b[39m\u001b[38;5;124m\"\u001b[39m\n\u001b[0;32m---> 23\u001b[0m correlated_vars \u001b[38;5;241m=\u001b[39m anova_continuous(\u001b[43mdf\u001b[49m, continuous_vars, outcome_var)\n\u001b[1;32m     24\u001b[0m \u001b[38;5;28mprint\u001b[39m(correlated_vars)\n",
      "\u001b[0;31mNameError\u001b[0m: name 'df' is not defined"
     ]
    }
   ],
   "source": [
    "from scipy.stats import f_oneway\n",
    "\n",
    "def anova_continuous(df, continuous_vars, outcome_var):\n",
    "    correlated_vars = []\n",
    "\n",
    "    for var in continuous_vars:\n",
    "        # Separate the data into groups based on the outcome variable\n",
    "        group1 = df[df[outcome_var] == 0][var]\n",
    "        group2 = df[df[outcome_var] == 1][var]\n",
    "        \n",
    "        # Perform one-way ANOVA\n",
    "        f_statistic, p_value = f_oneway(group1, group2)\n",
    "        \n",
    "        # Check if the variable is correlated\n",
    "        if p_value <= 0.05:\n",
    "            correlated_vars.append((var, f_statistic, p_value))\n",
    "\n",
    "    return correlated_vars\n",
    "\n",
    "# Example usage\n",
    "continuous_vars = [\"Glucose\", \"BloodPressure\", \"SkinThickness\", \"Insulin\", \"BMI\", \"DiabetesPedigreeFunction\", \"Age\"]\n",
    "outcome_var = \"Outcome\"\n",
    "correlated_vars = anova_continuous(df, continuous_vars, outcome_var)\n",
    "print(correlated_vars)\n"
   ]
  },
  {
   "cell_type": "code",
   "execution_count": 11,
   "metadata": {},
   "outputs": [],
   "source": [
    "from sklearn.linear_model import Lasso, Ridge\n",
    "from sklearn.model_selection import train_test_split\n",
    "x = data.iloc[:,:-1]\n",
    "y = data.iloc[:,-1:]"
   ]
  },
  {
   "cell_type": "code",
   "execution_count": 13,
   "metadata": {},
   "outputs": [],
   "source": [
    "x_train,x_test,y_train,y_test = train_test_split(x,y,test_size=0.2,random_state=42)"
   ]
  },
  {
   "cell_type": "code",
   "execution_count": 17,
   "metadata": {},
   "outputs": [
    {
     "data": {
      "text/html": [
       "<style>#sk-container-id-2 {color: black;}#sk-container-id-2 pre{padding: 0;}#sk-container-id-2 div.sk-toggleable {background-color: white;}#sk-container-id-2 label.sk-toggleable__label {cursor: pointer;display: block;width: 100%;margin-bottom: 0;padding: 0.3em;box-sizing: border-box;text-align: center;}#sk-container-id-2 label.sk-toggleable__label-arrow:before {content: \"▸\";float: left;margin-right: 0.25em;color: #696969;}#sk-container-id-2 label.sk-toggleable__label-arrow:hover:before {color: black;}#sk-container-id-2 div.sk-estimator:hover label.sk-toggleable__label-arrow:before {color: black;}#sk-container-id-2 div.sk-toggleable__content {max-height: 0;max-width: 0;overflow: hidden;text-align: left;background-color: #f0f8ff;}#sk-container-id-2 div.sk-toggleable__content pre {margin: 0.2em;color: black;border-radius: 0.25em;background-color: #f0f8ff;}#sk-container-id-2 input.sk-toggleable__control:checked~div.sk-toggleable__content {max-height: 200px;max-width: 100%;overflow: auto;}#sk-container-id-2 input.sk-toggleable__control:checked~label.sk-toggleable__label-arrow:before {content: \"▾\";}#sk-container-id-2 div.sk-estimator input.sk-toggleable__control:checked~label.sk-toggleable__label {background-color: #d4ebff;}#sk-container-id-2 div.sk-label input.sk-toggleable__control:checked~label.sk-toggleable__label {background-color: #d4ebff;}#sk-container-id-2 input.sk-hidden--visually {border: 0;clip: rect(1px 1px 1px 1px);clip: rect(1px, 1px, 1px, 1px);height: 1px;margin: -1px;overflow: hidden;padding: 0;position: absolute;width: 1px;}#sk-container-id-2 div.sk-estimator {font-family: monospace;background-color: #f0f8ff;border: 1px dotted black;border-radius: 0.25em;box-sizing: border-box;margin-bottom: 0.5em;}#sk-container-id-2 div.sk-estimator:hover {background-color: #d4ebff;}#sk-container-id-2 div.sk-parallel-item::after {content: \"\";width: 100%;border-bottom: 1px solid gray;flex-grow: 1;}#sk-container-id-2 div.sk-label:hover label.sk-toggleable__label {background-color: #d4ebff;}#sk-container-id-2 div.sk-serial::before {content: \"\";position: absolute;border-left: 1px solid gray;box-sizing: border-box;top: 0;bottom: 0;left: 50%;z-index: 0;}#sk-container-id-2 div.sk-serial {display: flex;flex-direction: column;align-items: center;background-color: white;padding-right: 0.2em;padding-left: 0.2em;position: relative;}#sk-container-id-2 div.sk-item {position: relative;z-index: 1;}#sk-container-id-2 div.sk-parallel {display: flex;align-items: stretch;justify-content: center;background-color: white;position: relative;}#sk-container-id-2 div.sk-item::before, #sk-container-id-2 div.sk-parallel-item::before {content: \"\";position: absolute;border-left: 1px solid gray;box-sizing: border-box;top: 0;bottom: 0;left: 50%;z-index: -1;}#sk-container-id-2 div.sk-parallel-item {display: flex;flex-direction: column;z-index: 1;position: relative;background-color: white;}#sk-container-id-2 div.sk-parallel-item:first-child::after {align-self: flex-end;width: 50%;}#sk-container-id-2 div.sk-parallel-item:last-child::after {align-self: flex-start;width: 50%;}#sk-container-id-2 div.sk-parallel-item:only-child::after {width: 0;}#sk-container-id-2 div.sk-dashed-wrapped {border: 1px dashed gray;margin: 0 0.4em 0.5em 0.4em;box-sizing: border-box;padding-bottom: 0.4em;background-color: white;}#sk-container-id-2 div.sk-label label {font-family: monospace;font-weight: bold;display: inline-block;line-height: 1.2em;}#sk-container-id-2 div.sk-label-container {text-align: center;}#sk-container-id-2 div.sk-container {/* jupyter's `normalize.less` sets `[hidden] { display: none; }` but bootstrap.min.css set `[hidden] { display: none !important; }` so we also need the `!important` here to be able to override the default hidden behavior on the sphinx rendered scikit-learn.org. See: https://github.com/scikit-learn/scikit-learn/issues/21755 */display: inline-block !important;position: relative;}#sk-container-id-2 div.sk-text-repr-fallback {display: none;}</style><div id=\"sk-container-id-2\" class=\"sk-top-container\"><div class=\"sk-text-repr-fallback\"><pre>Lasso(alpha=1)</pre><b>In a Jupyter environment, please rerun this cell to show the HTML representation or trust the notebook. <br />On GitHub, the HTML representation is unable to render, please try loading this page with nbviewer.org.</b></div><div class=\"sk-container\" hidden><div class=\"sk-item\"><div class=\"sk-estimator sk-toggleable\"><input class=\"sk-toggleable__control sk-hidden--visually\" id=\"sk-estimator-id-2\" type=\"checkbox\" checked><label for=\"sk-estimator-id-2\" class=\"sk-toggleable__label sk-toggleable__label-arrow\">Lasso</label><div class=\"sk-toggleable__content\"><pre>Lasso(alpha=1)</pre></div></div></div></div></div>"
      ],
      "text/plain": [
       "Lasso(alpha=1)"
      ]
     },
     "execution_count": 17,
     "metadata": {},
     "output_type": "execute_result"
    }
   ],
   "source": [
    "lass = Lasso(alpha=1)\n",
    "lass.fit(x_train,y_train)"
   ]
  },
  {
   "cell_type": "code",
   "execution_count": 19,
   "metadata": {},
   "outputs": [
    {
     "data": {
      "text/plain": [
       "array([ 0.00000000e+00,  5.83502313e-03,  0.00000000e+00,  0.00000000e+00,\n",
       "       -2.32557839e-05,  0.00000000e+00,  0.00000000e+00,  0.00000000e+00])"
      ]
     },
     "execution_count": 19,
     "metadata": {},
     "output_type": "execute_result"
    }
   ],
   "source": [
    "lass.coef_"
   ]
  },
  {
   "cell_type": "code",
   "execution_count": 20,
   "metadata": {},
   "outputs": [
    {
     "data": {
      "text/plain": [
       "array([[ 0.01045897,  0.00563545, -0.00228148,  0.00053711, -0.00027789,\n",
       "         0.01504193,  0.10959499,  0.00646247]])"
      ]
     },
     "execution_count": 20,
     "metadata": {},
     "output_type": "execute_result"
    }
   ],
   "source": [
    "ridge = Ridge()\n",
    "ridge.fit(x_train,y_train)\n",
    "ridge.coef_"
   ]
  },
  {
   "cell_type": "code",
   "execution_count": null,
   "metadata": {},
   "outputs": [],
   "source": []
  }
 ],
 "metadata": {
  "kernelspec": {
   "display_name": "Python 3",
   "language": "python",
   "name": "python3"
  },
  "language_info": {
   "codemirror_mode": {
    "name": "ipython",
    "version": 3
   },
   "file_extension": ".py",
   "mimetype": "text/x-python",
   "name": "python",
   "nbconvert_exporter": "python",
   "pygments_lexer": "ipython3",
   "version": "3.10.12"
  }
 },
 "nbformat": 4,
 "nbformat_minor": 2
}
