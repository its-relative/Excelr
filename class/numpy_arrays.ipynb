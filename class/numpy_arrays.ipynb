{
 "cells": [
  {
   "cell_type": "code",
   "execution_count": 3,
   "metadata": {},
   "outputs": [
    {
     "data": {
      "text/plain": [
       "array([ 1,  4,  9, 16, 25])"
      ]
     },
     "execution_count": 3,
     "metadata": {},
     "output_type": "execute_result"
    }
   ],
   "source": [
    "import numpy as np\n",
    "\n",
    "x_array = np.array([1,2,3,4,5])\n",
    "y_array = np.array([6,7,8,9,10])\n",
    "\n",
    "x_array + y_array\n",
    "\n",
    "x_array*7\n",
    "np.square(x_array)\n",
    "# x_array - y_array"
   ]
  },
  {
   "cell_type": "code",
   "execution_count": 8,
   "metadata": {},
   "outputs": [
    {
     "data": {
      "text/plain": [
       "95.39392014169457"
      ]
     },
     "execution_count": 8,
     "metadata": {},
     "output_type": "execute_result"
    }
   ],
   "source": [
    "import numpy as np\n",
    "def euc_dist(arr1,arr2):\n",
    "    return np.sqrt(np.sum((arr2-arr1)**2))\n",
    "\n",
    "arr1 = np.array([1,2,3,4,5,6])\n",
    "arr2 = np.array([11,22,33,44,55,66])\n",
    "\n",
    "euc_dist(arr1,arr2)\n",
    "\n",
    "\n"
   ]
  }
 ],
 "metadata": {
  "kernelspec": {
   "display_name": "Python 3",
   "language": "python",
   "name": "python3"
  },
  "language_info": {
   "codemirror_mode": {
    "name": "ipython",
    "version": 3
   },
   "file_extension": ".py",
   "mimetype": "text/x-python",
   "name": "python",
   "nbconvert_exporter": "python",
   "pygments_lexer": "ipython3",
   "version": "3.10.12"
  }
 },
 "nbformat": 4,
 "nbformat_minor": 2
}
