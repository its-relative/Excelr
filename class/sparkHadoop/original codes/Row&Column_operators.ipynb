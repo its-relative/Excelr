{
  "cells": [
    {
      "cell_type": "code",
      "execution_count": 1,
      "metadata": {
        "colab": {
          "base_uri": "https://localhost:8080/"
        },
        "id": "izrtMd5rpzRe",
        "outputId": "f27f64f1-d5d2-43dd-d650-8aa94485c161"
      },
      "outputs": [
        {
          "name": "stdout",
          "output_type": "stream",
          "text": [
            "Looking in indexes: https://pypi.org/simple, https://us-python.pkg.dev/colab-wheels/public/simple/\n",
            "Collecting pyspark\n",
            "  Downloading pyspark-3.3.0.tar.gz (281.3 MB)\n",
            "\u001b[K     |████████████████████████████████| 281.3 MB 49 kB/s \n",
            "\u001b[?25hCollecting py4j==0.10.9.5\n",
            "  Downloading py4j-0.10.9.5-py2.py3-none-any.whl (199 kB)\n",
            "\u001b[K     |████████████████████████████████| 199 kB 58.1 MB/s \n",
            "\u001b[?25hBuilding wheels for collected packages: pyspark\n",
            "  Building wheel for pyspark (setup.py) ... \u001b[?25l\u001b[?25hdone\n",
            "  Created wheel for pyspark: filename=pyspark-3.3.0-py2.py3-none-any.whl size=281764026 sha256=56c8e62e36085152d7423e62f1bdebb9196ecf3979dc60b48ae0bec0bfeb2907\n",
            "  Stored in directory: /root/.cache/pip/wheels/7a/8e/1b/f73a52650d2e5f337708d9f6a1750d451a7349a867f928b885\n",
            "Successfully built pyspark\n",
            "Installing collected packages: py4j, pyspark\n",
            "Successfully installed py4j-0.10.9.5 pyspark-3.3.0\n"
          ]
        }
      ],
      "source": [
        "!pip install pyspark "
      ]
    },
    {
      "cell_type": "code",
      "execution_count": 1,
      "metadata": {
        "id": "BS7lxQtfqH3T"
      },
      "outputs": [
        {
          "name": "stderr",
          "output_type": "stream",
          "text": [
            "24/04/18 18:53:06 WARN Utils: Your hostname, Snapy resolves to a loopback address: 127.0.1.1; using 192.168.29.236 instead (on interface wlp0s20f3)\n",
            "24/04/18 18:53:06 WARN Utils: Set SPARK_LOCAL_IP if you need to bind to another address\n",
            "Setting default log level to \"WARN\".\n",
            "To adjust logging level use sc.setLogLevel(newLevel). For SparkR, use setLogLevel(newLevel).\n",
            "24/04/18 18:53:07 WARN NativeCodeLoader: Unable to load native-hadoop library for your platform... using builtin-java classes where applicable\n",
            "24/04/18 18:53:08 WARN Utils: Service 'SparkUI' could not bind on port 4040. Attempting port 4041.\n"
          ]
        }
      ],
      "source": [
        "\n",
        "# Import SparkSession\n",
        "from pyspark.sql import SparkSession\n",
        "\n",
        "# Create SparkSession \n",
        "spark = SparkSession.builder \\\n",
        "      .master(\"local[1]\") \\\n",
        "      .appName(\"SparkByExamples.com\") \\\n",
        "      .getOrCreate() \n"
      ]
    },
    {
      "cell_type": "code",
      "execution_count": 2,
      "metadata": {
        "colab": {
          "base_uri": "https://localhost:8080/"
        },
        "id": "Hu45VLNVqMwq",
        "outputId": "b6a387c1-000f-426b-e859-60c86cf9c72d"
      },
      "outputs": [
        {
          "name": "stdout",
          "output_type": "stream",
          "text": [
            "James,40\n"
          ]
        }
      ],
      "source": [
        "\n",
        "from pyspark.sql import Row\n",
        "row=Row(\"James\",40)\n",
        "print(row[0] +\",\"+str(row[1]))\n"
      ]
    },
    {
      "cell_type": "code",
      "execution_count": 4,
      "metadata": {},
      "outputs": [
        {
          "data": {
            "text/plain": [
              "pyspark.sql.types.Row"
            ]
          },
          "execution_count": 4,
          "metadata": {},
          "output_type": "execute_result"
        }
      ],
      "source": [
        "type(row)"
      ]
    },
    {
      "cell_type": "code",
      "execution_count": 3,
      "metadata": {
        "colab": {
          "base_uri": "https://localhost:8080/"
        },
        "id": "ZysCSfQNqUhz",
        "outputId": "bee1a324-aada-4368-c099-16297c932b3a"
      },
      "outputs": [
        {
          "name": "stdout",
          "output_type": "stream",
          "text": [
            "Alice 11\n"
          ]
        }
      ],
      "source": [
        "\n",
        "row=Row(name=\"Alice\", age=11)\n",
        "print(row.name, row.age) \n"
      ]
    },
    {
      "cell_type": "code",
      "execution_count": 6,
      "metadata": {
        "colab": {
          "base_uri": "https://localhost:8080/"
        },
        "id": "tJurpt53qaoE",
        "outputId": "e8d391d1-7aa3-4c20-f735-6f537409ad12"
      },
      "outputs": [
        {
          "name": "stdout",
          "output_type": "stream",
          "text": [
            "James,Alice\n"
          ]
        }
      ],
      "source": [
        "\n",
        "Person = Row(\"name\", \"age\")\n",
        "p1=Person(\"James\", 40)\n",
        "p2=Person(\"Alice\", 35)\n",
        "print(p1.name +\",\"+p2.name)\n"
      ]
    },
    {
      "cell_type": "code",
      "execution_count": 7,
      "metadata": {
        "colab": {
          "base_uri": "https://localhost:8080/"
        },
        "id": "M5sHJ7E-qixh",
        "outputId": "81be5d00-f2ae-4b36-8d80-bf2ca24ebb6d"
      },
      "outputs": [
        {
          "name": "stdout",
          "output_type": "stream",
          "text": [
            "[Row(name='James,,Smith', lang=['Java', 'Scala', 'C++'], state='CA'), Row(name='Michael,Rose,', lang=['Spark', 'Java', 'C++'], state='NJ'), Row(name='Robert,,Williams', lang=['CSharp', 'VB'], state='NV')]\n"
          ]
        }
      ],
      "source": [
        "\n",
        "from pyspark.sql import SparkSession, Row\n",
        "spark = SparkSession.builder.appName('SparkByExamples.com').getOrCreate()\n",
        "\n",
        "data = [Row(name=\"James,,Smith\",lang=[\"Java\",\"Scala\",\"C++\"],state=\"CA\"), \n",
        "    Row(name=\"Michael,Rose,\",lang=[\"Spark\",\"Java\",\"C++\"],state=\"NJ\"),\n",
        "    Row(name=\"Robert,,Williams\",lang=[\"CSharp\",\"VB\"],state=\"NV\")]\n",
        "rdd=spark.sparkContext.parallelize(data)\n",
        "print(rdd.collect())\n"
      ]
    },
    {
      "cell_type": "code",
      "execution_count": 8,
      "metadata": {
        "colab": {
          "base_uri": "https://localhost:8080/"
        },
        "id": "dWrweKJfqqrl",
        "outputId": "5c5f4d02-67a1-4194-f074-4306ddbdc9ed"
      },
      "outputs": [
        {
          "name": "stdout",
          "output_type": "stream",
          "text": [
            "James,,Smith,['Java', 'Scala', 'C++']\n",
            "Michael,Rose,,['Spark', 'Java', 'C++']\n",
            "Robert,,Williams,['CSharp', 'VB']\n"
          ]
        }
      ],
      "source": [
        "\n",
        "collData=rdd.collect()\n",
        "for row in collData:\n",
        "    print(row.name + \",\" +str(row.lang))\n"
      ]
    },
    {
      "cell_type": "code",
      "execution_count": 9,
      "metadata": {
        "id": "ApSn_op_qsnF"
      },
      "outputs": [],
      "source": [
        "\n",
        "Person=Row(\"name\",\"lang\",\"state\")\n",
        "data = [Person(\"James,,Smith\",[\"Java\",\"Scala\",\"C++\"],\"CA\"), \n",
        "    Person(\"Michael,Rose,\",[\"Spark\",\"Java\",\"C++\"],\"NJ\"),\n",
        "    Person(\"Robert,,Williams\",[\"CSharp\",\"VB\"],\"NV\")]\n"
      ]
    },
    {
      "cell_type": "code",
      "execution_count": 10,
      "metadata": {
        "colab": {
          "base_uri": "https://localhost:8080/"
        },
        "id": "ydSiKHdeq0vs",
        "outputId": "dfa34348-5b55-49bd-d122-4af00753cfce"
      },
      "outputs": [
        {
          "name": "stdout",
          "output_type": "stream",
          "text": [
            "root\n",
            " |-- name: string (nullable = true)\n",
            " |-- lang: array (nullable = true)\n",
            " |    |-- element: string (containsNull = true)\n",
            " |-- state: string (nullable = true)\n",
            "\n",
            "+----------------+------------------+-----+\n",
            "|            name|              lang|state|\n",
            "+----------------+------------------+-----+\n",
            "|    James,,Smith|[Java, Scala, C++]|   CA|\n",
            "|   Michael,Rose,|[Spark, Java, C++]|   NJ|\n",
            "|Robert,,Williams|      [CSharp, VB]|   NV|\n",
            "+----------------+------------------+-----+\n",
            "\n"
          ]
        }
      ],
      "source": [
        "\n",
        "df=spark.createDataFrame(data)\n",
        "df.printSchema()\n",
        "df.show()\n"
      ]
    },
    {
      "cell_type": "code",
      "execution_count": 13,
      "metadata": {
        "colab": {
          "base_uri": "https://localhost:8080/"
        },
        "id": "o9X6ttHaq4G0",
        "outputId": "0f375ef6-b7cf-4568-abff-41a395450cf2"
      },
      "outputs": [
        {
          "name": "stdout",
          "output_type": "stream",
          "text": [
            "root\n",
            " |-- name: string (nullable = true)\n",
            " |-- languagesAtSchool: array (nullable = true)\n",
            " |    |-- element: string (containsNull = true)\n",
            " |-- currentState: string (nullable = true)\n",
            "\n",
            "+----------------+------------------+------------+\n",
            "|            name| languagesAtSchool|currentState|\n",
            "+----------------+------------------+------------+\n",
            "|    James,,Smith|[Java, Scala, C++]|          CA|\n",
            "|   Michael,Rose,|[Spark, Java, C++]|          NJ|\n",
            "|Robert,,Williams|      [CSharp, VB]|          NV|\n",
            "+----------------+------------------+------------+\n",
            "\n"
          ]
        }
      ],
      "source": [
        "\n",
        "columns = [\"name\",\"languagesAtSchool\",\"currentState\"]\n",
        "df=spark.createDataFrame(data).toDF(*columns)\n",
        "df.printSchema()\n",
        "df.show()\n"
      ]
    },
    {
      "cell_type": "code",
      "execution_count": 15,
      "metadata": {
        "colab": {
          "base_uri": "https://localhost:8080/"
        },
        "id": "mI066xBHrfrZ",
        "outputId": "84c01614-0b2a-455d-8cd0-08fb7c5b6dae"
      },
      "outputs": [
        {
          "name": "stdout",
          "output_type": "stream",
          "text": [
            "root\n",
            " |-- name: string (nullable = true)\n",
            " |-- prop: struct (nullable = true)\n",
            " |    |-- hair: string (nullable = true)\n",
            " |    |-- eye: string (nullable = true)\n",
            "\n",
            "+-----+-------------+\n",
            "| name|         prop|\n",
            "+-----+-------------+\n",
            "|James|{black, blue}|\n",
            "|  Ann|{grey, black}|\n",
            "+-----+-------------+\n",
            "\n"
          ]
        }
      ],
      "source": [
        "\n",
        "#Create DataFrame with struct using Row class\n",
        "from pyspark.sql import Row\n",
        "data=[Row(name=\"James\",prop=Row(hair=\"black\",eye=\"blue\")),\n",
        "      Row(name=\"Ann\",prop=Row(hair=\"grey\",eye=\"black\"))]\n",
        "df=spark.createDataFrame(data)\n",
        "df.printSchema()\n",
        "df.show()"
      ]
    },
    {
      "cell_type": "code",
      "execution_count": 17,
      "metadata": {
        "colab": {
          "base_uri": "https://localhost:8080/"
        },
        "id": "4WkSz8i3q6F2",
        "outputId": "0d59d5b8-1593-4a15-b147-79f5ed51b964"
      },
      "outputs": [
        {
          "data": {
            "text/plain": [
              "Column<'sparkbyexamples.com'>"
            ]
          },
          "execution_count": 17,
          "metadata": {},
          "output_type": "execute_result"
        }
      ],
      "source": [
        "\n",
        "from pyspark.sql.functions import lit\n",
        "colObj = lit(\"sparkbyexamples.com\")\n",
        "colObj"
      ]
    },
    {
      "cell_type": "code",
      "execution_count": 18,
      "metadata": {
        "colab": {
          "base_uri": "https://localhost:8080/"
        },
        "id": "Nng9U2zdsU9D",
        "outputId": "f87fa90c-c66d-4e64-da48-32c1540d6c3d"
      },
      "outputs": [
        {
          "name": "stdout",
          "output_type": "stream",
          "text": [
            "root\n",
            " |-- name.fname: string (nullable = true)\n",
            " |-- gender: long (nullable = true)\n",
            "\n",
            "+------+\n",
            "|gender|\n",
            "+------+\n",
            "|    23|\n",
            "|    40|\n",
            "+------+\n",
            "\n",
            "+------+\n",
            "|gender|\n",
            "+------+\n",
            "|    23|\n",
            "|    40|\n",
            "+------+\n",
            "\n",
            "+----------+\n",
            "|name.fname|\n",
            "+----------+\n",
            "|     James|\n",
            "|       Ann|\n",
            "+----------+\n",
            "\n"
          ]
        }
      ],
      "source": [
        "\n",
        "data=[(\"James\",23),(\"Ann\",40)]\n",
        "df=spark.createDataFrame(data).toDF(\"name.fname\",\"gender\")\n",
        "df.printSchema()\n",
        "#root\n",
        "# |-- name.fname: string (nullable = true)\n",
        "# |-- gender: long (nullable = true)\n",
        "\n",
        "# Using DataFrame object (df)\n",
        "df.select(df.gender).show()\n",
        "df.select(df[\"gender\"]).show()\n",
        "#Accessing column name with dot (with backticks)\n",
        "df.select(df[\"`name.fname`\"]).show()\n",
        "\n",
        "\n"
      ]
    },
    {
      "cell_type": "code",
      "execution_count": 19,
      "metadata": {
        "colab": {
          "base_uri": "https://localhost:8080/"
        },
        "id": "ZIO-7VBisYPC",
        "outputId": "267ac83f-515b-4a86-94d5-86a7da5db8d0"
      },
      "outputs": [
        {
          "name": "stdout",
          "output_type": "stream",
          "text": [
            "+------+\n",
            "|gender|\n",
            "+------+\n",
            "|    23|\n",
            "|    40|\n",
            "+------+\n",
            "\n",
            "+----------+\n",
            "|name.fname|\n",
            "+----------+\n",
            "|     James|\n",
            "|       Ann|\n",
            "+----------+\n",
            "\n"
          ]
        }
      ],
      "source": [
        "#Using SQL col() function\n",
        "from pyspark.sql.functions import col\n",
        "df.select(col(\"gender\")).show()\n",
        "#Accessing column name with dot (with backticks)\n",
        "df.select(col(\"`name.fname`\")).show()"
      ]
    },
    {
      "cell_type": "code",
      "execution_count": 20,
      "metadata": {
        "colab": {
          "base_uri": "https://localhost:8080/"
        },
        "id": "QiwB1pHUs0j8",
        "outputId": "70ab05b0-8faf-46b0-a6a2-f2d25df204e0"
      },
      "outputs": [
        {
          "name": "stdout",
          "output_type": "stream",
          "text": [
            "root\n",
            " |-- name: string (nullable = true)\n",
            " |-- prop: struct (nullable = true)\n",
            " |    |-- hair: string (nullable = true)\n",
            " |    |-- eye: string (nullable = true)\n",
            "\n",
            "+---------+\n",
            "|prop.hair|\n",
            "+---------+\n",
            "|    black|\n",
            "|     grey|\n",
            "+---------+\n",
            "\n",
            "+-----+\n",
            "| hair|\n",
            "+-----+\n",
            "|black|\n",
            "| grey|\n",
            "+-----+\n",
            "\n",
            "+-----+\n",
            "| hair|\n",
            "+-----+\n",
            "|black|\n",
            "| grey|\n",
            "+-----+\n",
            "\n"
          ]
        }
      ],
      "source": [
        "\n",
        "#Create DataFrame with struct using Row class\n",
        "from pyspark.sql import Row\n",
        "data=[Row(name=\"James\",prop=Row(hair=\"black\",eye=\"blue\")),\n",
        "      Row(name=\"Ann\",prop=Row(hair=\"grey\",eye=\"black\"))]\n",
        "df=spark.createDataFrame(data)\n",
        "df.printSchema()\n",
        "#root\n",
        "# |-- name: string (nullable = true)\n",
        "# |-- prop: struct (nullable = true)\n",
        "# |    |-- hair: string (nullable = true)\n",
        "# |    |-- eye: string (nullable = true)\n",
        "\n",
        "#Access struct column\n",
        "df.select(df.prop.hair).show()\n",
        "df.select(df[\"prop.hair\"]).show()\n",
        "df.select(col(\"prop.hair\")).show()\n",
        "\n",
        "\n"
      ]
    },
    {
      "cell_type": "code",
      "execution_count": 21,
      "metadata": {
        "colab": {
          "base_uri": "https://localhost:8080/"
        },
        "id": "8PQ2DzkFs5Wa",
        "outputId": "e4e44083-fcd9-4170-b63b-df4b6b228772"
      },
      "outputs": [
        {
          "name": "stdout",
          "output_type": "stream",
          "text": [
            "+-----+-----+\n",
            "| hair|  eye|\n",
            "+-----+-----+\n",
            "|black| blue|\n",
            "| grey|black|\n",
            "+-----+-----+\n",
            "\n"
          ]
        }
      ],
      "source": [
        "#Access all columns from struct\n",
        "df.select(col(\"prop.*\")).show()"
      ]
    },
    {
      "cell_type": "code",
      "execution_count": 23,
      "metadata": {
        "colab": {
          "base_uri": "https://localhost:8080/"
        },
        "id": "0RD_WdPptCwE",
        "outputId": "e3c65f7a-e586-4b18-ad10-4af6d13e540d"
      },
      "outputs": [
        {
          "name": "stdout",
          "output_type": "stream",
          "text": [
            "+----+----+----+\n",
            "|col1|col2|col3|\n",
            "+----+----+----+\n",
            "| 100|   2|   1|\n",
            "| 200|   3|   4|\n",
            "| 300|   4|   4|\n",
            "+----+----+----+\n",
            "\n"
          ]
        }
      ],
      "source": [
        "\n",
        "data=[(100,2,1),(200,3,4),(300,4,4)]\n",
        "df=spark.createDataFrame(data).toDF(\"col1\",\"col2\",\"col3\")\n",
        "df.show()\n"
      ]
    },
    {
      "cell_type": "code",
      "execution_count": 24,
      "metadata": {
        "colab": {
          "base_uri": "https://localhost:8080/"
        },
        "id": "8y3K21x-tHYl",
        "outputId": "86da2e80-1387-4f36-c674-487955646d83"
      },
      "outputs": [
        {
          "name": "stdout",
          "output_type": "stream",
          "text": [
            "+-------------+\n",
            "|(col1 + col2)|\n",
            "+-------------+\n",
            "|          102|\n",
            "|          203|\n",
            "|          304|\n",
            "+-------------+\n",
            "\n"
          ]
        }
      ],
      "source": [
        "#Arthmetic operations\n",
        "df.select(df.col1 + df.col2).show()\n"
      ]
    },
    {
      "cell_type": "code",
      "execution_count": null,
      "metadata": {
        "id": "1JJ9alDNtNu5"
      },
      "outputs": [],
      "source": [
        "df.select(df.col1 - df.col2).show() \n",
        "df.select(df.col1 * df.col2).show()\n",
        "df.select(df.col1 / df.col2).show()\n",
        "\n",
        "\n",
        "df.select(df.col2 > df.col3).show()\n",
        "df.select(df.col2 < df.col3).show()\n",
        "df.select(df.col2 == df.col3).show()\n"
      ]
    },
    {
      "cell_type": "code",
      "execution_count": 26,
      "metadata": {
        "colab": {
          "base_uri": "https://localhost:8080/"
        },
        "id": "Asfy1e6Ttbtl",
        "outputId": "cce1d155-7a6d-4755-f653-4a2bf83c5574"
      },
      "outputs": [
        {
          "name": "stdout",
          "output_type": "stream",
          "text": [
            "+-------------+\n",
            "|(col2 > col3)|\n",
            "+-------------+\n",
            "|         true|\n",
            "|        false|\n",
            "|        false|\n",
            "+-------------+\n",
            "\n"
          ]
        }
      ],
      "source": [
        "df.select(df.col2 > df.col3).show()"
      ]
    },
    {
      "cell_type": "code",
      "execution_count": 27,
      "metadata": {
        "colab": {
          "base_uri": "https://localhost:8080/"
        },
        "id": "fJiYVIuntfV-",
        "outputId": "5e95730c-3df3-439d-c57a-5af5eb8a8370"
      },
      "outputs": [
        {
          "name": "stdout",
          "output_type": "stream",
          "text": [
            "+-------------+\n",
            "|(col2 < col3)|\n",
            "+-------------+\n",
            "|        false|\n",
            "|         true|\n",
            "|        false|\n",
            "+-------------+\n",
            "\n"
          ]
        }
      ],
      "source": [
        "df.select(df.col2 < df.col3).show()"
      ]
    },
    {
      "cell_type": "code",
      "execution_count": 25,
      "metadata": {
        "colab": {
          "base_uri": "https://localhost:8080/"
        },
        "id": "mjzEk0F-tSgE",
        "outputId": "87bc8a17-c9b1-4d71-b142-0e7f912a9e51"
      },
      "outputs": [
        {
          "name": "stdout",
          "output_type": "stream",
          "text": [
            "+-------------+\n",
            "|(col1 % col2)|\n",
            "+-------------+\n",
            "|            0|\n",
            "|            2|\n",
            "|            0|\n",
            "+-------------+\n",
            "\n"
          ]
        }
      ],
      "source": [
        "df.select(df.col1 % df.col2).show()"
      ]
    },
    {
      "cell_type": "code",
      "execution_count": 29,
      "metadata": {
        "colab": {
          "base_uri": "https://localhost:8080/"
        },
        "id": "w-TUSdwbt4Ba",
        "outputId": "10e36045-aa65-4fa5-a565-e61de26adeae"
      },
      "outputs": [
        {
          "name": "stdout",
          "output_type": "stream",
          "text": [
            "+----------+-----+---+------+\n",
            "|     fname|lname| id|gender|\n",
            "+----------+-----+---+------+\n",
            "|     James| Bond|100|  null|\n",
            "|       Ann|Varsa|200|     F|\n",
            "|Tom Cruise|  XXX|400|      |\n",
            "| Tom Brand| null|400|     M|\n",
            "+----------+-----+---+------+\n",
            "\n"
          ]
        }
      ],
      "source": [
        "\n",
        "data=[(\"James\",\"Bond\",\"100\",None),\n",
        "      (\"Ann\",\"Varsa\",\"200\",'F'),\n",
        "      (\"Tom Cruise\",\"XXX\",\"400\",''),\n",
        "      (\"Tom Brand\",None,\"400\",'M')] \n",
        "columns=[\"fname\",\"lname\",\"id\",\"gender\"]\n",
        "df=spark.createDataFrame(data,columns)\n",
        "df.show()\n"
      ]
    },
    {
      "cell_type": "code",
      "execution_count": 31,
      "metadata": {
        "colab": {
          "base_uri": "https://localhost:8080/"
        },
        "id": "po6urG4Ot80v",
        "outputId": "466654aa-fc9c-43b7-8215-72cff9228994"
      },
      "outputs": [
        {
          "name": "stdout",
          "output_type": "stream",
          "text": [
            "+----------+---------+\n",
            "|first_name|last_name|\n",
            "+----------+---------+\n",
            "|     James|     Bond|\n",
            "|       Ann|    Varsa|\n",
            "|Tom Cruise|      XXX|\n",
            "| Tom Brand|     null|\n",
            "+----------+---------+\n",
            "\n"
          ]
        }
      ],
      "source": [
        "\n",
        "#alias\n",
        "from pyspark.sql.functions import expr\n",
        "df.select(df.fname.alias(\"first_name\"), \\\n",
        "          df.lname.alias(\"last_name\")\n",
        "   ).show()\n",
        "\n",
        "#Another example\n",
        "#df.select(expr(\" fname ||','|| lname\").alias(\"fullName\") \\ ).show()\n"
      ]
    },
    {
      "cell_type": "code",
      "execution_count": 33,
      "metadata": {
        "colab": {
          "base_uri": "https://localhost:8080/"
        },
        "id": "4A7sLjvyuN-a",
        "outputId": "16573a82-2744-4566-bcf2-ffa1ef07d29e"
      },
      "outputs": [
        {
          "name": "stdout",
          "output_type": "stream",
          "text": [
            "+----------+-----+---+------+\n",
            "|     fname|lname| id|gender|\n",
            "+----------+-----+---+------+\n",
            "|       Ann|Varsa|200|     F|\n",
            "|     James| Bond|100|  null|\n",
            "| Tom Brand| null|400|     M|\n",
            "|Tom Cruise|  XXX|400|      |\n",
            "+----------+-----+---+------+\n",
            "\n",
            "+----------+-----+---+------+\n",
            "|     fname|lname| id|gender|\n",
            "+----------+-----+---+------+\n",
            "|Tom Cruise|  XXX|400|      |\n",
            "| Tom Brand| null|400|     M|\n",
            "|     James| Bond|100|  null|\n",
            "|       Ann|Varsa|200|     F|\n",
            "+----------+-----+---+------+\n",
            "\n",
            "None\n"
          ]
        }
      ],
      "source": [
        "\n",
        "#asc, desc to sort ascending and descending order repsectively.\n",
        "df.sort(df.fname.asc()).show()\n",
        "print(df.sort(df.fname.desc()).show())\n"
      ]
    },
    {
      "cell_type": "code",
      "execution_count": 34,
      "metadata": {
        "colab": {
          "base_uri": "https://localhost:8080/"
        },
        "id": "T8xyus3Ouegc",
        "outputId": "7a7f3190-252f-4d85-ae82-999e95058089"
      },
      "outputs": [
        {
          "name": "stdout",
          "output_type": "stream",
          "text": [
            "root\n",
            " |-- fname: string (nullable = true)\n",
            " |-- id: integer (nullable = true)\n",
            "\n"
          ]
        }
      ],
      "source": [
        "\n",
        "#cast\n",
        "df.select(df.fname,df.id.cast(\"int\")).printSchema()\n",
        "\n"
      ]
    },
    {
      "cell_type": "code",
      "execution_count": 35,
      "metadata": {
        "colab": {
          "base_uri": "https://localhost:8080/"
        },
        "id": "fy519acYup18",
        "outputId": "e63edae2-075d-44b8-d814-b4f1252b9253"
      },
      "outputs": [
        {
          "name": "stdout",
          "output_type": "stream",
          "text": [
            "+-----+-----+---+------+\n",
            "|fname|lname| id|gender|\n",
            "+-----+-----+---+------+\n",
            "|James| Bond|100|  null|\n",
            "|  Ann|Varsa|200|     F|\n",
            "+-----+-----+---+------+\n",
            "\n"
          ]
        }
      ],
      "source": [
        "\n",
        "#between\n",
        "df.filter(df.id.between(100,300)).show()\n"
      ]
    },
    {
      "cell_type": "code",
      "execution_count": 36,
      "metadata": {
        "colab": {
          "base_uri": "https://localhost:8080/"
        },
        "id": "h-pcx5vIux2Y",
        "outputId": "8d04b5aa-d7f7-41dd-89af-cce88f76bdfe"
      },
      "outputs": [
        {
          "name": "stdout",
          "output_type": "stream",
          "text": [
            "+----------+-----+---+------+\n",
            "|     fname|lname| id|gender|\n",
            "+----------+-----+---+------+\n",
            "|Tom Cruise|  XXX|400|      |\n",
            "+----------+-----+---+------+\n",
            "\n"
          ]
        }
      ],
      "source": [
        "\n",
        "#contains\n",
        "df.filter(df.fname.contains(\"Cruise\")).show()\n"
      ]
    },
    {
      "cell_type": "code",
      "execution_count": 37,
      "metadata": {
        "colab": {
          "base_uri": "https://localhost:8080/"
        },
        "id": "ahbZkVB2u5cO",
        "outputId": "78f01fde-6005-479c-c655-020cecd22f23"
      },
      "outputs": [
        {
          "name": "stdout",
          "output_type": "stream",
          "text": [
            "+----------+-----+---+------+\n",
            "|     fname|lname| id|gender|\n",
            "+----------+-----+---+------+\n",
            "|Tom Cruise|  XXX|400|      |\n",
            "| Tom Brand| null|400|     M|\n",
            "+----------+-----+---+------+\n",
            "\n",
            "+----------+-----+---+------+\n",
            "|     fname|lname| id|gender|\n",
            "+----------+-----+---+------+\n",
            "|Tom Cruise|  XXX|400|      |\n",
            "+----------+-----+---+------+\n",
            "\n",
            "None\n"
          ]
        }
      ],
      "source": [
        "\n",
        "#startswith, endswith()\n",
        "df.filter(df.fname.startswith(\"T\")).show()\n",
        "print(df.filter(df.fname.endswith(\"Cruise\")).show())\n"
      ]
    },
    {
      "cell_type": "code",
      "execution_count": 38,
      "metadata": {
        "colab": {
          "base_uri": "https://localhost:8080/"
        },
        "id": "TfKHtOl2vF48",
        "outputId": "7fa119ef-a80f-4db7-b42a-89879a30fef0"
      },
      "outputs": [
        {
          "name": "stdout",
          "output_type": "stream",
          "text": [
            "+---------+-----+---+------+\n",
            "|    fname|lname| id|gender|\n",
            "+---------+-----+---+------+\n",
            "|Tom Brand| null|400|     M|\n",
            "+---------+-----+---+------+\n",
            "\n",
            "+----------+-----+---+------+\n",
            "|     fname|lname| id|gender|\n",
            "+----------+-----+---+------+\n",
            "|     James| Bond|100|  null|\n",
            "|       Ann|Varsa|200|     F|\n",
            "|Tom Cruise|  XXX|400|      |\n",
            "+----------+-----+---+------+\n",
            "\n",
            "None\n"
          ]
        }
      ],
      "source": [
        "\n",
        "#isNull & isNotNull\n",
        "df.filter(df.lname.isNull()).show()\n",
        "print(df.filter(df.lname.isNotNull()).show())\n"
      ]
    },
    {
      "cell_type": "code",
      "execution_count": 72,
      "metadata": {
        "colab": {
          "base_uri": "https://localhost:8080/"
        },
        "id": "vYwlhu7dvPo9",
        "outputId": "c322b4d6-6c6c-4272-fe51-0a36847179b1"
      },
      "outputs": [
        {
          "name": "stdout",
          "output_type": "stream",
          "text": [
            "+-----+-----+---+\n",
            "|fname|lname| id|\n",
            "+-----+-----+---+\n",
            "|  Ann|Varsa|200|\n",
            "+-----+-----+---+\n",
            "\n"
          ]
        }
      ],
      "source": [
        "\n",
        "#like , rlike\n",
        "df.select(df.fname,df.lname,df.id) \\\n",
        " .filter(df.fname.like(\"%nn\")).show()\n",
        "\n"
      ]
    },
    {
      "cell_type": "code",
      "execution_count": 48,
      "metadata": {
        "colab": {
          "base_uri": "https://localhost:8080/"
        },
        "id": "UdB_0G3YwW4O",
        "outputId": "e7f79c6d-311a-4cd2-9e8c-f34a092b1bdd"
      },
      "outputs": [
        {
          "name": "stdout",
          "output_type": "stream",
          "text": [
            "+------+\n",
            "|substr|\n",
            "+------+\n",
            "|   Jam|\n",
            "|   Ann|\n",
            "|   Tom|\n",
            "|   Tom|\n",
            "+------+\n",
            "\n"
          ]
        }
      ],
      "source": [
        "\n",
        "df.select(df.fname.substr(1,3).alias(\"substr\")).show()\n"
      ]
    },
    {
      "cell_type": "code",
      "execution_count": 77,
      "metadata": {
        "colab": {
          "base_uri": "https://localhost:8080/"
        },
        "id": "7Bf1UqNCxtKj",
        "outputId": "90d4f4f3-701d-4d19-e16c-3596d0223451"
      },
      "outputs": [
        {
          "name": "stdout",
          "output_type": "stream",
          "text": [
            "+----------+-----+----------+\n",
            "|     fname|lname|new_gender|\n",
            "+----------+-----+----------+\n",
            "|     James| Bond|      null|\n",
            "|       Ann|Varsa|    Female|\n",
            "|Tom Cruise|  XXX|          |\n",
            "| Tom Brand| null|      Male|\n",
            "+----------+-----+----------+\n",
            "\n"
          ]
        }
      ],
      "source": [
        "\n",
        "#when & otherwise\n",
        "from pyspark.sql.functions import when\n",
        "df.select(df.fname,df.lname,when(df.gender==\"M\",\"Male\") \\\n",
        "              .when(df.gender==\"F\",\"Female\") \\\n",
        "              .when(df.gender==\"null\" ,\"null\") \\\n",
        "              .otherwise(df.gender).alias(\"new_gender\") \\\n",
        "    ).show()\n",
        "\n"
      ]
    },
    {
      "cell_type": "code",
      "execution_count": 78,
      "metadata": {
        "colab": {
          "base_uri": "https://localhost:8080/"
        },
        "id": "y-E0Xo8AziY4",
        "outputId": "633513a7-5a5d-43ba-f898-3250d097a3f3"
      },
      "outputs": [
        {
          "name": "stdout",
          "output_type": "stream",
          "text": [
            "+-----+-----+---+\n",
            "|fname|lname| id|\n",
            "+-----+-----+---+\n",
            "|James| Bond|100|\n",
            "|  Ann|Varsa|200|\n",
            "+-----+-----+---+\n",
            "\n"
          ]
        }
      ],
      "source": [
        "\n",
        "#isin\n",
        "li=[\"100\",\"200\"]\n",
        "df.select(df.fname,df.lname,df.id) \\\n",
        "  .filter(df.id.isin(li)) \\\n",
        "  .show()\n"
      ]
    },
    {
      "cell_type": "code",
      "execution_count": null,
      "metadata": {
        "id": "oVaxKTUSztlt"
      },
      "outputs": [],
      "source": []
    }
  ],
  "metadata": {
    "colab": {
      "provenance": []
    },
    "kernelspec": {
      "display_name": "Python 3",
      "name": "python3"
    },
    "language_info": {
      "codemirror_mode": {
        "name": "ipython",
        "version": 3
      },
      "file_extension": ".py",
      "mimetype": "text/x-python",
      "name": "python",
      "nbconvert_exporter": "python",
      "pygments_lexer": "ipython3",
      "version": "3.10.12"
    }
  },
  "nbformat": 4,
  "nbformat_minor": 0
}
