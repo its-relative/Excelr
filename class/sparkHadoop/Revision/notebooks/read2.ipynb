{
 "cells": [
  {
   "cell_type": "code",
   "execution_count": 1,
   "metadata": {},
   "outputs": [],
   "source": [
    "from pyspark.sql import SparkSession"
   ]
  },
  {
   "cell_type": "code",
   "execution_count": 2,
   "metadata": {},
   "outputs": [
    {
     "name": "stderr",
     "output_type": "stream",
     "text": [
      "24/06/28 12:53:40 WARN Utils: Your hostname, snappy resolves to a loopback address: 127.0.1.1; using 192.168.29.236 instead (on interface wlp0s20f3)\n",
      "24/06/28 12:53:40 WARN Utils: Set SPARK_LOCAL_IP if you need to bind to another address\n",
      "Setting default log level to \"WARN\".\n",
      "To adjust logging level use sc.setLogLevel(newLevel). For SparkR, use setLogLevel(newLevel).\n",
      "24/06/28 12:53:40 WARN NativeCodeLoader: Unable to load native-hadoop library for your platform... using builtin-java classes where applicable\n",
      "24/06/28 12:53:41 WARN Utils: Service 'SparkUI' could not bind on port 4040. Attempting port 4041.\n",
      "24/06/28 12:53:41 WARN Utils: Service 'SparkUI' could not bind on port 4041. Attempting port 4042.\n",
      "24/06/28 12:53:41 WARN Utils: Service 'SparkUI' could not bind on port 4042. Attempting port 4043.\n"
     ]
    }
   ],
   "source": [
    "spark = SparkSession.builder.appName(\"base\").getOrCreate()"
   ]
  },
  {
   "cell_type": "code",
   "execution_count": 5,
   "metadata": {},
   "outputs": [],
   "source": [
    "from email import header\n",
    "\n",
    "\n",
    "data = spark.read.format(\"csv\").options(header = True).\\\n",
    "        load(\"business-operations-survey-2022-business-finance.csv\").\\\n",
    "        cache()"
   ]
  },
  {
   "cell_type": "code",
   "execution_count": 6,
   "metadata": {},
   "outputs": [
    {
     "name": "stdout",
     "output_type": "stream",
     "text": [
      "+--------------------+--------------------+-----+---------------+---------+-----+\n",
      "|         description|            industry|level|           size|line_code|value|\n",
      "+--------------------+--------------------+-----+---------------+---------+-----+\n",
      "|Type of outstandi...|               total|    0| 6�19 employees|    D0201|13215|\n",
      "|Type of outstandi...|               total|    0|20�49 employees|    D0201| 3405|\n",
      "|Type of outstandi...|               total|    0|50�99 employees|    D0201|  978|\n",
      "|Type of outstandi...|               total|    0| 100+ employees|    D0201|  687|\n",
      "|Type of outstandi...|Agriculture, fore...|    1|          total|    D0201| 1974|\n",
      "|Type of outstandi...|         Agriculture|    2|          total|    D0201| 1371|\n",
      "|Type of outstandi...|  Commercial fishing|    2|          total|    D0201|   24|\n",
      "|Type of outstandi...|  Forestry & logging|    2|          total|    D0201|  117|\n",
      "|Type of outstandi...|Agriculture, fore...|    2|          total|    D0201|  465|\n",
      "|Type of outstandi...|              Mining|    1|          total|    D0201|   30|\n",
      "|Type of outstandi...|       Manufacturing|    1|          total|    D0201| 2424|\n",
      "|Type of outstandi...|Food, beverage, &...|    2|          total|    D0201|  474|\n",
      "|Type of outstandi...|Textile, clothing...|    2|          total|    D0201|  132|\n",
      "|Type of outstandi...|Wood & paper product|    2|          total|    D0201|  243|\n",
      "|Type of outstandi...|Printing, publish...|    2|          total|    D0201|   90|\n",
      "|Type of outstandi...|Petroleum, coal, ...|    2|          total|    D0201|  153|\n",
      "|Type of outstandi...|Non-metallic mine...|    2|          total|    D0201|   87|\n",
      "|Type of outstandi...|       Metal product|    2|          total|    D0201|  429|\n",
      "|Type of outstandi...|Transport and ind...|    2|          total|    D0201|  546|\n",
      "|Type of outstandi...|Other machinery &...|    2|          total|    D0201|  102|\n",
      "+--------------------+--------------------+-----+---------------+---------+-----+\n",
      "only showing top 20 rows\n",
      "\n"
     ]
    }
   ],
   "source": [
    "data.show()"
   ]
  },
  {
   "cell_type": "code",
   "execution_count": null,
   "metadata": {},
   "outputs": [],
   "source": []
  }
 ],
 "metadata": {
  "kernelspec": {
   "display_name": "py312",
   "language": "python",
   "name": "python3"
  },
  "language_info": {
   "codemirror_mode": {
    "name": "ipython",
    "version": 3
   },
   "file_extension": ".py",
   "mimetype": "text/x-python",
   "name": "python",
   "nbconvert_exporter": "python",
   "pygments_lexer": "ipython3",
   "version": "3.12.3"
  }
 },
 "nbformat": 4,
 "nbformat_minor": 2
}
