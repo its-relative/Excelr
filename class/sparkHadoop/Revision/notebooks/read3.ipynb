{
 "cells": [
  {
   "cell_type": "code",
   "execution_count": 1,
   "metadata": {},
   "outputs": [],
   "source": [
    "from pyspark.sql import SparkSession"
   ]
  },
  {
   "cell_type": "code",
   "execution_count": 2,
   "metadata": {},
   "outputs": [
    {
     "name": "stderr",
     "output_type": "stream",
     "text": [
      "24/06/28 13:04:13 WARN Utils: Your hostname, snappy resolves to a loopback address: 127.0.1.1; using 192.168.29.236 instead (on interface wlp0s20f3)\n",
      "24/06/28 13:04:13 WARN Utils: Set SPARK_LOCAL_IP if you need to bind to another address\n",
      "Setting default log level to \"WARN\".\n",
      "To adjust logging level use sc.setLogLevel(newLevel). For SparkR, use setLogLevel(newLevel).\n",
      "24/06/28 13:04:13 WARN NativeCodeLoader: Unable to load native-hadoop library for your platform... using builtin-java classes where applicable\n",
      "24/06/28 13:04:14 WARN Utils: Service 'SparkUI' could not bind on port 4040. Attempting port 4041.\n",
      "24/06/28 13:04:14 WARN Utils: Service 'SparkUI' could not bind on port 4041. Attempting port 4042.\n",
      "24/06/28 13:04:14 WARN Utils: Service 'SparkUI' could not bind on port 4042. Attempting port 4043.\n",
      "24/06/28 13:04:14 WARN Utils: Service 'SparkUI' could not bind on port 4043. Attempting port 4044.\n"
     ]
    }
   ],
   "source": [
    "spark = SparkSession.builder.appName(\"base\").getOrCreate()"
   ]
  },
  {
   "cell_type": "code",
   "execution_count": 5,
   "metadata": {},
   "outputs": [],
   "source": [
    "from email import header\n",
    "\n",
    "\n",
    "data = spark.read.format(\"csv\").options(header = True).\\\n",
    "        load(\"business-operations-survey-2022-information-and-communications-technology.csv\").cache()"
   ]
  },
  {
   "cell_type": "code",
   "execution_count": 6,
   "metadata": {},
   "outputs": [
    {
     "name": "stdout",
     "output_type": "stream",
     "text": [
      "+--------------------+--------------------+-----+---------------+---------+-----+\n",
      "|         description|            industry|level|           size|line_code|value|\n",
      "+--------------------+--------------------+-----+---------------+---------+-----+\n",
      "|Percentage of sta...|               total|    0| 6�19 employees| B0300.01| 6819|\n",
      "|Percentage of sta...|               total|    0|20�49 employees| B0300.01| 1344|\n",
      "|Percentage of sta...|               total|    0|50�99 employees| B0300.01|  423|\n",
      "|Percentage of sta...|               total|    0| 100+ employees| B0300.01|  270|\n",
      "|Percentage of sta...|Agriculture, fore...|    1|          total| B0300.01| 1344|\n",
      "|Percentage of sta...|         Agriculture|    2|          total| B0300.01|  864|\n",
      "|Percentage of sta...|  Commercial fishing|    2|          total| B0300.01|   12|\n",
      "|Percentage of sta...|  Forestry & logging|    2|          total| B0300.01|  153|\n",
      "|Percentage of sta...|Agriculture, fore...|    2|          total| B0300.01|  318|\n",
      "|Percentage of sta...|              Mining|    1|          total| B0300.01|   27|\n",
      "|Percentage of sta...|       Manufacturing|    1|          total| B0300.01| 1359|\n",
      "|Percentage of sta...|Food, beverage, &...|    2|          total| B0300.01|  342|\n",
      "|Percentage of sta...|Textile, clothing...|    2|          total| B0300.01|   90|\n",
      "|Percentage of sta...|Wood & paper product|    2|          total| B0300.01|  153|\n",
      "|Percentage of sta...|Printing, publish...|    2|          total| B0300.01|   12|\n",
      "|Percentage of sta...|Petroleum, coal, ...|    2|          total| B0300.01|  117|\n",
      "|Percentage of sta...|Non-metallic mine...|    2|          total| B0300.01|   60|\n",
      "|Percentage of sta...|       Metal product|    2|          total| B0300.01|  267|\n",
      "|Percentage of sta...|Transport and ind...|    2|          total| B0300.01|  249|\n",
      "|Percentage of sta...|Other machinery &...|    2|          total| B0300.01|   15|\n",
      "+--------------------+--------------------+-----+---------------+---------+-----+\n",
      "only showing top 20 rows\n",
      "\n"
     ]
    }
   ],
   "source": [
    "data.show()"
   ]
  },
  {
   "cell_type": "code",
   "execution_count": null,
   "metadata": {},
   "outputs": [],
   "source": []
  }
 ],
 "metadata": {
  "kernelspec": {
   "display_name": "py312",
   "language": "python",
   "name": "python3"
  },
  "language_info": {
   "codemirror_mode": {
    "name": "ipython",
    "version": 3
   },
   "file_extension": ".py",
   "mimetype": "text/x-python",
   "name": "python",
   "nbconvert_exporter": "python",
   "pygments_lexer": "ipython3",
   "version": "3.12.3"
  }
 },
 "nbformat": 4,
 "nbformat_minor": 2
}
