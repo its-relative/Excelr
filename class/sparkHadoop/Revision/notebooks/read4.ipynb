{
 "cells": [
  {
   "cell_type": "code",
   "execution_count": 1,
   "metadata": {},
   "outputs": [],
   "source": [
    "from pyspark.sql import SparkSession"
   ]
  },
  {
   "cell_type": "code",
   "execution_count": 2,
   "metadata": {},
   "outputs": [
    {
     "name": "stderr",
     "output_type": "stream",
     "text": [
      "24/06/28 13:09:16 WARN Utils: Your hostname, snappy resolves to a loopback address: 127.0.1.1; using 192.168.29.236 instead (on interface wlp0s20f3)\n",
      "24/06/28 13:09:16 WARN Utils: Set SPARK_LOCAL_IP if you need to bind to another address\n",
      "Setting default log level to \"WARN\".\n",
      "To adjust logging level use sc.setLogLevel(newLevel). For SparkR, use setLogLevel(newLevel).\n",
      "24/06/28 13:09:17 WARN NativeCodeLoader: Unable to load native-hadoop library for your platform... using builtin-java classes where applicable\n",
      "24/06/28 13:09:18 WARN Utils: Service 'SparkUI' could not bind on port 4040. Attempting port 4041.\n",
      "24/06/28 13:09:18 WARN Utils: Service 'SparkUI' could not bind on port 4041. Attempting port 4042.\n",
      "24/06/28 13:09:18 WARN Utils: Service 'SparkUI' could not bind on port 4042. Attempting port 4043.\n",
      "24/06/28 13:09:18 WARN Utils: Service 'SparkUI' could not bind on port 4043. Attempting port 4044.\n",
      "24/06/28 13:09:18 WARN Utils: Service 'SparkUI' could not bind on port 4044. Attempting port 4045.\n"
     ]
    }
   ],
   "source": [
    "spark = SparkSession.builder.appName(\"base\").getOrCreate()"
   ]
  },
  {
   "cell_type": "code",
   "execution_count": 3,
   "metadata": {},
   "outputs": [],
   "source": [
    "data = spark.read.format(\"csv\").\\\n",
    "        options(header = True).\\\n",
    "        load(\"machine-readable-business-employment-data-mar-2024-quarter.csv\").\\\n",
    "        cache()"
   ]
  },
  {
   "cell_type": "code",
   "execution_count": 4,
   "metadata": {},
   "outputs": [
    {
     "name": "stdout",
     "output_type": "stream",
     "text": [
      "+----------------+-------+----------+----------+------+------+---------+--------------------+--------------------+--------------+--------------------+--------------+--------------+--------------+\n",
      "|Series_reference| Period|Data_value|Suppressed|STATUS| UNITS|Magnitude|             Subject|               Group|Series_title_1|      Series_title_2|Series_title_3|Series_title_4|Series_title_5|\n",
      "+----------------+-------+----------+----------+------+------+---------+--------------------+--------------------+--------------+--------------------+--------------+--------------+--------------+\n",
      "|     BDCQ.SEA1AA|2011.06|     80078|      NULL|     F|Number|        0|Business Data Col...|Industry by emplo...|   Filled jobs|Agriculture, Fore...|        Actual|          NULL|          NULL|\n",
      "|     BDCQ.SEA1AA|2011.09|     78324|      NULL|     F|Number|        0|Business Data Col...|Industry by emplo...|   Filled jobs|Agriculture, Fore...|        Actual|          NULL|          NULL|\n",
      "|     BDCQ.SEA1AA|2011.12|     85850|      NULL|     F|Number|        0|Business Data Col...|Industry by emplo...|   Filled jobs|Agriculture, Fore...|        Actual|          NULL|          NULL|\n",
      "|     BDCQ.SEA1AA|2012.03|     90743|      NULL|     F|Number|        0|Business Data Col...|Industry by emplo...|   Filled jobs|Agriculture, Fore...|        Actual|          NULL|          NULL|\n",
      "|     BDCQ.SEA1AA|2012.06|     81780|      NULL|     F|Number|        0|Business Data Col...|Industry by emplo...|   Filled jobs|Agriculture, Fore...|        Actual|          NULL|          NULL|\n",
      "|     BDCQ.SEA1AA|2012.09|     79261|      NULL|     F|Number|        0|Business Data Col...|Industry by emplo...|   Filled jobs|Agriculture, Fore...|        Actual|          NULL|          NULL|\n",
      "|     BDCQ.SEA1AA|2012.12|     87793|      NULL|     F|Number|        0|Business Data Col...|Industry by emplo...|   Filled jobs|Agriculture, Fore...|        Actual|          NULL|          NULL|\n",
      "|     BDCQ.SEA1AA|2013.03|     91571|      NULL|     F|Number|        0|Business Data Col...|Industry by emplo...|   Filled jobs|Agriculture, Fore...|        Actual|          NULL|          NULL|\n",
      "|     BDCQ.SEA1AA|2013.06|     81687|      NULL|     F|Number|        0|Business Data Col...|Industry by emplo...|   Filled jobs|Agriculture, Fore...|        Actual|          NULL|          NULL|\n",
      "|     BDCQ.SEA1AA|2013.09|     81471|      NULL|     F|Number|        0|Business Data Col...|Industry by emplo...|   Filled jobs|Agriculture, Fore...|        Actual|          NULL|          NULL|\n",
      "|     BDCQ.SEA1AA|2013.12|     93950|      NULL|     F|Number|        0|Business Data Col...|Industry by emplo...|   Filled jobs|Agriculture, Fore...|        Actual|          NULL|          NULL|\n",
      "|     BDCQ.SEA1AA|2014.03|     97208|      NULL|     F|Number|        0|Business Data Col...|Industry by emplo...|   Filled jobs|Agriculture, Fore...|        Actual|          NULL|          NULL|\n",
      "|     BDCQ.SEA1AA|2014.06|     85879|      NULL|     F|Number|        0|Business Data Col...|Industry by emplo...|   Filled jobs|Agriculture, Fore...|        Actual|          NULL|          NULL|\n",
      "|     BDCQ.SEA1AA|2014.09|     84447|      NULL|     F|Number|        0|Business Data Col...|Industry by emplo...|   Filled jobs|Agriculture, Fore...|        Actual|          NULL|          NULL|\n",
      "|     BDCQ.SEA1AA|2014.12|     95075|      NULL|     F|Number|        0|Business Data Col...|Industry by emplo...|   Filled jobs|Agriculture, Fore...|        Actual|          NULL|          NULL|\n",
      "|     BDCQ.SEA1AA|2015.03|     98202|      NULL|     F|Number|        0|Business Data Col...|Industry by emplo...|   Filled jobs|Agriculture, Fore...|        Actual|          NULL|          NULL|\n",
      "|     BDCQ.SEA1AA|2015.06|     87987|      NULL|     F|Number|        0|Business Data Col...|Industry by emplo...|   Filled jobs|Agriculture, Fore...|        Actual|          NULL|          NULL|\n",
      "|     BDCQ.SEA1AA|2015.09|     84529|      NULL|     F|Number|        0|Business Data Col...|Industry by emplo...|   Filled jobs|Agriculture, Fore...|        Actual|          NULL|          NULL|\n",
      "|     BDCQ.SEA1AA|2015.12|     96848|      NULL|     F|Number|        0|Business Data Col...|Industry by emplo...|   Filled jobs|Agriculture, Fore...|        Actual|          NULL|          NULL|\n",
      "|     BDCQ.SEA1AA|2016.03|     99291|      NULL|     F|Number|        0|Business Data Col...|Industry by emplo...|   Filled jobs|Agriculture, Fore...|        Actual|          NULL|          NULL|\n",
      "+----------------+-------+----------+----------+------+------+---------+--------------------+--------------------+--------------+--------------------+--------------+--------------+--------------+\n",
      "only showing top 20 rows\n",
      "\n"
     ]
    }
   ],
   "source": [
    "data.show()"
   ]
  },
  {
   "cell_type": "code",
   "execution_count": null,
   "metadata": {},
   "outputs": [],
   "source": []
  }
 ],
 "metadata": {
  "kernelspec": {
   "display_name": "py312",
   "language": "python",
   "name": "python3"
  },
  "language_info": {
   "codemirror_mode": {
    "name": "ipython",
    "version": 3
   },
   "file_extension": ".py",
   "mimetype": "text/x-python",
   "name": "python",
   "nbconvert_exporter": "python",
   "pygments_lexer": "ipython3",
   "version": "3.12.3"
  }
 },
 "nbformat": 4,
 "nbformat_minor": 2
}
