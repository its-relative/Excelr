{
 "cells": [
  {
   "cell_type": "code",
   "execution_count": 1,
   "metadata": {},
   "outputs": [
    {
     "name": "stdout",
     "output_type": "stream",
     "text": [
      "/home/its_relative/folder/in_git_hub/Excelr/class/sparkHadoop\n"
     ]
    }
   ],
   "source": [
    "!pwd"
   ]
  },
  {
   "cell_type": "code",
   "execution_count": 5,
   "metadata": {},
   "outputs": [
    {
     "name": "stdout",
     "output_type": "stream",
     "text": [
      " class1.ipynb\n",
      " hadoop_doc_main.docx\n",
      "'Spark_python_dataframes_updated copy.ipynb'\n",
      " Spark_python_dataframes_updated.ipynb\n",
      " TheDataEngineer’sGuidetoApacheSpark👨_💻-1.pdf\n",
      " Untitled-1.ipynb\n"
     ]
    }
   ],
   "source": [
    "!cd ~/Downloads/\n",
    "!ls"
   ]
  },
  {
   "cell_type": "code",
   "execution_count": 4,
   "metadata": {},
   "outputs": [
    {
     "name": "stdout",
     "output_type": "stream",
     "text": [
      " class1.ipynb\n",
      " hadoop_doc_main.docx\n",
      "'Spark_python_dataframes_updated copy.ipynb'\n",
      " Spark_python_dataframes_updated.ipynb\n",
      " TheDataEngineer’sGuidetoApacheSpark👨_💻-1.pdf\n",
      " Untitled-1.ipynb\n"
     ]
    }
   ],
   "source": []
  },
  {
   "cell_type": "code",
   "execution_count": null,
   "metadata": {},
   "outputs": [],
   "source": []
  }
 ],
 "metadata": {
  "kernelspec": {
   "display_name": "Python 3",
   "language": "python",
   "name": "python3"
  },
  "language_info": {
   "codemirror_mode": {
    "name": "ipython",
    "version": 3
   },
   "file_extension": ".py",
   "mimetype": "text/x-python",
   "name": "python",
   "nbconvert_exporter": "python",
   "pygments_lexer": "ipython3",
   "version": "3.10.12"
  }
 },
 "nbformat": 4,
 "nbformat_minor": 2
}
