{
 "cells": [
  {
   "cell_type": "code",
   "execution_count": 2,
   "metadata": {},
   "outputs": [],
   "source": [
    "import pandas as pd\n",
    "import numpy as np"
   ]
  },
  {
   "cell_type": "code",
   "execution_count": 42,
   "metadata": {},
   "outputs": [],
   "source": [
    "corpus = [\"Rohit is the captain of team India\",\n",
    "          \"Sachin is the legend of indian cricket\",\n",
    "          \"Connor Mcregor is a boxer\",\n",
    "          \"Connor is very good at fighting\"]\n",
    "\n"
   ]
  },
  {
   "cell_type": "code",
   "execution_count": 43,
   "metadata": {},
   "outputs": [
    {
     "data": {
      "text/plain": [
       "['Rohit is the captain of team India',\n",
       " 'Sachin is the legend of indian cricket',\n",
       " 'Connor Mcregor is a boxer',\n",
       " 'Connor is very good at fighting']"
      ]
     },
     "execution_count": 43,
     "metadata": {},
     "output_type": "execute_result"
    }
   ],
   "source": [
    "corpus"
   ]
  },
  {
   "cell_type": "code",
   "execution_count": 5,
   "metadata": {},
   "outputs": [],
   "source": [
    "from nltk.tokenize import word_tokenize"
   ]
  },
  {
   "cell_type": "code",
   "execution_count": 25,
   "metadata": {},
   "outputs": [],
   "source": [
    "# def vocabBuilder(docs):\n",
    "#     # wt = word_tokenize()\n",
    "#     vocab = {}\n",
    "#     for doc in docs:\n",
    "#         docList = word_tokenize(doc)\n",
    "#         counter = 0\n",
    "#         for i in docList:\n",
    "#             # print(i)\n",
    "#             if i in vocab.keys():\n",
    "#                 vocab[i] = 1 + counter\n",
    "#                 counter = vocab[i]\n",
    "#             else:\n",
    "#                 vocab[i] = 1 + counter\n",
    "#         ascVocab = sorted(vocab.items())\n",
    "#         ascVocab = dict(ascVocab)\n",
    "#     return ascVocab\n",
    "#                 # vocab[i] = docList[i]"
   ]
  },
  {
   "cell_type": "code",
   "execution_count": 58,
   "metadata": {},
   "outputs": [
    {
     "data": {
      "text/plain": [
       "{'Rohit': 1,\n",
       " 'is': 4,\n",
       " 'the': 2,\n",
       " 'captain': 1,\n",
       " 'of': 2,\n",
       " 'team': 1,\n",
       " 'India': 1,\n",
       " 'Sachin': 1,\n",
       " 'legend': 1,\n",
       " 'indian': 1,\n",
       " 'cricket': 1,\n",
       " 'Connor': 2,\n",
       " 'Mcregor': 1,\n",
       " 'a': 1,\n",
       " 'boxer': 1,\n",
       " 'very': 1,\n",
       " 'good': 1,\n",
       " 'at': 1,\n",
       " 'fighting': 1}"
      ]
     },
     "execution_count": 58,
     "metadata": {},
     "output_type": "execute_result"
    }
   ],
   "source": [
    "def vocabBuilder(docs):\n",
    "    vocab = {}\n",
    "    for doc in docs:\n",
    "        line = word_tokenize(doc)\n",
    "        # print(tokens)\n",
    "        for word in line:\n",
    "            if word not in vocab:\n",
    "                vocab[word] = 1\n",
    "            else:\n",
    "                vocab[word] += 1\n",
    "    # finalVocab = sorted(vocab.items())\n",
    "    # for key in sorted(vocab):\n",
    "        # print(key,vocab[key])\n",
    "    # vocab = dict(finalVocab)\n",
    "    return vocab\n",
    "\n",
    "vocabBuilder(corpus)"
   ]
  },
  {
   "cell_type": "code",
   "execution_count": null,
   "metadata": {},
   "outputs": [],
   "source": []
  },
  {
   "cell_type": "code",
   "execution_count": null,
   "metadata": {},
   "outputs": [],
   "source": []
  }
 ],
 "metadata": {
  "kernelspec": {
   "display_name": "Python 3",
   "language": "python",
   "name": "python3"
  },
  "language_info": {
   "codemirror_mode": {
    "name": "ipython",
    "version": 3
   },
   "file_extension": ".py",
   "mimetype": "text/x-python",
   "name": "python",
   "nbconvert_exporter": "python",
   "pygments_lexer": "ipython3",
   "version": "3.10.12"
  }
 },
 "nbformat": 4,
 "nbformat_minor": 2
}
