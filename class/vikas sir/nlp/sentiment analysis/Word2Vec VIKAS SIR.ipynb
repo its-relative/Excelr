{
 "cells": [
  {
   "cell_type": "code",
   "execution_count": 2,
   "metadata": {
    "id": "yZ0xd8Rx0dYT"
   },
   "outputs": [],
   "source": [
    "from gensim.models import Word2Vec, KeyedVectors\n",
    "import pandas as pd\n",
    "import numpy as np\n",
    "import nltk\n",
    "import string\n",
    "import re    #for regex\n",
    "import nltk\n",
    "from nltk.corpus import stopwords\n",
    "\n",
    "from nltk import pos_tag\n",
    "from nltk.stem.wordnet import WordNetLemmatizer\n",
    "from nltk.tokenize import word_tokenize\n",
    "\n",
    "from nltk.sentiment.vader import SentimentIntensityAnalyzer\n",
    "\n",
    "from textblob import TextBlob"
   ]
  },
  {
   "cell_type": "code",
   "execution_count": 3,
   "metadata": {
    "id": "KLlaMJOP0hgS"
   },
   "outputs": [],
   "source": [
    "df = pd.read_excel('War Sentiment Analysis.xlsx')"
   ]
  },
  {
   "cell_type": "code",
   "execution_count": 4,
   "metadata": {
    "colab": {
     "base_uri": "https://localhost:8080/",
     "height": 206
    },
    "id": "e4IDnKT80vJT",
    "outputId": "afb555ac-996d-405c-8e1e-dfc0851884b4"
   },
   "outputs": [
    {
     "data": {
      "text/html": [
       "\n",
       "  <div id=\"df-820430d2-f37a-4f21-8d27-7e50d40b7c57\" class=\"colab-df-container\">\n",
       "    <div>\n",
       "<style scoped>\n",
       "    .dataframe tbody tr th:only-of-type {\n",
       "        vertical-align: middle;\n",
       "    }\n",
       "\n",
       "    .dataframe tbody tr th {\n",
       "        vertical-align: top;\n",
       "    }\n",
       "\n",
       "    .dataframe thead th {\n",
       "        text-align: right;\n",
       "    }\n",
       "</style>\n",
       "<table border=\"1\" class=\"dataframe\">\n",
       "  <thead>\n",
       "    <tr style=\"text-align: right;\">\n",
       "      <th></th>\n",
       "      <th>user_id</th>\n",
       "      <th>tweet</th>\n",
       "      <th>language</th>\n",
       "    </tr>\n",
       "  </thead>\n",
       "  <tbody>\n",
       "    <tr>\n",
       "      <th>0</th>\n",
       "      <td>3031528348</td>\n",
       "      <td>@merjaya I urge you to stop contributing into ...</td>\n",
       "      <td>en</td>\n",
       "    </tr>\n",
       "    <tr>\n",
       "      <th>1</th>\n",
       "      <td>1225800000000000000</td>\n",
       "      <td>Russia to ban sunflower seed exports and impos...</td>\n",
       "      <td>en</td>\n",
       "    </tr>\n",
       "    <tr>\n",
       "      <th>2</th>\n",
       "      <td>1394360000000000000</td>\n",
       "      <td>@nathaliejacoby1 On Russia-Trump Saga in 2016 ...</td>\n",
       "      <td>en</td>\n",
       "    </tr>\n",
       "    <tr>\n",
       "      <th>3</th>\n",
       "      <td>982157000000000000</td>\n",
       "      <td>It turns out that people living on islands &amp;am...</td>\n",
       "      <td>en</td>\n",
       "    </tr>\n",
       "    <tr>\n",
       "      <th>4</th>\n",
       "      <td>199448306</td>\n",
       "      <td>Russia Attacks Ukraine - LIVE BREAKING NEWS CO...</td>\n",
       "      <td>en</td>\n",
       "    </tr>\n",
       "  </tbody>\n",
       "</table>\n",
       "</div>\n",
       "    <div class=\"colab-df-buttons\">\n",
       "\n",
       "  <div class=\"colab-df-container\">\n",
       "    <button class=\"colab-df-convert\" onclick=\"convertToInteractive('df-820430d2-f37a-4f21-8d27-7e50d40b7c57')\"\n",
       "            title=\"Convert this dataframe to an interactive table.\"\n",
       "            style=\"display:none;\">\n",
       "\n",
       "  <svg xmlns=\"http://www.w3.org/2000/svg\" height=\"24px\" viewBox=\"0 -960 960 960\">\n",
       "    <path d=\"M120-120v-720h720v720H120Zm60-500h600v-160H180v160Zm220 220h160v-160H400v160Zm0 220h160v-160H400v160ZM180-400h160v-160H180v160Zm440 0h160v-160H620v160ZM180-180h160v-160H180v160Zm440 0h160v-160H620v160Z\"/>\n",
       "  </svg>\n",
       "    </button>\n",
       "\n",
       "  <style>\n",
       "    .colab-df-container {\n",
       "      display:flex;\n",
       "      gap: 12px;\n",
       "    }\n",
       "\n",
       "    .colab-df-convert {\n",
       "      background-color: #E8F0FE;\n",
       "      border: none;\n",
       "      border-radius: 50%;\n",
       "      cursor: pointer;\n",
       "      display: none;\n",
       "      fill: #1967D2;\n",
       "      height: 32px;\n",
       "      padding: 0 0 0 0;\n",
       "      width: 32px;\n",
       "    }\n",
       "\n",
       "    .colab-df-convert:hover {\n",
       "      background-color: #E2EBFA;\n",
       "      box-shadow: 0px 1px 2px rgba(60, 64, 67, 0.3), 0px 1px 3px 1px rgba(60, 64, 67, 0.15);\n",
       "      fill: #174EA6;\n",
       "    }\n",
       "\n",
       "    .colab-df-buttons div {\n",
       "      margin-bottom: 4px;\n",
       "    }\n",
       "\n",
       "    [theme=dark] .colab-df-convert {\n",
       "      background-color: #3B4455;\n",
       "      fill: #D2E3FC;\n",
       "    }\n",
       "\n",
       "    [theme=dark] .colab-df-convert:hover {\n",
       "      background-color: #434B5C;\n",
       "      box-shadow: 0px 1px 3px 1px rgba(0, 0, 0, 0.15);\n",
       "      filter: drop-shadow(0px 1px 2px rgba(0, 0, 0, 0.3));\n",
       "      fill: #FFFFFF;\n",
       "    }\n",
       "  </style>\n",
       "\n",
       "    <script>\n",
       "      const buttonEl =\n",
       "        document.querySelector('#df-820430d2-f37a-4f21-8d27-7e50d40b7c57 button.colab-df-convert');\n",
       "      buttonEl.style.display =\n",
       "        google.colab.kernel.accessAllowed ? 'block' : 'none';\n",
       "\n",
       "      async function convertToInteractive(key) {\n",
       "        const element = document.querySelector('#df-820430d2-f37a-4f21-8d27-7e50d40b7c57');\n",
       "        const dataTable =\n",
       "          await google.colab.kernel.invokeFunction('convertToInteractive',\n",
       "                                                    [key], {});\n",
       "        if (!dataTable) return;\n",
       "\n",
       "        const docLinkHtml = 'Like what you see? Visit the ' +\n",
       "          '<a target=\"_blank\" href=https://colab.research.google.com/notebooks/data_table.ipynb>data table notebook</a>'\n",
       "          + ' to learn more about interactive tables.';\n",
       "        element.innerHTML = '';\n",
       "        dataTable['output_type'] = 'display_data';\n",
       "        await google.colab.output.renderOutput(dataTable, element);\n",
       "        const docLink = document.createElement('div');\n",
       "        docLink.innerHTML = docLinkHtml;\n",
       "        element.appendChild(docLink);\n",
       "      }\n",
       "    </script>\n",
       "  </div>\n",
       "\n",
       "\n",
       "<div id=\"df-475e2b49-98ae-4c17-a4da-02670dea06c2\">\n",
       "  <button class=\"colab-df-quickchart\" onclick=\"quickchart('df-475e2b49-98ae-4c17-a4da-02670dea06c2')\"\n",
       "            title=\"Suggest charts\"\n",
       "            style=\"display:none;\">\n",
       "\n",
       "<svg xmlns=\"http://www.w3.org/2000/svg\" height=\"24px\"viewBox=\"0 0 24 24\"\n",
       "     width=\"24px\">\n",
       "    <g>\n",
       "        <path d=\"M19 3H5c-1.1 0-2 .9-2 2v14c0 1.1.9 2 2 2h14c1.1 0 2-.9 2-2V5c0-1.1-.9-2-2-2zM9 17H7v-7h2v7zm4 0h-2V7h2v10zm4 0h-2v-4h2v4z\"/>\n",
       "    </g>\n",
       "</svg>\n",
       "  </button>\n",
       "\n",
       "<style>\n",
       "  .colab-df-quickchart {\n",
       "      --bg-color: #E8F0FE;\n",
       "      --fill-color: #1967D2;\n",
       "      --hover-bg-color: #E2EBFA;\n",
       "      --hover-fill-color: #174EA6;\n",
       "      --disabled-fill-color: #AAA;\n",
       "      --disabled-bg-color: #DDD;\n",
       "  }\n",
       "\n",
       "  [theme=dark] .colab-df-quickchart {\n",
       "      --bg-color: #3B4455;\n",
       "      --fill-color: #D2E3FC;\n",
       "      --hover-bg-color: #434B5C;\n",
       "      --hover-fill-color: #FFFFFF;\n",
       "      --disabled-bg-color: #3B4455;\n",
       "      --disabled-fill-color: #666;\n",
       "  }\n",
       "\n",
       "  .colab-df-quickchart {\n",
       "    background-color: var(--bg-color);\n",
       "    border: none;\n",
       "    border-radius: 50%;\n",
       "    cursor: pointer;\n",
       "    display: none;\n",
       "    fill: var(--fill-color);\n",
       "    height: 32px;\n",
       "    padding: 0;\n",
       "    width: 32px;\n",
       "  }\n",
       "\n",
       "  .colab-df-quickchart:hover {\n",
       "    background-color: var(--hover-bg-color);\n",
       "    box-shadow: 0 1px 2px rgba(60, 64, 67, 0.3), 0 1px 3px 1px rgba(60, 64, 67, 0.15);\n",
       "    fill: var(--button-hover-fill-color);\n",
       "  }\n",
       "\n",
       "  .colab-df-quickchart-complete:disabled,\n",
       "  .colab-df-quickchart-complete:disabled:hover {\n",
       "    background-color: var(--disabled-bg-color);\n",
       "    fill: var(--disabled-fill-color);\n",
       "    box-shadow: none;\n",
       "  }\n",
       "\n",
       "  .colab-df-spinner {\n",
       "    border: 2px solid var(--fill-color);\n",
       "    border-color: transparent;\n",
       "    border-bottom-color: var(--fill-color);\n",
       "    animation:\n",
       "      spin 1s steps(1) infinite;\n",
       "  }\n",
       "\n",
       "  @keyframes spin {\n",
       "    0% {\n",
       "      border-color: transparent;\n",
       "      border-bottom-color: var(--fill-color);\n",
       "      border-left-color: var(--fill-color);\n",
       "    }\n",
       "    20% {\n",
       "      border-color: transparent;\n",
       "      border-left-color: var(--fill-color);\n",
       "      border-top-color: var(--fill-color);\n",
       "    }\n",
       "    30% {\n",
       "      border-color: transparent;\n",
       "      border-left-color: var(--fill-color);\n",
       "      border-top-color: var(--fill-color);\n",
       "      border-right-color: var(--fill-color);\n",
       "    }\n",
       "    40% {\n",
       "      border-color: transparent;\n",
       "      border-right-color: var(--fill-color);\n",
       "      border-top-color: var(--fill-color);\n",
       "    }\n",
       "    60% {\n",
       "      border-color: transparent;\n",
       "      border-right-color: var(--fill-color);\n",
       "    }\n",
       "    80% {\n",
       "      border-color: transparent;\n",
       "      border-right-color: var(--fill-color);\n",
       "      border-bottom-color: var(--fill-color);\n",
       "    }\n",
       "    90% {\n",
       "      border-color: transparent;\n",
       "      border-bottom-color: var(--fill-color);\n",
       "    }\n",
       "  }\n",
       "</style>\n",
       "\n",
       "  <script>\n",
       "    async function quickchart(key) {\n",
       "      const quickchartButtonEl =\n",
       "        document.querySelector('#' + key + ' button');\n",
       "      quickchartButtonEl.disabled = true;  // To prevent multiple clicks.\n",
       "      quickchartButtonEl.classList.add('colab-df-spinner');\n",
       "      try {\n",
       "        const charts = await google.colab.kernel.invokeFunction(\n",
       "            'suggestCharts', [key], {});\n",
       "      } catch (error) {\n",
       "        console.error('Error during call to suggestCharts:', error);\n",
       "      }\n",
       "      quickchartButtonEl.classList.remove('colab-df-spinner');\n",
       "      quickchartButtonEl.classList.add('colab-df-quickchart-complete');\n",
       "    }\n",
       "    (() => {\n",
       "      let quickchartButtonEl =\n",
       "        document.querySelector('#df-475e2b49-98ae-4c17-a4da-02670dea06c2 button');\n",
       "      quickchartButtonEl.style.display =\n",
       "        google.colab.kernel.accessAllowed ? 'block' : 'none';\n",
       "    })();\n",
       "  </script>\n",
       "</div>\n",
       "\n",
       "    </div>\n",
       "  </div>\n"
      ],
      "text/plain": [
       "               user_id                                              tweet  \\\n",
       "0           3031528348  @merjaya I urge you to stop contributing into ...   \n",
       "1  1225800000000000000  Russia to ban sunflower seed exports and impos...   \n",
       "2  1394360000000000000  @nathaliejacoby1 On Russia-Trump Saga in 2016 ...   \n",
       "3   982157000000000000  It turns out that people living on islands &am...   \n",
       "4            199448306  Russia Attacks Ukraine - LIVE BREAKING NEWS CO...   \n",
       "\n",
       "  language  \n",
       "0       en  \n",
       "1       en  \n",
       "2       en  \n",
       "3       en  \n",
       "4       en  "
      ]
     },
     "execution_count": 4,
     "metadata": {},
     "output_type": "execute_result"
    }
   ],
   "source": [
    "df.head()"
   ]
  },
  {
   "cell_type": "code",
   "execution_count": 5,
   "metadata": {
    "colab": {
     "base_uri": "https://localhost:8080/"
    },
    "id": "uVZXua6H1A6V",
    "outputId": "0390d507-366e-4c17-e920-a57aa195c26c"
   },
   "outputs": [
    {
     "name": "stderr",
     "output_type": "stream",
     "text": [
      "[nltk_data] Downloading package stopwords to /root/nltk_data...\n",
      "[nltk_data]   Unzipping corpora/stopwords.zip.\n"
     ]
    }
   ],
   "source": [
    "nltk.download('stopwords')\n",
    "stop = set(stopwords.words('english'))"
   ]
  },
  {
   "cell_type": "code",
   "execution_count": 6,
   "metadata": {
    "id": "uVaVEvKO1Cc3"
   },
   "outputs": [],
   "source": [
    "def pre_process(text):\n",
    "    text = str(text).lower()\n",
    "    text = re.sub(r\"[-()\\\"#/@;:{}`+=~|.!?,'0-9]\", \"\", text)\n",
    "    text = re.sub('https?://\\S+|www\\.\\S+', '', text)\n",
    "    text = re.sub('<.*?>+', '', text)\n",
    "    text = re.sub('[%s]' % re.escape(string.punctuation), '', text)\n",
    "    text = re.sub('\\n', '', text)\n",
    "    text = re.sub('\\w*\\d\\w*', '', text)\n",
    "    text = [word for word in text.split(' ') if word not in stop]\n",
    "    text=\" \".join(text)\n",
    "    return text"
   ]
  },
  {
   "cell_type": "code",
   "execution_count": 7,
   "metadata": {
    "id": "ZIxYvhE71Ei2"
   },
   "outputs": [],
   "source": [
    "df['clean_tweets'] = df['tweet'].apply(lambda x: pre_process(x))"
   ]
  },
  {
   "cell_type": "code",
   "execution_count": 8,
   "metadata": {
    "colab": {
     "base_uri": "https://localhost:8080/",
     "height": 206
    },
    "id": "y0Q0JaN71HRR",
    "outputId": "d3de26b6-7cd5-4b73-fcdb-780a3ab09cee"
   },
   "outputs": [
    {
     "data": {
      "text/html": [
       "\n",
       "  <div id=\"df-81a4178a-5316-4d57-b91d-6eca2662a555\" class=\"colab-df-container\">\n",
       "    <div>\n",
       "<style scoped>\n",
       "    .dataframe tbody tr th:only-of-type {\n",
       "        vertical-align: middle;\n",
       "    }\n",
       "\n",
       "    .dataframe tbody tr th {\n",
       "        vertical-align: top;\n",
       "    }\n",
       "\n",
       "    .dataframe thead th {\n",
       "        text-align: right;\n",
       "    }\n",
       "</style>\n",
       "<table border=\"1\" class=\"dataframe\">\n",
       "  <thead>\n",
       "    <tr style=\"text-align: right;\">\n",
       "      <th></th>\n",
       "      <th>user_id</th>\n",
       "      <th>tweet</th>\n",
       "      <th>language</th>\n",
       "      <th>clean_tweets</th>\n",
       "    </tr>\n",
       "  </thead>\n",
       "  <tbody>\n",
       "    <tr>\n",
       "      <th>0</th>\n",
       "      <td>3031528348</td>\n",
       "      <td>@merjaya I urge you to stop contributing into ...</td>\n",
       "      <td>en</td>\n",
       "      <td>merjaya urge stop contributing deaths innocent...</td>\n",
       "    </tr>\n",
       "    <tr>\n",
       "      <th>1</th>\n",
       "      <td>1225800000000000000</td>\n",
       "      <td>Russia to ban sunflower seed exports and impos...</td>\n",
       "      <td>en</td>\n",
       "      <td>russia ban sunflower seed exports impose quota...</td>\n",
       "    </tr>\n",
       "    <tr>\n",
       "      <th>2</th>\n",
       "      <td>1394360000000000000</td>\n",
       "      <td>@nathaliejacoby1 On Russia-Trump Saga in 2016 ...</td>\n",
       "      <td>en</td>\n",
       "      <td>nathaliejacoby russiatrump saga  us election o...</td>\n",
       "    </tr>\n",
       "    <tr>\n",
       "      <th>3</th>\n",
       "      <td>982157000000000000</td>\n",
       "      <td>It turns out that people living on islands &amp;am...</td>\n",
       "      <td>en</td>\n",
       "      <td>turns people living islands amp arent white sa...</td>\n",
       "    </tr>\n",
       "    <tr>\n",
       "      <th>4</th>\n",
       "      <td>199448306</td>\n",
       "      <td>Russia Attacks Ukraine - LIVE BREAKING NEWS CO...</td>\n",
       "      <td>en</td>\n",
       "      <td>russia attacks ukraine  live breaking news cov...</td>\n",
       "    </tr>\n",
       "  </tbody>\n",
       "</table>\n",
       "</div>\n",
       "    <div class=\"colab-df-buttons\">\n",
       "\n",
       "  <div class=\"colab-df-container\">\n",
       "    <button class=\"colab-df-convert\" onclick=\"convertToInteractive('df-81a4178a-5316-4d57-b91d-6eca2662a555')\"\n",
       "            title=\"Convert this dataframe to an interactive table.\"\n",
       "            style=\"display:none;\">\n",
       "\n",
       "  <svg xmlns=\"http://www.w3.org/2000/svg\" height=\"24px\" viewBox=\"0 -960 960 960\">\n",
       "    <path d=\"M120-120v-720h720v720H120Zm60-500h600v-160H180v160Zm220 220h160v-160H400v160Zm0 220h160v-160H400v160ZM180-400h160v-160H180v160Zm440 0h160v-160H620v160ZM180-180h160v-160H180v160Zm440 0h160v-160H620v160Z\"/>\n",
       "  </svg>\n",
       "    </button>\n",
       "\n",
       "  <style>\n",
       "    .colab-df-container {\n",
       "      display:flex;\n",
       "      gap: 12px;\n",
       "    }\n",
       "\n",
       "    .colab-df-convert {\n",
       "      background-color: #E8F0FE;\n",
       "      border: none;\n",
       "      border-radius: 50%;\n",
       "      cursor: pointer;\n",
       "      display: none;\n",
       "      fill: #1967D2;\n",
       "      height: 32px;\n",
       "      padding: 0 0 0 0;\n",
       "      width: 32px;\n",
       "    }\n",
       "\n",
       "    .colab-df-convert:hover {\n",
       "      background-color: #E2EBFA;\n",
       "      box-shadow: 0px 1px 2px rgba(60, 64, 67, 0.3), 0px 1px 3px 1px rgba(60, 64, 67, 0.15);\n",
       "      fill: #174EA6;\n",
       "    }\n",
       "\n",
       "    .colab-df-buttons div {\n",
       "      margin-bottom: 4px;\n",
       "    }\n",
       "\n",
       "    [theme=dark] .colab-df-convert {\n",
       "      background-color: #3B4455;\n",
       "      fill: #D2E3FC;\n",
       "    }\n",
       "\n",
       "    [theme=dark] .colab-df-convert:hover {\n",
       "      background-color: #434B5C;\n",
       "      box-shadow: 0px 1px 3px 1px rgba(0, 0, 0, 0.15);\n",
       "      filter: drop-shadow(0px 1px 2px rgba(0, 0, 0, 0.3));\n",
       "      fill: #FFFFFF;\n",
       "    }\n",
       "  </style>\n",
       "\n",
       "    <script>\n",
       "      const buttonEl =\n",
       "        document.querySelector('#df-81a4178a-5316-4d57-b91d-6eca2662a555 button.colab-df-convert');\n",
       "      buttonEl.style.display =\n",
       "        google.colab.kernel.accessAllowed ? 'block' : 'none';\n",
       "\n",
       "      async function convertToInteractive(key) {\n",
       "        const element = document.querySelector('#df-81a4178a-5316-4d57-b91d-6eca2662a555');\n",
       "        const dataTable =\n",
       "          await google.colab.kernel.invokeFunction('convertToInteractive',\n",
       "                                                    [key], {});\n",
       "        if (!dataTable) return;\n",
       "\n",
       "        const docLinkHtml = 'Like what you see? Visit the ' +\n",
       "          '<a target=\"_blank\" href=https://colab.research.google.com/notebooks/data_table.ipynb>data table notebook</a>'\n",
       "          + ' to learn more about interactive tables.';\n",
       "        element.innerHTML = '';\n",
       "        dataTable['output_type'] = 'display_data';\n",
       "        await google.colab.output.renderOutput(dataTable, element);\n",
       "        const docLink = document.createElement('div');\n",
       "        docLink.innerHTML = docLinkHtml;\n",
       "        element.appendChild(docLink);\n",
       "      }\n",
       "    </script>\n",
       "  </div>\n",
       "\n",
       "\n",
       "<div id=\"df-2b83e487-dd8f-437e-aa24-73353a74c206\">\n",
       "  <button class=\"colab-df-quickchart\" onclick=\"quickchart('df-2b83e487-dd8f-437e-aa24-73353a74c206')\"\n",
       "            title=\"Suggest charts\"\n",
       "            style=\"display:none;\">\n",
       "\n",
       "<svg xmlns=\"http://www.w3.org/2000/svg\" height=\"24px\"viewBox=\"0 0 24 24\"\n",
       "     width=\"24px\">\n",
       "    <g>\n",
       "        <path d=\"M19 3H5c-1.1 0-2 .9-2 2v14c0 1.1.9 2 2 2h14c1.1 0 2-.9 2-2V5c0-1.1-.9-2-2-2zM9 17H7v-7h2v7zm4 0h-2V7h2v10zm4 0h-2v-4h2v4z\"/>\n",
       "    </g>\n",
       "</svg>\n",
       "  </button>\n",
       "\n",
       "<style>\n",
       "  .colab-df-quickchart {\n",
       "      --bg-color: #E8F0FE;\n",
       "      --fill-color: #1967D2;\n",
       "      --hover-bg-color: #E2EBFA;\n",
       "      --hover-fill-color: #174EA6;\n",
       "      --disabled-fill-color: #AAA;\n",
       "      --disabled-bg-color: #DDD;\n",
       "  }\n",
       "\n",
       "  [theme=dark] .colab-df-quickchart {\n",
       "      --bg-color: #3B4455;\n",
       "      --fill-color: #D2E3FC;\n",
       "      --hover-bg-color: #434B5C;\n",
       "      --hover-fill-color: #FFFFFF;\n",
       "      --disabled-bg-color: #3B4455;\n",
       "      --disabled-fill-color: #666;\n",
       "  }\n",
       "\n",
       "  .colab-df-quickchart {\n",
       "    background-color: var(--bg-color);\n",
       "    border: none;\n",
       "    border-radius: 50%;\n",
       "    cursor: pointer;\n",
       "    display: none;\n",
       "    fill: var(--fill-color);\n",
       "    height: 32px;\n",
       "    padding: 0;\n",
       "    width: 32px;\n",
       "  }\n",
       "\n",
       "  .colab-df-quickchart:hover {\n",
       "    background-color: var(--hover-bg-color);\n",
       "    box-shadow: 0 1px 2px rgba(60, 64, 67, 0.3), 0 1px 3px 1px rgba(60, 64, 67, 0.15);\n",
       "    fill: var(--button-hover-fill-color);\n",
       "  }\n",
       "\n",
       "  .colab-df-quickchart-complete:disabled,\n",
       "  .colab-df-quickchart-complete:disabled:hover {\n",
       "    background-color: var(--disabled-bg-color);\n",
       "    fill: var(--disabled-fill-color);\n",
       "    box-shadow: none;\n",
       "  }\n",
       "\n",
       "  .colab-df-spinner {\n",
       "    border: 2px solid var(--fill-color);\n",
       "    border-color: transparent;\n",
       "    border-bottom-color: var(--fill-color);\n",
       "    animation:\n",
       "      spin 1s steps(1) infinite;\n",
       "  }\n",
       "\n",
       "  @keyframes spin {\n",
       "    0% {\n",
       "      border-color: transparent;\n",
       "      border-bottom-color: var(--fill-color);\n",
       "      border-left-color: var(--fill-color);\n",
       "    }\n",
       "    20% {\n",
       "      border-color: transparent;\n",
       "      border-left-color: var(--fill-color);\n",
       "      border-top-color: var(--fill-color);\n",
       "    }\n",
       "    30% {\n",
       "      border-color: transparent;\n",
       "      border-left-color: var(--fill-color);\n",
       "      border-top-color: var(--fill-color);\n",
       "      border-right-color: var(--fill-color);\n",
       "    }\n",
       "    40% {\n",
       "      border-color: transparent;\n",
       "      border-right-color: var(--fill-color);\n",
       "      border-top-color: var(--fill-color);\n",
       "    }\n",
       "    60% {\n",
       "      border-color: transparent;\n",
       "      border-right-color: var(--fill-color);\n",
       "    }\n",
       "    80% {\n",
       "      border-color: transparent;\n",
       "      border-right-color: var(--fill-color);\n",
       "      border-bottom-color: var(--fill-color);\n",
       "    }\n",
       "    90% {\n",
       "      border-color: transparent;\n",
       "      border-bottom-color: var(--fill-color);\n",
       "    }\n",
       "  }\n",
       "</style>\n",
       "\n",
       "  <script>\n",
       "    async function quickchart(key) {\n",
       "      const quickchartButtonEl =\n",
       "        document.querySelector('#' + key + ' button');\n",
       "      quickchartButtonEl.disabled = true;  // To prevent multiple clicks.\n",
       "      quickchartButtonEl.classList.add('colab-df-spinner');\n",
       "      try {\n",
       "        const charts = await google.colab.kernel.invokeFunction(\n",
       "            'suggestCharts', [key], {});\n",
       "      } catch (error) {\n",
       "        console.error('Error during call to suggestCharts:', error);\n",
       "      }\n",
       "      quickchartButtonEl.classList.remove('colab-df-spinner');\n",
       "      quickchartButtonEl.classList.add('colab-df-quickchart-complete');\n",
       "    }\n",
       "    (() => {\n",
       "      let quickchartButtonEl =\n",
       "        document.querySelector('#df-2b83e487-dd8f-437e-aa24-73353a74c206 button');\n",
       "      quickchartButtonEl.style.display =\n",
       "        google.colab.kernel.accessAllowed ? 'block' : 'none';\n",
       "    })();\n",
       "  </script>\n",
       "</div>\n",
       "\n",
       "    </div>\n",
       "  </div>\n"
      ],
      "text/plain": [
       "               user_id                                              tweet  \\\n",
       "0           3031528348  @merjaya I urge you to stop contributing into ...   \n",
       "1  1225800000000000000  Russia to ban sunflower seed exports and impos...   \n",
       "2  1394360000000000000  @nathaliejacoby1 On Russia-Trump Saga in 2016 ...   \n",
       "3   982157000000000000  It turns out that people living on islands &am...   \n",
       "4            199448306  Russia Attacks Ukraine - LIVE BREAKING NEWS CO...   \n",
       "\n",
       "  language                                       clean_tweets  \n",
       "0       en  merjaya urge stop contributing deaths innocent...  \n",
       "1       en  russia ban sunflower seed exports impose quota...  \n",
       "2       en  nathaliejacoby russiatrump saga  us election o...  \n",
       "3       en  turns people living islands amp arent white sa...  \n",
       "4       en  russia attacks ukraine  live breaking news cov...  "
      ]
     },
     "execution_count": 8,
     "metadata": {},
     "output_type": "execute_result"
    }
   ],
   "source": [
    "df.head()"
   ]
  },
  {
   "cell_type": "code",
   "execution_count": 9,
   "metadata": {
    "id": "2tfb32j91I6F"
   },
   "outputs": [],
   "source": [
    "Tweets = df['clean_tweets'].values"
   ]
  },
  {
   "cell_type": "code",
   "execution_count": 10,
   "metadata": {
    "colab": {
     "base_uri": "https://localhost:8080/"
    },
    "id": "GW71du5D1Kwn",
    "outputId": "61b6febc-13f0-4003-cdc2-14a2d7e4de6c"
   },
   "outputs": [
    {
     "data": {
      "text/plain": [
       "array(['merjaya urge stop contributing deaths innocents ukraine every ruble falls taxes russia turns tears death ukrainian children stop traffic goods transport fromto russian federation show support actions  httpstcogjtdltvl',\n",
       "       'russia ban sunflower seed exports impose quota sunoil   httpstcooyndajbfi  httpstcofyfnobjq',\n",
       "       'nathaliejacoby russiatrump saga  us election one may say â€œlusionâ€\\x9d â€œlusionâ€\\x9d amp doesnt matter whether â€œallusionâ€\\x9d â€œcollusionâ€\\x9d â€œexclusionâ€\\x9dor â€œinclusionâ€\\x9d â€œdelusionâ€\\x9d â€œcrimeâ€\\x9d â€œcrimeâ€\\x9d regardless fact criminal â€œwhite collarâ€\\x9d â€œnonwhite collarâ€\\x9d',\n",
       "       ...,\n",
       "       'kellyesorelle orionmidas yep like believe george papadopoulos getting caught likely flynn talking fbi without lawyer set trump russia hoax',\n",
       "       'bueno eso nos responde sobre la interrogante  â¿en quã© van las negociaciones russiaukrania',\n",
       "       'jeannewhalen alyssafowers kind gloss artificial means bank russia using stabilize market greenwichtime donâ€™t think lift ban short selling selling foreign investors huge correction'],\n",
       "      dtype=object)"
      ]
     },
     "execution_count": 10,
     "metadata": {},
     "output_type": "execute_result"
    }
   ],
   "source": [
    "Tweets"
   ]
  },
  {
   "cell_type": "code",
   "execution_count": 12,
   "metadata": {
    "colab": {
     "base_uri": "https://localhost:8080/"
    },
    "id": "NVpOl5n81XtG",
    "outputId": "893dedb5-97c0-4709-986e-fd6b4c4acc16"
   },
   "outputs": [
    {
     "name": "stderr",
     "output_type": "stream",
     "text": [
      "[nltk_data] Downloading package punkt to /root/nltk_data...\n",
      "[nltk_data]   Unzipping tokenizers/punkt.zip.\n"
     ]
    },
    {
     "data": {
      "text/plain": [
       "True"
      ]
     },
     "execution_count": 12,
     "metadata": {},
     "output_type": "execute_result"
    }
   ],
   "source": [
    "import nltk\n",
    "nltk.download('punkt')"
   ]
  },
  {
   "cell_type": "code",
   "execution_count": null,
   "metadata": {
    "id": "TpHfzL9m1MHb"
   },
   "outputs": [],
   "source": [
    "newsVec = [nltk.word_tokenize(word) for word in Tweets]\n",
    "newsVec"
   ]
  },
  {
   "cell_type": "code",
   "execution_count": 14,
   "metadata": {
    "id": "-EGemqWP1QVl"
   },
   "outputs": [],
   "source": [
    "model = Word2Vec(newsVec, min_count=5, vector_size=64)"
   ]
  },
  {
   "cell_type": "code",
   "execution_count": 15,
   "metadata": {
    "colab": {
     "base_uri": "https://localhost:8080/"
    },
    "id": "05rb_3a-1ekg",
    "outputId": "b52bd021-6e1a-4c53-fc79-22fae7227caa"
   },
   "outputs": [
    {
     "data": {
      "text/plain": [
       "array([ 0.3996777 , -1.0916582 ,  0.6488639 ,  0.975786  , -0.23073825,\n",
       "       -0.6635104 ,  0.43896818, -0.8185788 , -0.838492  , -0.25362432,\n",
       "        0.75291437, -0.3436306 , -0.4307924 , -0.32264385, -0.6466525 ,\n",
       "        0.556303  , -0.7060838 ,  0.06860047, -0.6043076 ,  0.45294362,\n",
       "        0.85342884,  1.2319942 ,  0.3371788 , -0.8408828 ,  0.04043432,\n",
       "        0.23556904, -0.69037724,  0.06333683,  0.23420954, -0.09371296,\n",
       "       -0.37522882, -0.05884547,  0.0341813 , -0.5194127 , -0.35348713,\n",
       "        0.09601197, -0.04893948, -0.26451302,  0.00728088, -0.14022672,\n",
       "       -0.13562135,  0.48309168, -0.3399802 , -0.23223862,  0.48366016,\n",
       "       -0.2512831 , -0.22443204, -0.14067551,  0.26502016,  0.4332557 ,\n",
       "        0.0135058 , -0.16883431, -0.13800879,  0.39637125,  0.10227364,\n",
       "       -0.34445566, -0.11130611, -0.7186595 , -0.6662941 ,  0.68714935,\n",
       "       -0.55538327,  0.04125994,  0.00706257,  0.10120559], dtype=float32)"
      ]
     },
     "execution_count": 15,
     "metadata": {},
     "output_type": "execute_result"
    }
   ],
   "source": [
    "model.wv.get_vector('russia')"
   ]
  },
  {
   "cell_type": "code",
   "execution_count": 16,
   "metadata": {
    "colab": {
     "base_uri": "https://localhost:8080/"
    },
    "id": "iZR16-Y21hIx",
    "outputId": "73bcb073-063f-4804-e204-9058a75ed850"
   },
   "outputs": [
    {
     "data": {
      "text/plain": [
       "array([ 0.36730865, -1.2107699 ,  0.7839953 ,  1.1655278 , -0.10965913,\n",
       "       -0.47661176,  0.5211427 , -0.67812717, -0.9736332 , -0.10293536,\n",
       "        0.9106494 , -0.5708649 , -0.17934173, -0.27016935, -0.41903496,\n",
       "        0.60388446, -0.8669595 , -0.07223005, -0.47757673,  0.57947564,\n",
       "        0.68758625,  1.3336155 ,  0.29907635, -1.0527427 , -0.08510009,\n",
       "        0.49479282, -0.6173979 ,  0.18971422,  0.11994413, -0.23738736,\n",
       "       -0.34397978,  0.08594251, -0.3387214 , -0.59885925, -0.5594238 ,\n",
       "        0.17358656, -0.01129667, -0.2575398 , -0.13008885, -0.12001105,\n",
       "        0.12474081,  0.67523247, -0.20904462, -0.11193343,  0.71149504,\n",
       "       -0.1517401 , -0.3030268 , -0.3722764 ,  0.27936664,  0.5486194 ,\n",
       "        0.07244718, -0.05953434, -0.2497019 ,  0.44401735,  0.08983023,\n",
       "       -0.3265765 ,  0.01926894, -0.9185071 , -0.78053755,  0.752939  ,\n",
       "       -0.5092582 ,  0.05156661,  0.00589779,  0.39534247], dtype=float32)"
      ]
     },
     "execution_count": 16,
     "metadata": {},
     "output_type": "execute_result"
    }
   ],
   "source": [
    "model.wv['nato']"
   ]
  },
  {
   "cell_type": "code",
   "execution_count": 17,
   "metadata": {
    "colab": {
     "base_uri": "https://localhost:8080/"
    },
    "id": "XwJvPnVe1i9J",
    "outputId": "ec0f8b52-648e-46bc-ab31-d4c7ebf96f79"
   },
   "outputs": [
    {
     "data": {
      "text/plain": [
       "array([ 0.36756098, -1.8092309 ,  0.8257923 ,  1.4976826 , -0.68322885,\n",
       "       -0.1814086 ,  0.5379501 , -0.9109677 , -1.509286  ,  0.08894572,\n",
       "        0.71382713, -0.4137028 , -0.30819947,  0.0763745 , -0.23437156,\n",
       "        0.34784004, -1.3008115 , -0.09500596, -0.5851598 ,  0.06122304,\n",
       "        0.9398971 ,  1.7243955 ,  0.51342803, -1.3501341 ,  0.27572668,\n",
       "        0.9163961 , -0.34040812,  0.37108406,  0.42048457, -0.23306312,\n",
       "       -0.8788199 , -0.01275142, -0.19661154, -0.6984256 , -0.6653636 ,\n",
       "        0.1806315 ,  0.21767597, -0.3397599 , -0.52395654, -0.10367076,\n",
       "        0.5708454 ,  0.9022779 , -0.43175712,  0.2212698 ,  0.6437485 ,\n",
       "       -0.17006788, -0.5241554 , -0.343227  ,  0.7703524 ,  0.55998945,\n",
       "        0.67813635, -0.6423659 , -0.7678265 ,  0.6311815 , -0.06095098,\n",
       "       -0.19918467, -0.25521332, -1.7006222 , -1.2308285 ,  0.9748386 ,\n",
       "       -0.05650867,  0.20462067, -0.03080229,  1.1443037 ], dtype=float32)"
      ]
     },
     "execution_count": 17,
     "metadata": {},
     "output_type": "execute_result"
    }
   ],
   "source": [
    "model.wv['people']"
   ]
  },
  {
   "cell_type": "code",
   "execution_count": 18,
   "metadata": {
    "colab": {
     "base_uri": "https://localhost:8080/"
    },
    "id": "YB4Rkwn31lRD",
    "outputId": "fd99da14-d64d-4342-e37f-de3cefb6216f"
   },
   "outputs": [
    {
     "data": {
      "text/plain": [
       "[('biden', 0.9841304421424866),\n",
       " ('must', 0.9726689457893372),\n",
       " ('dependent', 0.9713578224182129),\n",
       " ('invade', 0.9707369208335876),\n",
       " ('blame', 0.97064608335495),\n",
       " ('eu', 0.9695165157318115),\n",
       " ('wants', 0.9685183763504028),\n",
       " ('wont', 0.9683658480644226),\n",
       " ('germany', 0.9682103991508484),\n",
       " ('joe', 0.968162477016449)]"
      ]
     },
     "execution_count": 18,
     "metadata": {},
     "output_type": "execute_result"
    }
   ],
   "source": [
    "model.wv.most_similar('russia')"
   ]
  },
  {
   "cell_type": "code",
   "execution_count": 19,
   "metadata": {
    "colab": {
     "base_uri": "https://localhost:8080/"
    },
    "id": "hVhEtbcu1opv",
    "outputId": "23c0321e-d2eb-436f-baec-a88124bc08cd"
   },
   "outputs": [
    {
     "data": {
      "text/plain": [
       "[('political', 0.9993082880973816),\n",
       " ('lives', 0.999250054359436),\n",
       " ('everyone', 0.9992008209228516),\n",
       " ('democrats', 0.9991926550865173),\n",
       " ('ones', 0.9991534948348999),\n",
       " ('influence', 0.9991230368614197),\n",
       " ('remember', 0.9991076588630676),\n",
       " ('someone', 0.9991026520729065),\n",
       " ('syria', 0.9990912675857544),\n",
       " ('completely', 0.9990862011909485)]"
      ]
     },
     "execution_count": 19,
     "metadata": {},
     "output_type": "execute_result"
    }
   ],
   "source": [
    "vec = model.wv['man']+model.wv['woman']\n",
    "model.wv.most_similar([vec])"
   ]
  },
  {
   "cell_type": "code",
   "execution_count": 20,
   "metadata": {
    "colab": {
     "base_uri": "https://localhost:8080/"
    },
    "id": "6-RTTL-z1qjS",
    "outputId": "b8ff9fcd-aafe-4aea-90b3-382b1cab0a13"
   },
   "outputs": [
    {
     "data": {
      "text/plain": [
       "[('ukraine', 0.9909001588821411),\n",
       " ('day', 0.9866133332252502),\n",
       " ('invasion', 0.9854670763015747),\n",
       " ('die', 0.9838014841079712),\n",
       " ('hundreds', 0.9834384918212891),\n",
       " ('although', 0.9777392148971558),\n",
       " ('financing', 0.9698039889335632),\n",
       " ('started', 0.9686292409896851),\n",
       " ('russias', 0.9685906767845154),\n",
       " ('result', 0.9626274108886719)]"
      ]
     },
     "execution_count": 20,
     "metadata": {},
     "output_type": "execute_result"
    }
   ],
   "source": [
    "model.wv.most_similar('war')"
   ]
  },
  {
   "cell_type": "markdown",
   "metadata": {
    "id": "v0LjXBJL1zUn"
   },
   "source": [
    "## Word2vec from pre-trained models"
   ]
  },
  {
   "cell_type": "code",
   "execution_count": 21,
   "metadata": {
    "id": "qjeiwsPX1uS9"
   },
   "outputs": [],
   "source": [
    "from gensim.models import Word2Vec, KeyedVectors\n",
    "import pandas as pd\n",
    "import numpy as np\n",
    "import nltk"
   ]
  },
  {
   "cell_type": "code",
   "execution_count": 22,
   "metadata": {
    "colab": {
     "base_uri": "https://localhost:8080/"
    },
    "id": "YUBAPd2g138W",
    "outputId": "bb82d24d-16c9-438f-c7fb-c888d5424b1c"
   },
   "outputs": [
    {
     "name": "stdout",
     "output_type": "stream",
     "text": [
      "['fasttext-wiki-news-subwords-300', 'conceptnet-numberbatch-17-06-300', 'word2vec-ruscorpora-300', 'word2vec-google-news-300', 'glove-wiki-gigaword-50', 'glove-wiki-gigaword-100', 'glove-wiki-gigaword-200', 'glove-wiki-gigaword-300', 'glove-twitter-25', 'glove-twitter-50', 'glove-twitter-100', 'glove-twitter-200', '__testing_word2vec-matrix-synopsis']\n"
     ]
    }
   ],
   "source": [
    "import gensim.downloader\n",
    "# Show all available models in gensim-data\n",
    "print(list(gensim.downloader.info()['models'].keys()))"
   ]
  },
  {
   "cell_type": "code",
   "execution_count": 23,
   "metadata": {
    "colab": {
     "base_uri": "https://localhost:8080/"
    },
    "id": "bMkAByiU15X_",
    "outputId": "39cf84bf-eb36-4891-93cf-d698207eb21d"
   },
   "outputs": [
    {
     "name": "stdout",
     "output_type": "stream",
     "text": [
      "[==================================================] 100.0% 1662.8/1662.8MB downloaded\n"
     ]
    }
   ],
   "source": [
    "glove_vectors = gensim.downloader.load('word2vec-google-news-300')"
   ]
  },
  {
   "cell_type": "code",
   "execution_count": 24,
   "metadata": {
    "colab": {
     "base_uri": "https://localhost:8080/"
    },
    "id": "dObXJRTz169a",
    "outputId": "4c9f5198-8975-4c05-dfc0-afd262268c12"
   },
   "outputs": [
    {
     "data": {
      "text/plain": [
       "[('Twitter', 0.8908904194831848),\n",
       " ('Twitter.com', 0.7536780834197998),\n",
       " ('tweet', 0.7431626319885254),\n",
       " ('tweeting', 0.7161932587623596),\n",
       " ('tweeted', 0.7137226462364197),\n",
       " ('facebook', 0.6988551616668701),\n",
       " ('tweets', 0.6974530816078186),\n",
       " ('Tweeted', 0.6950210928916931),\n",
       " ('Tweet', 0.6875007152557373),\n",
       " ('Tweeting', 0.6845167279243469)]"
      ]
     },
     "execution_count": 24,
     "metadata": {},
     "output_type": "execute_result"
    }
   ],
   "source": [
    "glove_vectors.most_similar('twitter')"
   ]
  },
  {
   "cell_type": "code",
   "execution_count": 25,
   "metadata": {
    "colab": {
     "base_uri": "https://localhost:8080/"
    },
    "id": "b8y2u3GZ2CVr",
    "outputId": "6eda3ef4-9f9f-4774-c889-ecec2a698958"
   },
   "outputs": [
    {
     "data": {
      "text/plain": [
       "[('France', 0.7724406123161316),\n",
       " ('Paris', 0.6798243522644043),\n",
       " ('Belgium', 0.598486065864563),\n",
       " ('Germany', 0.5652832388877869),\n",
       " ('extradites_Noriega', 0.5623601078987122),\n",
       " ('Villebon_Sur_Yvette', 0.5570637583732605),\n",
       " ('Spain', 0.550815761089325),\n",
       " ('Italy', 0.5462924838066101),\n",
       " ('Marseille', 0.5372346639633179),\n",
       " ('Switzerland', 0.5364957451820374)]"
      ]
     },
     "execution_count": 25,
     "metadata": {},
     "output_type": "execute_result"
    }
   ],
   "source": [
    "vec = glove_vectors['Germany']-glove_vectors['Berlin']+glove_vectors['Paris']\n",
    "glove_vectors.most_similar([vec])"
   ]
  },
  {
   "cell_type": "code",
   "execution_count": 27,
   "metadata": {
    "colab": {
     "base_uri": "https://localhost:8080/"
    },
    "id": "6cIwxgj05AUu",
    "outputId": "42c56ab4-0244-458c-be10-81edc8ff292e"
   },
   "outputs": [
    {
     "data": {
      "text/plain": [
       "[('Delhi', 0.7607876062393188),\n",
       " ('India', 0.7546477913856506),\n",
       " ('Haryana', 0.6704527735710144),\n",
       " ('Kolkata', 0.6515370607376099),\n",
       " ('Hyderabad', 0.6513314247131348),\n",
       " ('Uttar_Pradesh', 0.6438483595848083),\n",
       " ('NEW_DELHI', 0.6347569227218628),\n",
       " ('Andhra_Pradesh', 0.6346529126167297),\n",
       " ('Chennai', 0.6248441934585571),\n",
       " ('Chandigarh', 0.6227700710296631)]"
      ]
     },
     "execution_count": 27,
     "metadata": {},
     "output_type": "execute_result"
    }
   ],
   "source": [
    "vec = glove_vectors['Germany']-glove_vectors['Berlin']+glove_vectors['Delhi']\n",
    "glove_vectors.most_similar([vec])"
   ]
  },
  {
   "cell_type": "code",
   "execution_count": 30,
   "metadata": {
    "colab": {
     "base_uri": "https://localhost:8080/"
    },
    "id": "-y6z4sQQ2CX0",
    "outputId": "472af17b-492f-4eed-88c1-d9190a15b437"
   },
   "outputs": [
    {
     "data": {
      "text/plain": [
       "[('woman', 0.948119044303894),\n",
       " ('man', 0.9308565258979797),\n",
       " ('teenage_girl', 0.721599280834198),\n",
       " ('girl', 0.7193813323974609),\n",
       " ('teenager', 0.6853229403495789),\n",
       " ('boy', 0.6776923537254333),\n",
       " ('teen_ager', 0.5814452767372131),\n",
       " ('lady', 0.5798472762107849),\n",
       " ('teenaged_girl', 0.5797287225723267),\n",
       " ('person', 0.5755369663238525)]"
      ]
     },
     "execution_count": 30,
     "metadata": {},
     "output_type": "execute_result"
    }
   ],
   "source": [
    "vec = glove_vectors['man']+glove_vectors['woman']\n",
    "glove_vectors.most_similar([vec])"
   ]
  },
  {
   "cell_type": "code",
   "execution_count": null,
   "metadata": {
    "id": "jXAWA9Y62Caq"
   },
   "outputs": [],
   "source": []
  }
 ],
 "metadata": {
  "accelerator": "GPU",
  "colab": {
   "gpuType": "T4",
   "provenance": []
  },
  "kernelspec": {
   "display_name": "Python 3 (ipykernel)",
   "language": "python",
   "name": "python3"
  },
  "language_info": {
   "codemirror_mode": {
    "name": "ipython",
    "version": 3
   },
   "file_extension": ".py",
   "mimetype": "text/x-python",
   "name": "python",
   "nbconvert_exporter": "python",
   "pygments_lexer": "ipython3",
   "version": "3.11.4"
  }
 },
 "nbformat": 4,
 "nbformat_minor": 1
}
