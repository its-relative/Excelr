{
 "cells": [
  {
   "cell_type": "code",
   "execution_count": 4,
   "metadata": {},
   "outputs": [
    {
     "name": "stdout",
     "output_type": "stream",
     "text": [
      "0.9907834101382489 0.6783919597989949 0.9019607843137255 0.974468085106383 0.8413793103448275 0.8553719008264463\n"
     ]
    }
   ],
   "source": [
    "def F1(P,R):\n",
    "    return (2*P*R)/(P+R)\n",
    "\n",
    "def Prec(P):\n",
    "    return P\n",
    "\n",
    "def Recall(R):\n",
    "    return R\n",
    "\n",
    "f1 = F1(215/219,215/215)\n",
    "f2 = F1(135/187,135/211)\n",
    "f3 = F1(368/419,368/397)\n",
    "f4 = F1(458/479,458/461)\n",
    "f5 = F1(183/198,183/237)\n",
    "f6 = F1(414/498,414/470)\n",
    "\n",
    "print(f1,f2,f3,f4,f5,f6)"
   ]
  },
  {
   "cell_type": "code",
   "execution_count": 17,
   "metadata": {},
   "outputs": [],
   "source": [
    "import pandas as pd\n",
    "from scipy.stats import pearsonr\n",
    "\n",
    "data = [1, 3, 6, 10, 15]\n",
    "index = [89, 85, 79, 73, 64]\n",
    "\n",
    "x = pd.DataFrame({'A': data,\"B\":index},)\n",
    "x.columns = list(\"AB\")\n"
   ]
  },
  {
   "cell_type": "code",
   "execution_count": 35,
   "metadata": {},
   "outputs": [
    {
     "name": "stdout",
     "output_type": "stream",
     "text": [
      "Pearson correlation coefficient: -0.998906107238672\n",
      "P-value: 4.342348812497578e-05\n"
     ]
    }
   ],
   "source": [
    "import pandas as pd\n",
    "from scipy.stats import pearsonr\n",
    "\n",
    "data = [1, 3, 6, 10, 15]\n",
    "index = [89, 85, 79, 73, 64]\n",
    "\n",
    "x = pd.DataFrame({'A': data, 'B': index})\n",
    "x.columns = list(\"AB\")\n",
    "\n",
    "# Select specific columns\n",
    "selected_cols = x[[\"A\", \"B\"]]\n",
    "\n",
    "# Calculate Pearson correlation coefficient and p-value\n",
    "correlation_coefficient, p_value = pearsonr(selected_cols['A'], selected_cols['B'])\n",
    "\n",
    "print(f\"Pearson correlation coefficient: {correlation_coefficient}\")\n",
    "print(f\"P-value: {p_value}\")\n"
   ]
  }
 ],
 "metadata": {
  "kernelspec": {
   "display_name": "Python 3",
   "language": "python",
   "name": "python3"
  },
  "language_info": {
   "codemirror_mode": {
    "name": "ipython",
    "version": 3
   },
   "file_extension": ".py",
   "mimetype": "text/x-python",
   "name": "python",
   "nbconvert_exporter": "python",
   "pygments_lexer": "ipython3",
   "version": "3.10.12"
  }
 },
 "nbformat": 4,
 "nbformat_minor": 2
}
