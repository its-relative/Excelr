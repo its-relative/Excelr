{
 "cells": [
  {
   "cell_type": "code",
   "execution_count": null,
   "metadata": {},
   "outputs": [],
   "source": [
    "x = [i**2 for i in range(2,100,2)]\n",
    "print(x)"
   ]
  },
  {
   "cell_type": "code",
   "execution_count": null,
   "metadata": {},
   "outputs": [],
   "source": [
    "x = [*range(2,101)]"
   ]
  },
  {
   "cell_type": "code",
   "execution_count": null,
   "metadata": {},
   "outputs": [],
   "source": [
    "y = list(map(lambda y : y**2, x))"
   ]
  },
  {
   "cell_type": "code",
   "execution_count": null,
   "metadata": {},
   "outputs": [],
   "source": [
    "y"
   ]
  },
  {
   "cell_type": "code",
   "execution_count": null,
   "metadata": {},
   "outputs": [],
   "source": [
    "def prime_finder(n):\n",
    "    for i in range(2,int(n**0.5)+1):\n",
    "        if n % i == 0:\n",
    "            return \"not prime\"\n",
    "        else:\n",
    "            return \"prime\"\n",
    "    \n",
    "prime_finder(4)"
   ]
  },
  {
   "cell_type": "code",
   "execution_count": null,
   "metadata": {},
   "outputs": [],
   "source": [
    "def prime_finder(n):\n",
    "    if n <= 1:\n",
    "        return \"not prime\"\n",
    "\n",
    "    for i in range(2, int(n**0.5) + 1):\n",
    "        if n % i == 0:\n",
    "            return \"not prime\"\n",
    "\n",
    "    return \"prime\"\n",
    "\n",
    "\n",
    "prime_finder(2)"
   ]
  },
  {
   "cell_type": "code",
   "execution_count": null,
   "metadata": {},
   "outputs": [],
   "source": [
    "import numpy as np\n",
    "random = np.random.randint(100,200)"
   ]
  },
  {
   "cell_type": "code",
   "execution_count": 3,
   "metadata": {},
   "outputs": [
    {
     "name": "stdout",
     "output_type": "stream",
     "text": [
      "Enter the multiplication of all these numbers: 176 117 190\n",
      "correct 3912480\n",
      "Bravo\n",
      "Let's go again.\n",
      "Enter 'q' to quit\n",
      "Enter the multiplication of all these numbers: 149 137 191\n",
      "correct 3898883\n",
      "Bravo\n",
      "Let's go again.\n",
      "Enter 'q' to quit\n",
      "Enter the multiplication of all these numbers: 111 183 115\n",
      "correct 2335995\n",
      "Exiting the program.\n"
     ]
    }
   ],
   "source": [
    "import numpy as np\n",
    "\n",
    "while True:\n",
    "    random_numbers = []\n",
    "    for i in range(3):\n",
    "        random_numbers.append(np.random.randint(100, 200))\n",
    "    \n",
    "    print(\"Enter the multiplication of all these numbers:\", random_numbers[0], random_numbers[1], random_numbers[2])\n",
    "    print(\"correct\", random_numbers[0]*random_numbers[1]*random_numbers[2])\n",
    "    n = input()\n",
    "    \n",
    "    if n.lower() == \"q\":\n",
    "        break\n",
    "    \n",
    "    try:\n",
    "        if int(n) == random_numbers[0] * random_numbers[1] * random_numbers[2]:\n",
    "            print(\"Bravo\")\n",
    "        else:\n",
    "            print(\"Not correct\")\n",
    "        print(\"Let's go again.\")\n",
    "        print(\"Enter 'q' to quit\")\n",
    "    except ValueError:\n",
    "        print(\"Invalid input. Please enter a valid number or 'q' to quit.\")\n",
    "\n",
    "print(\"Exiting the program.\")\n",
    "\n"
   ]
  },
  {
   "cell_type": "code",
   "execution_count": null,
   "metadata": {},
   "outputs": [],
   "source": [
    "196*161*105\n"
   ]
  },
  {
   "cell_type": "code",
   "execution_count": 2,
   "metadata": {},
   "outputs": [
    {
     "name": "stdout",
     "output_type": "stream",
     "text": [
      "[0, 1, 1, 2, 3, 5, 8, 13, 21, 34, 55, 89, 144, 233, 377]\n"
     ]
    }
   ],
   "source": [
    "def fib(n):\n",
    "    if n == 0 or n == 1:\n",
    "        return n\n",
    "    else:\n",
    "        return fib(n-1) + fib(n-2)\n",
    "n = int(input(\"Enter the number till you want fib series?\"))\n",
    "fib_series = []    \n",
    "for i in range(n):\n",
    "    fib_series.append(fib(i))\n",
    "\n",
    "print(fib_series)"
   ]
  },
  {
   "cell_type": "code",
   "execution_count": 20,
   "metadata": {},
   "outputs": [],
   "source": [
    "# given n number of words\n",
    "words = \"We noted your details will update you before the project starts, it might take around 10 - 15 days to start the project.You will receive the course completion certificate in the next 5 days.\"\n",
    "# for i, word in enumerate(words):\n",
    "    # words[word] = count(word)\n",
    "word = {word.lower(): list(set(words.split())).count(word.lower()) for word in set(words.split())}"
   ]
  },
  {
   "cell_type": "code",
   "execution_count": 21,
   "metadata": {},
   "outputs": [
    {
     "data": {
      "text/plain": [
       "{'days.': 1,\n",
       " 'days': 1,\n",
       " 'course': 1,\n",
       " '15': 1,\n",
       " 'will': 1,\n",
       " 'to': 1,\n",
       " 'the': 1,\n",
       " 'project.you': 0,\n",
       " 'certificate': 1,\n",
       " 'before': 1,\n",
       " 'take': 1,\n",
       " 'start': 1,\n",
       " 'details': 1,\n",
       " 'next': 1,\n",
       " 'completion': 1,\n",
       " 'in': 1,\n",
       " 'update': 1,\n",
       " '-': 1,\n",
       " 'it': 1,\n",
       " 'project': 1,\n",
       " 'noted': 1,\n",
       " '10': 1,\n",
       " 'receive': 1,\n",
       " 'you': 1,\n",
       " 'your': 1,\n",
       " 'might': 1,\n",
       " 'we': 0,\n",
       " 'starts,': 1,\n",
       " '5': 1,\n",
       " 'around': 1}"
      ]
     },
     "execution_count": 21,
     "metadata": {},
     "output_type": "execute_result"
    }
   ],
   "source": [
    "word"
   ]
  },
  {
   "cell_type": "code",
   "execution_count": null,
   "metadata": {},
   "outputs": [],
   "source": []
  }
 ],
 "metadata": {
  "kernelspec": {
   "display_name": "Python 3",
   "language": "python",
   "name": "python3"
  },
  "language_info": {
   "codemirror_mode": {
    "name": "ipython",
    "version": 3
   },
   "file_extension": ".py",
   "mimetype": "text/x-python",
   "name": "python",
   "nbconvert_exporter": "python",
   "pygments_lexer": "ipython3",
   "version": "3.10.12"
  }
 },
 "nbformat": 4,
 "nbformat_minor": 2
}
