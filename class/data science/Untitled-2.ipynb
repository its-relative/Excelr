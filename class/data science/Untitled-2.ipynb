{
 "cells": [
  {
   "cell_type": "code",
   "execution_count": 4,
   "metadata": {},
   "outputs": [
    {
     "name": "stdout",
     "output_type": "stream",
     "text": [
      "CPU times: user 1e+03 ns, sys: 0 ns, total: 1e+03 ns\n",
      "Wall time: 2.15 µs\n"
     ]
    },
    {
     "data": {
      "text/plain": [
       "8641969"
      ]
     },
     "execution_count": 4,
     "metadata": {},
     "output_type": "execute_result"
    }
   ],
   "source": [
    "%time\n",
    "def get_pattern_sum(s):\n",
    "    # n = int(input())\n",
    "\n",
    "    # sum_of = []\n",
    "    # sumed_value = 0\n",
    "    # for i in range(1,s+1):\n",
    "    #     # sum_of.append(int)\n",
    "    #     # sum_of.append(int(str(s)*i))\n",
    "        # sumed_value += int(str(s)*i)\n",
    "    list_of_ints = [int(str(s)*i) for i in range(1,s+1)]\n",
    "    return sum(list_of_ints)\n",
    "    # return sumed_value\n",
    "\n",
    "N = int(input())\n",
    "get_pattern_sum(N)\n",
    "\n",
    "# n = int(input())\n",
    "\n",
    "# for i in range(1,n+1):\n",
    "#     print(str(n)*i)\n"
   ]
  },
  {
   "cell_type": "markdown",
   "metadata": {},
   "source": [
    "### Better solutions\n"
   ]
  },
  {
   "cell_type": "code",
   "execution_count": 33,
   "metadata": {},
   "outputs": [],
   "source": [
    "def sum_of(s):\n",
    "    return sum([int(str(s)*i)] for i in range())"
   ]
  },
  {
   "cell_type": "markdown",
   "metadata": {},
   "source": [
    "Operator overloading"
   ]
  },
  {
   "cell_type": "code",
   "execution_count": 36,
   "metadata": {},
   "outputs": [
    {
     "name": "stdout",
     "output_type": "stream",
     "text": [
      "classofsummer\n"
     ]
    },
    {
     "data": {
      "text/plain": [
       "8"
      ]
     },
     "execution_count": 36,
     "metadata": {},
     "output_type": "execute_result"
    }
   ],
   "source": [
    "print(\"class\"+\"of\"+\"summer\")\n",
    "\n",
    "# and\n",
    "3+5\n",
    "\n",
    "# as the + operator appears to be different"
   ]
  },
  {
   "cell_type": "code",
   "execution_count": 37,
   "metadata": {},
   "outputs": [],
   "source": [
    "# def get_sum(n):\n",
    "    # if n > 0 and i <= n:\n",
    "        \n",
    "    #     return int(str(n)*i)"
   ]
  },
  {
   "cell_type": "code",
   "execution_count": 40,
   "metadata": {},
   "outputs": [
    {
     "name": "stdout",
     "output_type": "stream",
     "text": [
      "CPU times: user 9 µs, sys: 2 µs, total: 11 µs\n",
      "Wall time: 11.7 µs\n"
     ]
    },
    {
     "data": {
      "text/plain": [
       "'hskepaS'"
      ]
     },
     "execution_count": 40,
     "metadata": {},
     "output_type": "execute_result"
    }
   ],
   "source": [
    "%%time\n",
    "def reverser(s):\n",
    "    return s[::-1]\n",
    "\n",
    "\n",
    "\n",
    "the_string = \"Sapeksh\"\n",
    "reverser(the_string)"
   ]
  },
  {
   "cell_type": "code",
   "execution_count": 69,
   "metadata": {},
   "outputs": [
    {
     "name": "stdout",
     "output_type": "stream",
     "text": [
      "CPU times: user 13 µs, sys: 2 µs, total: 15 µs\n",
      "Wall time: 16.7 µs\n"
     ]
    },
    {
     "data": {
      "text/plain": [
       "'hskepaS'"
      ]
     },
     "execution_count": 69,
     "metadata": {},
     "output_type": "execute_result"
    }
   ],
   "source": [
    "%%time\n",
    "def reverser_2(s):\n",
    "    # for i in nge(len(s)):\n",
    "    #     print\n",
    "    list_of_string = [s[i] for i in range(len(s)-1,-1,-1)]\n",
    "    return ''.join(list_of_string)\n",
    "\n",
    "string = \"Sapeksh\"\n",
    "reverser_2(string)\n",
    "\n"
   ]
  },
  {
   "cell_type": "code",
   "execution_count": 71,
   "metadata": {},
   "outputs": [
    {
     "name": "stdout",
     "output_type": "stream",
     "text": [
      "CPU times: user 20 µs, sys: 0 ns, total: 20 µs\n",
      "Wall time: 21.9 µs\n"
     ]
    },
    {
     "data": {
      "text/plain": [
       "'hskepaS'"
      ]
     },
     "execution_count": 71,
     "metadata": {},
     "output_type": "execute_result"
    }
   ],
   "source": [
    "%%time\n",
    "def ulta(s):\n",
    "    res = '' \n",
    "    for i in s:\n",
    "        res = i + res\n",
    "    return res\n",
    "\n",
    "ulta(\"Sapeksh\")"
   ]
  },
  {
   "cell_type": "code",
   "execution_count": 77,
   "metadata": {},
   "outputs": [
    {
     "name": "stdout",
     "output_type": "stream",
     "text": [
      "CPU times: user 12 µs, sys: 0 ns, total: 12 µs\n",
      "Wall time: 14.3 µs\n"
     ]
    },
    {
     "data": {
      "text/plain": [
       "'east the in rises Sun'"
      ]
     },
     "execution_count": 77,
     "metadata": {},
     "output_type": "execute_result"
    }
   ],
   "source": [
    "%%time\n",
    "\n",
    "# WAPF that takes a sentence and reverses the order of the words.\n",
    "\n",
    "\n",
    "def reverser_sentence(s):\n",
    "    return \" \".join(s.split()[::-1])\n",
    "\n",
    "# s\n",
    "sample = \"Sun rises in the east\"\n",
    "reverser_sentence(sample)\n"
   ]
  },
  {
   "cell_type": "code",
   "execution_count": 94,
   "metadata": {},
   "outputs": [
    {
     "name": "stdout",
     "output_type": "stream",
     "text": [
      "CPU times: user 1 µs, sys: 0 ns, total: 1 µs\n",
      "Wall time: 2.62 µs\n"
     ]
    },
    {
     "data": {
      "text/plain": [
       "False"
      ]
     },
     "execution_count": 94,
     "metadata": {},
     "output_type": "execute_result"
    }
   ],
   "source": [
    "# WAPF that takes a list(li) and number(n) and check if the sum is eqaul to n .\n",
    "\n",
    "%time\n",
    "\n",
    "def check_sum(l,n):\n",
    "    s = False\n",
    "    for i in range(len(l)):\n",
    "        if (n-i) in l and (i+ (n-i)) == n :\n",
    "            s = True\n",
    "    return s\n",
    "\n",
    "n = 134\n",
    "li = [1,2,3,4,5,6,7]\n",
    "check_sum(li,n)"
   ]
  },
  {
   "cell_type": "code",
   "execution_count": 97,
   "metadata": {},
   "outputs": [
    {
     "name": "stdout",
     "output_type": "stream",
     "text": [
      "CPU times: user 1e+03 ns, sys: 1 µs, total: 2 µs\n",
      "Wall time: 3.58 µs\n"
     ]
    },
    {
     "data": {
      "text/plain": [
       "[12, 24, 36, 48, 60, 72]"
      ]
     },
     "execution_count": 97,
     "metadata": {},
     "output_type": "execute_result"
    }
   ],
   "source": [
    "# WAPF \n",
    "\n",
    "# def ele_sum(l1,l2):\n",
    "#     summed = []\n",
    "#     for i in range(len(l1)):\n",
    "#         summed.append(l1[i]+l2[i])\n",
    "\n",
    "#     return summed\n",
    "%time\n",
    "\n",
    "def ele_sum(l1,l2):\n",
    "    summed = [l1[i]+l2[i] for i in range(len(l1))]\n",
    "    return summed\n",
    "sample_input1 = [1,2,3,4,5,6]\n",
    "sample_input2 = [11,22,33,44,55,66]\n",
    "\n",
    "ele_sum(sample_input1,sample_input2)\n",
    "\n"
   ]
  }
 ],
 "metadata": {
  "kernelspec": {
   "display_name": "Python 3",
   "language": "python",
   "name": "python3"
  },
  "language_info": {
   "codemirror_mode": {
    "name": "ipython",
    "version": 3
   },
   "file_extension": ".py",
   "mimetype": "text/x-python",
   "name": "python",
   "nbconvert_exporter": "python",
   "pygments_lexer": "ipython3",
   "version": "3.10.12"
  }
 },
 "nbformat": 4,
 "nbformat_minor": 2
}
