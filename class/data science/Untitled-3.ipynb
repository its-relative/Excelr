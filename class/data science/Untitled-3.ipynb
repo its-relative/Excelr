{
 "cells": [
  {
   "cell_type": "markdown",
   "metadata": {},
   "source": [
    "### WAPF that counts vowels in the sentence"
   ]
  },
  {
   "cell_type": "code",
   "execution_count": 7,
   "metadata": {},
   "outputs": [
    {
     "data": {
      "text/plain": [
       "0"
      ]
     },
     "execution_count": 7,
     "metadata": {},
     "output_type": "execute_result"
    }
   ],
   "source": [
    "\n",
    "\n",
    "def vow_counter(s):\n",
    "\n",
    "    vowels = [\"a\",\"e\",\"i\",\"o\",\"u\"]\n",
    "    counter = 0\n",
    "    for i in list(s.lower()):\n",
    "        if i in vowels:\n",
    "            counter += 1\n",
    "    return counter\n",
    "\n",
    "s = input()\n",
    "vow_counter(s)"
   ]
  },
  {
   "cell_type": "code",
   "execution_count": 12,
   "metadata": {},
   "outputs": [
    {
     "data": {
      "text/plain": [
       "3"
      ]
     },
     "execution_count": 12,
     "metadata": {},
     "output_type": "execute_result"
    }
   ],
   "source": [
    "def vowel_counter(sent):\n",
    "    return len([char for char in sent if char.lower() in [\"a\",\"e\",\"i\",\"o\",\"u\"]])\n",
    "\n",
    "vowel_counter(\"Sky is blue\")\n"
   ]
  },
  {
   "cell_type": "code",
   "execution_count": 13,
   "metadata": {},
   "outputs": [],
   "source": [
    "def get_vowel(s):\n",
    "    vowels = [\"a\",\"e\",\"i\",\"o\",\"u\"]\n",
    "    count = 0\n",
    "    for char in sent:\n",
    "        if char.lower() in vowels:\n",
    "            count = count+1\n",
    "    return count"
   ]
  },
  {
   "cell_type": "markdown",
   "metadata": {},
   "source": [
    "WAPF that returns a dictionary of vowles and their occurence pairs "
   ]
  },
  {
   "cell_type": "code",
   "execution_count": 17,
   "metadata": {},
   "outputs": [
    {
     "data": {
      "text/plain": [
       "{'a': 2, 'e': 4, 'i': 1, 'o': 2, 'u': 1}"
      ]
     },
     "execution_count": 17,
     "metadata": {},
     "output_type": "execute_result"
    }
   ],
   "source": [
    "def vow_dict(s):\n",
    "    return {i:s.lower().count(i) for i in [\"a\",\"e\",\"i\",\"o\",\"u\"]}\n",
    "\n",
    "s = \"Random Sentence in your page\"\n",
    "vow_dict(s)"
   ]
  },
  {
   "cell_type": "code",
   "execution_count": 18,
   "metadata": {},
   "outputs": [
    {
     "ename": "IndentationError",
     "evalue": "expected an indented block after 'if' statement on line 9 (1399369781.py, line 10)",
     "output_type": "error",
     "traceback": [
      "\u001b[0;36m  Cell \u001b[0;32mIn[18], line 10\u001b[0;36m\u001b[0m\n\u001b[0;31m    value.append(key[i])\u001b[0m\n\u001b[0m    ^\u001b[0m\n\u001b[0;31mIndentationError\u001b[0m\u001b[0;31m:\u001b[0m expected an indented block after 'if' statement on line 9\n"
     ]
    }
   ],
   "source": [
    "def vowel_dictionary(s):\n",
    "    key = []\n",
    "    value = []\n",
    "    my_dict = {}\n",
    "    for i in range(len(s)):\n",
    "        key = i\n",
    "        occ = 0\n",
    "        for j in range(len(s)):\n",
    "            if s[j] in  [\"a\",\"e\",\"i\",\"o\",\"u\"]:\n",
    "            value.append(key[i])\n",
    "    return "
   ]
  },
  {
   "cell_type": "code",
   "execution_count": 21,
   "metadata": {},
   "outputs": [
    {
     "data": {
      "text/plain": [
       "{'a': 6, 'i': 1}"
      ]
     },
     "execution_count": 21,
     "metadata": {},
     "output_type": "execute_result"
    }
   ],
   "source": [
    "def get_vw_dict(sent):\n",
    "    vw_dict = {}\n",
    "    vowels  = [\"a\",\"e\",\"i\",\"o\",\"u\"]\n",
    "    for char in sent:\n",
    "        if char.lower() in vowels:\n",
    "            if char.lower() not in vw_dict.keys():\n",
    "                vw_dict[char.lower()] = 1\n",
    "\n",
    "            else:\n",
    "                vw_dict[char.lower()]  = vw_dict[char.lower()] + 1\n",
    "\n",
    "    return vw_dict\n",
    "\n",
    "get_vw_dict('asasasdasdasfdgidajscnsc')"
   ]
  },
  {
   "cell_type": "code",
   "execution_count": 28,
   "metadata": {},
   "outputs": [
    {
     "data": {
      "text/plain": [
       "['a', 'i', 'e']"
      ]
     },
     "execution_count": 28,
     "metadata": {},
     "output_type": "execute_result"
    }
   ],
   "source": [
    "def max_vw_dict(sent):\n",
    "    vw_dict = {}\n",
    "    vowels  = [\"a\",\"e\",\"i\",\"o\",\"u\"]\n",
    "    \n",
    "    for char in sent:\n",
    "        if char.lower() in vowels:\n",
    "            if char.lower() not in vw_dict.keys():\n",
    "                vw_dict[char.lower()] = 1\n",
    "\n",
    "            else:\n",
    "                vw_dict[char.lower()]  = vw_dict[char.lower()] + 1\n",
    "    values = list(vw_dict.values())\n",
    "    values.sort()\n",
    "    max_val = values[-1]\n",
    "\n",
    "    for key, val in vw_dict.items():\n",
    "        if val == max_val:\n",
    "            return key\n",
    "    \n",
    "    # counter = 0\n",
    "    # for i in range(len(vw_dict)):\n",
    "    #     my_dict = {}\n",
    "    #     if counter >= vw_dict[i]:\n",
    "    #         counter += 1\n",
    "    #         my_dict[i] \n",
    "\n",
    "    return my_dict\n",
    "\n",
    "max_vw_dict('asasasdasdasfdgidajscnsc')\n",
    "\n",
    "max_vw_dict(\"chat gpt is great\")\n",
    "sentences = [\"sapeksh u dumb or what\", \"Aditya is sitting next to me\", \"GPT is not the newest model\"]\n",
    "list(map(max_vw_dict,sentences))\n"
   ]
  }
 ],
 "metadata": {
  "kernelspec": {
   "display_name": "Python 3",
   "language": "python",
   "name": "python3"
  },
  "language_info": {
   "codemirror_mode": {
    "name": "ipython",
    "version": 3
   },
   "file_extension": ".py",
   "mimetype": "text/x-python",
   "name": "python",
   "nbconvert_exporter": "python",
   "pygments_lexer": "ipython3",
   "version": "3.10.12"
  }
 },
 "nbformat": 4,
 "nbformat_minor": 2
}
