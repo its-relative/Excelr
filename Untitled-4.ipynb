{
 "cells": [
  {
   "cell_type": "markdown",
   "metadata": {},
   "source": [
    "WAPF that takes a number(n) and returns a dictionary of below pattern:\n",
    "\n",
    "sample input = 6\n",
    "sample_output = [1:1,2:4,3:9,4:16,5:25,6:36]\n"
   ]
  },
  {
   "cell_type": "code",
   "execution_count": 4,
   "metadata": {},
   "outputs": [
    {
     "data": {
      "text/plain": [
       "{1: 1, 2: 4, 3: 9, 4: 16, 5: 25, 6: 36}"
      ]
     },
     "execution_count": 4,
     "metadata": {},
     "output_type": "execute_result"
    }
   ],
   "source": [
    "def pattern_printer(n):\n",
    "    key = []\n",
    "    value = []\n",
    "    for i in range(1,n+1):\n",
    "        key.append(i)\n",
    "        value.append(i**2)\n",
    "    dictionary = {}\n",
    "    for key, value in zip(key,value):\n",
    "        dictionary[key] = value\n",
    "    return dictionary\n",
    "\n",
    "n = 6\n",
    "pattern_printer(n)\n"
   ]
  },
  {
   "cell_type": "markdown",
   "metadata": {},
   "source": [
    "Better Solution"
   ]
  },
  {
   "cell_type": "code",
   "execution_count": 9,
   "metadata": {},
   "outputs": [
    {
     "data": {
      "text/plain": [
       "{1: 1, 2: 4, 3: 9, 4: 16, 5: 25, 6: 36}"
      ]
     },
     "execution_count": 9,
     "metadata": {},
     "output_type": "execute_result"
    }
   ],
   "source": [
    "def dic_filler(n):\n",
    "    last_dict = {}\n",
    "    for i in range(1,n+1):\n",
    "        last_dict[i] = i**2\n",
    "    return last_dict\n",
    "\n",
    "n = int(input())\n",
    "dic_filler(n)"
   ]
  },
  {
   "cell_type": "markdown",
   "metadata": {},
   "source": [
    "Dictionary Comprehension"
   ]
  },
  {
   "cell_type": "code",
   "execution_count": 10,
   "metadata": {},
   "outputs": [
    {
     "data": {
      "text/plain": [
       "{1: 1, 2: 4, 3: 9, 4: 16, 5: 25, 6: 36, 7: 49}"
      ]
     },
     "execution_count": 10,
     "metadata": {},
     "output_type": "execute_result"
    }
   ],
   "source": [
    "def get_squares_dict(n):\n",
    "    return {i : i**2 for i in range(1,n+1)}\n",
    "\n",
    "get_squares_dict(7)"
   ]
  }
 ],
 "metadata": {
  "kernelspec": {
   "display_name": "Python 3",
   "language": "python",
   "name": "python3"
  },
  "language_info": {
   "codemirror_mode": {
    "name": "ipython",
    "version": 3
   },
   "file_extension": ".py",
   "mimetype": "text/x-python",
   "name": "python",
   "nbconvert_exporter": "python",
   "pygments_lexer": "ipython3",
   "version": "3.10.12"
  }
 },
 "nbformat": 4,
 "nbformat_minor": 2
}
